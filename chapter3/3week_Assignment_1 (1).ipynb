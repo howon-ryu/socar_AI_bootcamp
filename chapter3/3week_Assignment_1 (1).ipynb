{
  "nbformat": 4,
  "nbformat_minor": 0,
  "metadata": {
    "colab": {
      "name": "3week_Assignment 1.ipynb",
      "provenance": [],
      "collapsed_sections": []
    },
    "kernelspec": {
      "name": "python3",
      "display_name": "Python 3"
    },
    "language_info": {
      "name": "python"
    }
  },
  "cells": [
    {
      "cell_type": "code",
      "source": [
        "from sklearn.metrics import mean_squared_error\n",
        "from sklearn.metrics import mean_absolute_error\n",
        "from sklearn import ensemble\n",
        "\n",
        "from sklearn.datasets import load_breast_cancer\n",
        "from sklearn.preprocessing import MinMaxScaler\n",
        "from numpy import array\n",
        "from sklearn.preprocessing import StandardScaler\n",
        "from sklearn.decomposition import PCA\n",
        "\n",
        "from sklearn.manifold import MDS\n",
        "from matplotlib.colors import ListedColormap, BoundaryNorm\n",
        "import matplotlib.patches as mpatches\n",
        "import pandas as pd\n",
        "import numpy as np\n",
        "import seaborn as sn\n",
        "import matplotlib.pyplot as plt\n",
        "%matplotlib inline"
      ],
      "metadata": {
        "id": "4KIhZZnDK8U3"
      },
      "execution_count": null,
      "outputs": []
    },
    {
      "cell_type": "markdown",
      "source": [
        "##[3주차] Assignment1\n",
        "\n",
        "> * 1. 데이터셋(전처리)<br>\n",
        " [api_eta, distance, hour, driver_lat, pickup_lng, driver_lng, month]열은 포함!<br> [id, created_at_kst, dirver_id, pickup_gu, pickup_lat] 열은 제외!\n",
        ">* 2. 최적 파라미터 찾기<br>\n",
        "predefinedsplit을 이용한 grid_search 함수를 사용하여 최적의 파라미터를 찾는다<br>\n",
        "          {'n_estimators': 300,\n",
        "          'max_depth': 5,\n",
        "          'min_samples_leaf': 100,\n",
        "          'min_samples_split': 14,\n",
        "          'learning_rate': 0.02,\n",
        "          'loss': 'ls'}\n",
        ">* 3. mse 오차 구하기<br>\n",
        "GradientBoosting 부스팅 방식을 통한 mse 오차 구하기<br>\n",
        "최종:\n",
        "{The mean squared error (MSE) on test set: 8.186362}"
      ],
      "metadata": {
        "id": "3TCTvV8ENy3D"
      }
    },
    {
      "cell_type": "code",
      "execution_count": null,
      "metadata": {
        "colab": {
          "base_uri": "https://localhost:8080/"
        },
        "id": "LFp00zVsKhqB",
        "outputId": "c720924e-bef1-466b-995a-5857011115c8"
      },
      "outputs": [
        {
          "output_type": "stream",
          "name": "stdout",
          "text": [
            "Mounted at /content/drive\n",
            "     ATA  api_eta  month  pickup_lng  driver_lng  driver_lat  hour   distance\n",
            "0   6.13     8.32     12  126.913779  126.913082   37.527922    22  44.521977\n",
            "1   5.37     3.05     12  127.089688  127.084503   37.498104    11   3.989066\n",
            "2   6.27     5.00      7  126.972378  126.972541   37.576297    19   4.814699\n",
            "3  10.52     8.47     12  126.974081  127.001186   37.526196    21  77.341173\n",
            "4  12.45     6.65      7  127.025221  127.026035   37.512465    12  14.888851\n"
          ]
        },
        {
          "output_type": "stream",
          "name": "stderr",
          "text": [
            "/usr/local/lib/python3.7/dist-packages/ipykernel_launcher.py:11: FutureWarning: In a future version of pandas all arguments of DataFrame.drop except for the argument 'labels' will be keyword-only\n",
            "  # This is added back by InteractiveShellApp.init_path()\n",
            "/usr/local/lib/python3.7/dist-packages/ipykernel_launcher.py:28: FutureWarning: In a future version of pandas all arguments of DataFrame.drop except for the argument 'labels' will be keyword-only\n",
            "/usr/local/lib/python3.7/dist-packages/ipykernel_launcher.py:30: FutureWarning: In a future version of pandas all arguments of DataFrame.drop except for the argument 'labels' will be keyword-only\n"
          ]
        }
      ],
      "source": [
        "# 최종 hw3 제출 \n",
        "# mse = 8.186362\n",
        "from google.colab import drive\n",
        "drive.mount('/content/drive')\n",
        "tada_eta = pd.read_excel('/content/drive/MyDrive/Colab Notebooks/data/tada_eta.xlsx')\n",
        "# 데이터 전처리 \n",
        "# api_eta, distance, hour, driver_lat, pickup_lng, driver_lng, month를 포함!\n",
        "# id, created_at_kst, dirver_id, pickup_gu, pickup_lat 은 제외!\n",
        "tada_eta['distance'] = ((tada_eta['pickup_lat']-tada_eta['driver_lat'])**2 + (tada_eta['pickup_lng']-tada_eta['driver_lng'])**2)*100000\n",
        "tada_eta = tada_eta.drop(['id','created_at_kst', 'driver_id','pickup_gu','pickup_lat'],1)\n",
        "\n",
        "tada_eta = tada_eta.sample(frac=1,random_state=0).reset_index(drop=True)\n",
        "\n",
        "#print(tada_eta.head())\n",
        "\n",
        "train = tada_eta[:12000]\n",
        "test = tada_eta[12000:]\n",
        "#인풋 변수와 타켓변수 drop!\n",
        "x_train = np.asarray(train.drop('ATA',1))\n",
        "y_train = np.asarray(train['ATA'])\n",
        "x_test = np.asarray(test.drop('ATA',1))\n",
        "y_test = np.asarray(test['ATA'])\n",
        "# print(x_train)\n",
        "# print(y_train)\n",
        "eta_features = [x for i,x in enumerate(tada_eta.columns) if i!=0]\n"
      ]
    },
    {
      "cell_type": "code",
      "source": [
        "# # grid search(cv =3) 를 이용한 모델에서의 최적 파라미터 구하기\n",
        "# # {'learning_rate': 0.05, 'loss': 'ls', 'max_depth': 2, 'min_samples_leaf': 20, 'n_estimators': 200}\n",
        "# from sklearn import ensemble\n",
        "# from sklearn.metrics import mean_squared_error\n",
        "# from sklearn.model_selection import GridSearchCV\n",
        "# #{'learning_rate': 0.05, 'loss': 'ls', 'max_depth': 2, 'min_samples_leaf': 20, 'n_estimators': 200}\n",
        "# # Hyperparameter 조합 정의\n",
        "# param_grids= {\n",
        "#     'n_estimators':[100,200,300],\n",
        "#     'max_depth':[2,3,4,5],\n",
        "#     'min_samples_leaf':[1,20,100],\n",
        "#     'learning_rate':[0.01,0.02,0.05],\n",
        "#     'loss':['ls']\n",
        "# }\n",
        "# # grid search 모델 정의, 학습 및 model selection\n",
        "# grid_search = GridSearchCV(estimator=ensemble.GradientBoostingRegressor(),\n",
        "#                            param_grid=param_grids,\n",
        "#                            cv=3, \n",
        "#                            n_jobs=-1, \n",
        "#                            scoring='neg_mean_squared_error', \n",
        "#                            verbose=2)\n",
        "# grid_search.fit(x_train, y_train)\n",
        "# print(grid_search.best_params_)\n",
        "# reg = ensemble.GradientBoostingRegressor(**grid_search.best_params_)"
      ],
      "metadata": {
        "colab": {
          "base_uri": "https://localhost:8080/"
        },
        "id": "DSRrRgWSL44P",
        "outputId": "5c0c7e83-6b61-44d9-a933-8dfa0e9ef1cd"
      },
      "execution_count": null,
      "outputs": [
        {
          "output_type": "stream",
          "name": "stdout",
          "text": [
            "Fitting 3 folds for each of 108 candidates, totalling 324 fits\n"
          ]
        },
        {
          "output_type": "stream",
          "name": "stderr",
          "text": [
            "/usr/local/lib/python3.7/dist-packages/sklearn/ensemble/_gb.py:290: FutureWarning: The loss 'ls' was deprecated in v1.0 and will be removed in version 1.2. Use 'squared_error' which is equivalent.\n",
            "  FutureWarning,\n"
          ]
        },
        {
          "output_type": "stream",
          "name": "stdout",
          "text": [
            "{'learning_rate': 0.05, 'loss': 'ls', 'max_depth': 2, 'min_samples_leaf': 20, 'n_estimators': 300}\n"
          ]
        }
      ]
    },
    {
      "cell_type": "code",
      "source": [
        "# #  PredefinedSplit 을 이용한 최적 파라미터 구하기\n",
        "# from sklearn.model_selection import GridSearchCV\n",
        "# from sklearn.model_selection import PredefinedSplit\n",
        "\n",
        "# # train set과 test set의 input과 output를 각각 이어 붙여서 X,y를 정의\n",
        "# X = np.concatenate((x_train,x_test), axis=0)\n",
        "# y = np.concatenate((y_train,y_test), axis=0)\n",
        "# # print(X,y)\n",
        "# # 전체 데이터 X에서 training data에 해당하는 index는 -1, test data에 해당하는 index는 0이 되도록,\n",
        "# # 여기서는 [-1, -1, ... , -1, 0, 0, ... , 0] 같은 형태의 1차원 배열 test fold와 predefined split을 정의\n",
        "\n",
        "# pds = PredefinedSplit(test_fold=[-1]*len(x_train)+[0]*len(x_test))\n",
        "# # print(len(x_train))\n",
        "# # print(len(x_test))\n",
        "# # print(len(y_train))\n",
        "# print(pds)\n",
        "# # grid search 모델 정의, 학습 및 model selection\n",
        "# grid_search = GridSearchCV(estimator=ensemble.GradientBoostingRegressor(),param_grid=param_grids,cv = pds,n_jobs=-1,scoring='neg_mean_squared_error',verbose=2)\n",
        "# grid_search.fit(X, y)\n",
        "# print(grid_search.best_params_)"
      ],
      "metadata": {
        "colab": {
          "base_uri": "https://localhost:8080/"
        },
        "id": "knLN8u4WLuhy",
        "outputId": "9064e52b-95a5-4ec7-bb10-119168baca04"
      },
      "execution_count": null,
      "outputs": [
        {
          "output_type": "stream",
          "name": "stdout",
          "text": [
            "PredefinedSplit(test_fold=array([-1, -1, ...,  0,  0]))\n",
            "Fitting 1 folds for each of 108 candidates, totalling 108 fits\n"
          ]
        },
        {
          "output_type": "stream",
          "name": "stderr",
          "text": [
            "/usr/local/lib/python3.7/dist-packages/sklearn/ensemble/_gb.py:290: FutureWarning: The loss 'ls' was deprecated in v1.0 and will be removed in version 1.2. Use 'squared_error' which is equivalent.\n",
            "  FutureWarning,\n"
          ]
        },
        {
          "output_type": "stream",
          "name": "stdout",
          "text": [
            "{'learning_rate': 0.02, 'loss': 'ls', 'max_depth': 5, 'min_samples_leaf': 100, 'n_estimators': 300}\n"
          ]
        }
      ]
    },
    {
      "cell_type": "code",
      "source": [
        "# 최종 hw3 제출 \n",
        "params = {'n_estimators': 300,\n",
        "          'max_depth': 5,\n",
        "          'min_samples_leaf': 100,\n",
        "          'min_samples_split': 14,\n",
        "          'learning_rate': 0.02,\n",
        "          'loss': 'ls'} # 'squared_error'와 같음\n",
        "reg = ensemble.GradientBoostingRegressor(**params)\n",
        "reg.fit(x_train, y_train)\n",
        "mse = mean_squared_error(y_test, reg.predict(x_test))\n",
        "# mae = mean_absolute_error(y_test, reg.predict(x_test))\n",
        "print(\"The mean squared error (MSE) on test set: {:.6f}\".format(mse))\n",
        "#print(\"The mean absolute error (MAE) on test set: {:.6f}\".format(mae))\n",
        "\n",
        "feature_importance = reg.feature_importances_\n",
        "sorted_idx = np.argsort(feature_importance)\n",
        "pos = np.arange(sorted_idx.shape[0]) + .5\n",
        "plt.figure()\n",
        "plt.barh(pos, feature_importance[sorted_idx], align='center')\n",
        "plt.yticks(pos, np.array(eta_features)[sorted_idx])\n",
        "plt.title('Feature Importance (MDI)')\n",
        "plt.show()"
      ],
      "metadata": {
        "colab": {
          "base_uri": "https://localhost:8080/",
          "height": 355
        },
        "id": "XfyBcu3iK2PZ",
        "outputId": "66c1ad64-4c8f-42be-80b5-f645fe3b1d24"
      },
      "execution_count": null,
      "outputs": [
        {
          "output_type": "stream",
          "name": "stderr",
          "text": [
            "/usr/local/lib/python3.7/dist-packages/sklearn/ensemble/_gb.py:290: FutureWarning: The loss 'ls' was deprecated in v1.0 and will be removed in version 1.2. Use 'squared_error' which is equivalent.\n",
            "  FutureWarning,\n"
          ]
        },
        {
          "output_type": "stream",
          "name": "stdout",
          "text": [
            "The mean squared error (MSE) on test set: 8.186362\n"
          ]
        },
        {
          "output_type": "display_data",
          "data": {
            "text/plain": [
              "<Figure size 432x288 with 1 Axes>"
            ],
            "image/png": "[encoded data removed]"
          },
          "metadata": {
            "needs_background": "light"
          }
        }
      ]
    },
    {
      "cell_type": "code",
      "source": [
        ""
      ],
      "metadata": {
        "id": "_5XFMO35LpGO"
      },
      "execution_count": null,
      "outputs": []
    }
  ]
}