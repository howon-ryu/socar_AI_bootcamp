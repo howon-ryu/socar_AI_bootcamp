{
  "nbformat": 4,
  "nbformat_minor": 0,
  "metadata": {
    "accelerator": "GPU",
    "colab": {
      "name": "Lab 6.CNN MNIST Classification.ipynb",
      "provenance": [],
      "collapsed_sections": []
    },
    "kernelspec": {
      "name": "python3",
      "display_name": "Python 3"
    },
    "widgets": {
      "application/vnd.jupyter.widget-state+json": {
        "498e5e1939b84b5b947e1a22fe72fa5f": {
          "model_module": "@jupyter-widgets/controls",
          "model_name": "HBoxModel",
          "model_module_version": "1.5.0",
          "state": {
            "_dom_classes": [],
            "_model_module": "@jupyter-widgets/controls",
            "_model_module_version": "1.5.0",
            "_model_name": "HBoxModel",
            "_view_count": null,
            "_view_module": "@jupyter-widgets/controls",
            "_view_module_version": "1.5.0",
            "_view_name": "HBoxView",
            "box_style": "",
            "children": [
              "IPY_MODEL_359be790d43546c98c18df93dc2be175",
              "IPY_MODEL_5c552fb486064184a7d062efbe6497ba",
              "IPY_MODEL_a2c49a60a75549759f85da2a4d56154e"
            ],
            "layout": "IPY_MODEL_4626db7c06784df4b3d3bbcd7cc0a324"
          }
        },
        "359be790d43546c98c18df93dc2be175": {
          "model_module": "@jupyter-widgets/controls",
          "model_name": "HTMLModel",
          "model_module_version": "1.5.0",
          "state": {
            "_dom_classes": [],
            "_model_module": "@jupyter-widgets/controls",
            "_model_module_version": "1.5.0",
            "_model_name": "HTMLModel",
            "_view_count": null,
            "_view_module": "@jupyter-widgets/controls",
            "_view_module_version": "1.5.0",
            "_view_name": "HTMLView",
            "description": "",
            "description_tooltip": null,
            "layout": "IPY_MODEL_7ae8ade56d5c4c23805d309ecb9e9210",
            "placeholder": "​",
            "style": "IPY_MODEL_fe9c8cc9e7ac4d83886aa8093277cfd8",
            "value": ""
          }
        },
        "5c552fb486064184a7d062efbe6497ba": {
          "model_module": "@jupyter-widgets/controls",
          "model_name": "FloatProgressModel",
          "model_module_version": "1.5.0",
          "state": {
            "_dom_classes": [],
            "_model_module": "@jupyter-widgets/controls",
            "_model_module_version": "1.5.0",
            "_model_name": "FloatProgressModel",
            "_view_count": null,
            "_view_module": "@jupyter-widgets/controls",
            "_view_module_version": "1.5.0",
            "_view_name": "ProgressView",
            "bar_style": "success",
            "description": "",
            "description_tooltip": null,
            "layout": "IPY_MODEL_3a7a453758c04ac8b3cc32958ec45e1a",
            "max": 182040794,
            "min": 0,
            "orientation": "horizontal",
            "style": "IPY_MODEL_6f23add6858f4133b903a4f6530fc3d3",
            "value": 182040794
          }
        },
        "a2c49a60a75549759f85da2a4d56154e": {
          "model_module": "@jupyter-widgets/controls",
          "model_name": "HTMLModel",
          "model_module_version": "1.5.0",
          "state": {
            "_dom_classes": [],
            "_model_module": "@jupyter-widgets/controls",
            "_model_module_version": "1.5.0",
            "_model_name": "HTMLModel",
            "_view_count": null,
            "_view_module": "@jupyter-widgets/controls",
            "_view_module_version": "1.5.0",
            "_view_name": "HTMLView",
            "description": "",
            "description_tooltip": null,
            "layout": "IPY_MODEL_bc73bcd0a5f946e38061cfc83a7cf964",
            "placeholder": "​",
            "style": "IPY_MODEL_041adb5dfacd4621a0da5c41ec5f0def",
            "value": " 182041600/? [00:06&lt;00:00, 39136678.58it/s]"
          }
        },
        "4626db7c06784df4b3d3bbcd7cc0a324": {
          "model_module": "@jupyter-widgets/base",
          "model_name": "LayoutModel",
          "model_module_version": "1.2.0",
          "state": {
            "_model_module": "@jupyter-widgets/base",
            "_model_module_version": "1.2.0",
            "_model_name": "LayoutModel",
            "_view_count": null,
            "_view_module": "@jupyter-widgets/base",
            "_view_module_version": "1.2.0",
            "_view_name": "LayoutView",
            "align_content": null,
            "align_items": null,
            "align_self": null,
            "border": null,
            "bottom": null,
            "display": null,
            "flex": null,
            "flex_flow": null,
            "grid_area": null,
            "grid_auto_columns": null,
            "grid_auto_flow": null,
            "grid_auto_rows": null,
            "grid_column": null,
            "grid_gap": null,
            "grid_row": null,
            "grid_template_areas": null,
            "grid_template_columns": null,
            "grid_template_rows": null,
            "height": null,
            "justify_content": null,
            "justify_items": null,
            "left": null,
            "margin": null,
            "max_height": null,
            "max_width": null,
            "min_height": null,
            "min_width": null,
            "object_fit": null,
            "object_position": null,
            "order": null,
            "overflow": null,
            "overflow_x": null,
            "overflow_y": null,
            "padding": null,
            "right": null,
            "top": null,
            "visibility": null,
            "width": null
          }
        },
        "7ae8ade56d5c4c23805d309ecb9e9210": {
          "model_module": "@jupyter-widgets/base",
          "model_name": "LayoutModel",
          "model_module_version": "1.2.0",
          "state": {
            "_model_module": "@jupyter-widgets/base",
            "_model_module_version": "1.2.0",
            "_model_name": "LayoutModel",
            "_view_count": null,
            "_view_module": "@jupyter-widgets/base",
            "_view_module_version": "1.2.0",
            "_view_name": "LayoutView",
            "align_content": null,
            "align_items": null,
            "align_self": null,
            "border": null,
            "bottom": null,
            "display": null,
            "flex": null,
            "flex_flow": null,
            "grid_area": null,
            "grid_auto_columns": null,
            "grid_auto_flow": null,
            "grid_auto_rows": null,
            "grid_column": null,
            "grid_gap": null,
            "grid_row": null,
            "grid_template_areas": null,
            "grid_template_columns": null,
            "grid_template_rows": null,
            "height": null,
            "justify_content": null,
            "justify_items": null,
            "left": null,
            "margin": null,
            "max_height": null,
            "max_width": null,
            "min_height": null,
            "min_width": null,
            "object_fit": null,
            "object_position": null,
            "order": null,
            "overflow": null,
            "overflow_x": null,
            "overflow_y": null,
            "padding": null,
            "right": null,
            "top": null,
            "visibility": null,
            "width": null
          }
        },
        "fe9c8cc9e7ac4d83886aa8093277cfd8": {
          "model_module": "@jupyter-widgets/controls",
          "model_name": "DescriptionStyleModel",
          "model_module_version": "1.5.0",
          "state": {
            "_model_module": "@jupyter-widgets/controls",
            "_model_module_version": "1.5.0",
            "_model_name": "DescriptionStyleModel",
            "_view_count": null,
            "_view_module": "@jupyter-widgets/base",
            "_view_module_version": "1.2.0",
            "_view_name": "StyleView",
            "description_width": ""
          }
        },
        "3a7a453758c04ac8b3cc32958ec45e1a": {
          "model_module": "@jupyter-widgets/base",
          "model_name": "LayoutModel",
          "model_module_version": "1.2.0",
          "state": {
            "_model_module": "@jupyter-widgets/base",
            "_model_module_version": "1.2.0",
            "_model_name": "LayoutModel",
            "_view_count": null,
            "_view_module": "@jupyter-widgets/base",
            "_view_module_version": "1.2.0",
            "_view_name": "LayoutView",
            "align_content": null,
            "align_items": null,
            "align_self": null,
            "border": null,
            "bottom": null,
            "display": null,
            "flex": null,
            "flex_flow": null,
            "grid_area": null,
            "grid_auto_columns": null,
            "grid_auto_flow": null,
            "grid_auto_rows": null,
            "grid_column": null,
            "grid_gap": null,
            "grid_row": null,
            "grid_template_areas": null,
            "grid_template_columns": null,
            "grid_template_rows": null,
            "height": null,
            "justify_content": null,
            "justify_items": null,
            "left": null,
            "margin": null,
            "max_height": null,
            "max_width": null,
            "min_height": null,
            "min_width": null,
            "object_fit": null,
            "object_position": null,
            "order": null,
            "overflow": null,
            "overflow_x": null,
            "overflow_y": null,
            "padding": null,
            "right": null,
            "top": null,
            "visibility": null,
            "width": null
          }
        },
        "6f23add6858f4133b903a4f6530fc3d3": {
          "model_module": "@jupyter-widgets/controls",
          "model_name": "ProgressStyleModel",
          "model_module_version": "1.5.0",
          "state": {
            "_model_module": "@jupyter-widgets/controls",
            "_model_module_version": "1.5.0",
            "_model_name": "ProgressStyleModel",
            "_view_count": null,
            "_view_module": "@jupyter-widgets/base",
            "_view_module_version": "1.2.0",
            "_view_name": "StyleView",
            "bar_color": null,
            "description_width": ""
          }
        },
        "bc73bcd0a5f946e38061cfc83a7cf964": {
          "model_module": "@jupyter-widgets/base",
          "model_name": "LayoutModel",
          "model_module_version": "1.2.0",
          "state": {
            "_model_module": "@jupyter-widgets/base",
            "_model_module_version": "1.2.0",
            "_model_name": "LayoutModel",
            "_view_count": null,
            "_view_module": "@jupyter-widgets/base",
            "_view_module_version": "1.2.0",
            "_view_name": "LayoutView",
            "align_content": null,
            "align_items": null,
            "align_self": null,
            "border": null,
            "bottom": null,
            "display": null,
            "flex": null,
            "flex_flow": null,
            "grid_area": null,
            "grid_auto_columns": null,
            "grid_auto_flow": null,
            "grid_auto_rows": null,
            "grid_column": null,
            "grid_gap": null,
            "grid_row": null,
            "grid_template_areas": null,
            "grid_template_columns": null,
            "grid_template_rows": null,
            "height": null,
            "justify_content": null,
            "justify_items": null,
            "left": null,
            "margin": null,
            "max_height": null,
            "max_width": null,
            "min_height": null,
            "min_width": null,
            "object_fit": null,
            "object_position": null,
            "order": null,
            "overflow": null,
            "overflow_x": null,
            "overflow_y": null,
            "padding": null,
            "right": null,
            "top": null,
            "visibility": null,
            "width": null
          }
        },
        "041adb5dfacd4621a0da5c41ec5f0def": {
          "model_module": "@jupyter-widgets/controls",
          "model_name": "DescriptionStyleModel",
          "model_module_version": "1.5.0",
          "state": {
            "_model_module": "@jupyter-widgets/controls",
            "_model_module_version": "1.5.0",
            "_model_name": "DescriptionStyleModel",
            "_view_count": null,
            "_view_module": "@jupyter-widgets/base",
            "_view_module_version": "1.2.0",
            "_view_name": "StyleView",
            "description_width": ""
          }
        },
        "f9447087c01e488bab5176a8f95bcba4": {
          "model_module": "@jupyter-widgets/controls",
          "model_name": "HBoxModel",
          "model_module_version": "1.5.0",
          "state": {
            "_dom_classes": [],
            "_model_module": "@jupyter-widgets/controls",
            "_model_module_version": "1.5.0",
            "_model_name": "HBoxModel",
            "_view_count": null,
            "_view_module": "@jupyter-widgets/controls",
            "_view_module_version": "1.5.0",
            "_view_name": "HBoxView",
            "box_style": "",
            "children": [
              "IPY_MODEL_312080c896e241cb954e9b053c603107",
              "IPY_MODEL_d8891c5eff8342e682b07847004aa27d",
              "IPY_MODEL_8ce33e24e937499cb84cdf26ca33859d"
            ],
            "layout": "IPY_MODEL_203e4f78f46e4a02b568f2b6c596b20e"
          }
        },
        "312080c896e241cb954e9b053c603107": {
          "model_module": "@jupyter-widgets/controls",
          "model_name": "HTMLModel",
          "model_module_version": "1.5.0",
          "state": {
            "_dom_classes": [],
            "_model_module": "@jupyter-widgets/controls",
            "_model_module_version": "1.5.0",
            "_model_name": "HTMLModel",
            "_view_count": null,
            "_view_module": "@jupyter-widgets/controls",
            "_view_module_version": "1.5.0",
            "_view_name": "HTMLView",
            "description": "",
            "description_tooltip": null,
            "layout": "IPY_MODEL_b1410e7f685b4cd9b24875a2cfb10069",
            "placeholder": "​",
            "style": "IPY_MODEL_7db128cddf8b45f1810d8fabc5a6ad09",
            "value": ""
          }
        },
        "d8891c5eff8342e682b07847004aa27d": {
          "model_module": "@jupyter-widgets/controls",
          "model_name": "FloatProgressModel",
          "model_module_version": "1.5.0",
          "state": {
            "_dom_classes": [],
            "_model_module": "@jupyter-widgets/controls",
            "_model_module_version": "1.5.0",
            "_model_name": "FloatProgressModel",
            "_view_count": null,
            "_view_module": "@jupyter-widgets/controls",
            "_view_module_version": "1.5.0",
            "_view_name": "ProgressView",
            "bar_style": "success",
            "description": "",
            "description_tooltip": null,
            "layout": "IPY_MODEL_a122eb4fd7ca4a108b5e64aad5487ce0",
            "max": 64275384,
            "min": 0,
            "orientation": "horizontal",
            "style": "IPY_MODEL_abedc31a810a45b0aa57e9f27406f7ed",
            "value": 64275384
          }
        },
        "8ce33e24e937499cb84cdf26ca33859d": {
          "model_module": "@jupyter-widgets/controls",
          "model_name": "HTMLModel",
          "model_module_version": "1.5.0",
          "state": {
            "_dom_classes": [],
            "_model_module": "@jupyter-widgets/controls",
            "_model_module_version": "1.5.0",
            "_model_name": "HTMLModel",
            "_view_count": null,
            "_view_module": "@jupyter-widgets/controls",
            "_view_module_version": "1.5.0",
            "_view_name": "HTMLView",
            "description": "",
            "description_tooltip": null,
            "layout": "IPY_MODEL_aea150f1b8e743208627bf4563694610",
            "placeholder": "​",
            "style": "IPY_MODEL_a94bc5a67a9d47498e1a4cdf6b5e302a",
            "value": " 64275456/? [00:03&lt;00:00, 38341790.42it/s]"
          }
        },
        "203e4f78f46e4a02b568f2b6c596b20e": {
          "model_module": "@jupyter-widgets/base",
          "model_name": "LayoutModel",
          "model_module_version": "1.2.0",
          "state": {
            "_model_module": "@jupyter-widgets/base",
            "_model_module_version": "1.2.0",
            "_model_name": "LayoutModel",
            "_view_count": null,
            "_view_module": "@jupyter-widgets/base",
            "_view_module_version": "1.2.0",
            "_view_name": "LayoutView",
            "align_content": null,
            "align_items": null,
            "align_self": null,
            "border": null,
            "bottom": null,
            "display": null,
            "flex": null,
            "flex_flow": null,
            "grid_area": null,
            "grid_auto_columns": null,
            "grid_auto_flow": null,
            "grid_auto_rows": null,
            "grid_column": null,
            "grid_gap": null,
            "grid_row": null,
            "grid_template_areas": null,
            "grid_template_columns": null,
            "grid_template_rows": null,
            "height": null,
            "justify_content": null,
            "justify_items": null,
            "left": null,
            "margin": null,
            "max_height": null,
            "max_width": null,
            "min_height": null,
            "min_width": null,
            "object_fit": null,
            "object_position": null,
            "order": null,
            "overflow": null,
            "overflow_x": null,
            "overflow_y": null,
            "padding": null,
            "right": null,
            "top": null,
            "visibility": null,
            "width": null
          }
        },
        "b1410e7f685b4cd9b24875a2cfb10069": {
          "model_module": "@jupyter-widgets/base",
          "model_name": "LayoutModel",
          "model_module_version": "1.2.0",
          "state": {
            "_model_module": "@jupyter-widgets/base",
            "_model_module_version": "1.2.0",
            "_model_name": "LayoutModel",
            "_view_count": null,
            "_view_module": "@jupyter-widgets/base",
            "_view_module_version": "1.2.0",
            "_view_name": "LayoutView",
            "align_content": null,
            "align_items": null,
            "align_self": null,
            "border": null,
            "bottom": null,
            "display": null,
            "flex": null,
            "flex_flow": null,
            "grid_area": null,
            "grid_auto_columns": null,
            "grid_auto_flow": null,
            "grid_auto_rows": null,
            "grid_column": null,
            "grid_gap": null,
            "grid_row": null,
            "grid_template_areas": null,
            "grid_template_columns": null,
            "grid_template_rows": null,
            "height": null,
            "justify_content": null,
            "justify_items": null,
            "left": null,
            "margin": null,
            "max_height": null,
            "max_width": null,
            "min_height": null,
            "min_width": null,
            "object_fit": null,
            "object_position": null,
            "order": null,
            "overflow": null,
            "overflow_x": null,
            "overflow_y": null,
            "padding": null,
            "right": null,
            "top": null,
            "visibility": null,
            "width": null
          }
        },
        "7db128cddf8b45f1810d8fabc5a6ad09": {
          "model_module": "@jupyter-widgets/controls",
          "model_name": "DescriptionStyleModel",
          "model_module_version": "1.5.0",
          "state": {
            "_model_module": "@jupyter-widgets/controls",
            "_model_module_version": "1.5.0",
            "_model_name": "DescriptionStyleModel",
            "_view_count": null,
            "_view_module": "@jupyter-widgets/base",
            "_view_module_version": "1.2.0",
            "_view_name": "StyleView",
            "description_width": ""
          }
        },
        "a122eb4fd7ca4a108b5e64aad5487ce0": {
          "model_module": "@jupyter-widgets/base",
          "model_name": "LayoutModel",
          "model_module_version": "1.2.0",
          "state": {
            "_model_module": "@jupyter-widgets/base",
            "_model_module_version": "1.2.0",
            "_model_name": "LayoutModel",
            "_view_count": null,
            "_view_module": "@jupyter-widgets/base",
            "_view_module_version": "1.2.0",
            "_view_name": "LayoutView",
            "align_content": null,
            "align_items": null,
            "align_self": null,
            "border": null,
            "bottom": null,
            "display": null,
            "flex": null,
            "flex_flow": null,
            "grid_area": null,
            "grid_auto_columns": null,
            "grid_auto_flow": null,
            "grid_auto_rows": null,
            "grid_column": null,
            "grid_gap": null,
            "grid_row": null,
            "grid_template_areas": null,
            "grid_template_columns": null,
            "grid_template_rows": null,
            "height": null,
            "justify_content": null,
            "justify_items": null,
            "left": null,
            "margin": null,
            "max_height": null,
            "max_width": null,
            "min_height": null,
            "min_width": null,
            "object_fit": null,
            "object_position": null,
            "order": null,
            "overflow": null,
            "overflow_x": null,
            "overflow_y": null,
            "padding": null,
            "right": null,
            "top": null,
            "visibility": null,
            "width": null
          }
        },
        "abedc31a810a45b0aa57e9f27406f7ed": {
          "model_module": "@jupyter-widgets/controls",
          "model_name": "ProgressStyleModel",
          "model_module_version": "1.5.0",
          "state": {
            "_model_module": "@jupyter-widgets/controls",
            "_model_module_version": "1.5.0",
            "_model_name": "ProgressStyleModel",
            "_view_count": null,
            "_view_module": "@jupyter-widgets/base",
            "_view_module_version": "1.2.0",
            "_view_name": "StyleView",
            "bar_color": null,
            "description_width": ""
          }
        },
        "aea150f1b8e743208627bf4563694610": {
          "model_module": "@jupyter-widgets/base",
          "model_name": "LayoutModel",
          "model_module_version": "1.2.0",
          "state": {
            "_model_module": "@jupyter-widgets/base",
            "_model_module_version": "1.2.0",
            "_model_name": "LayoutModel",
            "_view_count": null,
            "_view_module": "@jupyter-widgets/base",
            "_view_module_version": "1.2.0",
            "_view_name": "LayoutView",
            "align_content": null,
            "align_items": null,
            "align_self": null,
            "border": null,
            "bottom": null,
            "display": null,
            "flex": null,
            "flex_flow": null,
            "grid_area": null,
            "grid_auto_columns": null,
            "grid_auto_flow": null,
            "grid_auto_rows": null,
            "grid_column": null,
            "grid_gap": null,
            "grid_row": null,
            "grid_template_areas": null,
            "grid_template_columns": null,
            "grid_template_rows": null,
            "height": null,
            "justify_content": null,
            "justify_items": null,
            "left": null,
            "margin": null,
            "max_height": null,
            "max_width": null,
            "min_height": null,
            "min_width": null,
            "object_fit": null,
            "object_position": null,
            "order": null,
            "overflow": null,
            "overflow_x": null,
            "overflow_y": null,
            "padding": null,
            "right": null,
            "top": null,
            "visibility": null,
            "width": null
          }
        },
        "a94bc5a67a9d47498e1a4cdf6b5e302a": {
          "model_module": "@jupyter-widgets/controls",
          "model_name": "DescriptionStyleModel",
          "model_module_version": "1.5.0",
          "state": {
            "_model_module": "@jupyter-widgets/controls",
            "_model_module_version": "1.5.0",
            "_model_name": "DescriptionStyleModel",
            "_view_count": null,
            "_view_module": "@jupyter-widgets/base",
            "_view_module_version": "1.2.0",
            "_view_name": "StyleView",
            "description_width": ""
          }
        }
      }
    },
    "language_info": {
      "name": "python"
    }
  },
  "cells": [
    {
      "cell_type": "markdown",
      "metadata": {
        "id": "nDkE0N2TpAUr"
      },
      "source": [
        "# Lab 6. CNN MNIST classification\n",
        "\n",
        "### 이번 실습은 Convolutional Neural Network 모델을 만들고 이를 이용해 MNIST dataset으로 classification을 진행해보며 CNN의 사용방법을 익혀보겠습니다.\n",
        "\n",
        "### 이 과정에서 CNN을 사용할 때와 MLP를 사용할 때 어떤 점이 다른지 비교해보면서 CNN의 특징을 살펴보도록 하겠습니다.\n",
        "\n",
        "### 또한 흑백 이미지 데이터였던 MNIST 뿐만 아니라 칼라 이미지 데이터인 SVHN 데이터를 사용해서 본격적인 이미지 데이터 활용을 해보도록 하겠습니다.\n",
        "\n",
        "\n",
        "\n"
      ]
    },
    {
      "cell_type": "markdown",
      "metadata": {
        "id": "PkLvy-hKG-VA"
      },
      "source": [
        "### Drive mount and package import"
      ]
    },
    {
      "cell_type": "code",
      "metadata": {
        "colab": {
          "base_uri": "https://localhost:8080/"
        },
        "id": "9TL2a6tGIG9u",
        "outputId": "341fc329-8e0c-4310-b075-67b5d3cabac5"
      },
      "source": [
        "from google.colab import drive\n",
        "drive.mount('/content/drive')"
      ],
      "execution_count": null,
      "outputs": [
        {
          "output_type": "stream",
          "name": "stdout",
          "text": [
            "Mounted at /content/drive\n"
          ]
        }
      ]
    },
    {
      "cell_type": "code",
      "metadata": {
        "id": "hADtuqTop7Wz"
      },
      "source": [
        "import os\n",
        "import time\n",
        "\n",
        "import numpy as np\n",
        "\n",
        "import torch\n",
        "from torch import nn\n",
        "from torch.utils.data import Dataset, DataLoader\n",
        "\n",
        "from torchvision import datasets, transforms\n",
        "\n",
        "import matplotlib.pyplot as plt"
      ],
      "execution_count": null,
      "outputs": []
    },
    {
      "cell_type": "markdown",
      "metadata": {
        "id": "ZhRI3DHpoSY8"
      },
      "source": [
        "## 6-1. Review for the MNIST Dataset"
      ]
    },
    {
      "cell_type": "markdown",
      "metadata": {
        "id": "xPLj8GXIof8u"
      },
      "source": [
        "### Data Prepare"
      ]
    },
    {
      "cell_type": "code",
      "metadata": {
        "id": "XJtAyBYNp6i9"
      },
      "source": [
        "# data 경로 설정 \n",
        "root = os.path.join(os.getcwd(), \"drive\", \"MyDrive\", \"Colab Notebooks\", \"data\")\n",
        "\n",
        "# torchvision 이 제공하는 dataset 불러오기\n",
        "# https://pytorch.org/vision/stable/datasets 에서 class argument 들 확인 가능\n",
        "mnist_train = datasets.MNIST(\n",
        "    root=root,                         # 데이터를 읽어오거나 다운로드 할 경로\n",
        "    train=True,                        # Train data\n",
        "    download=True,                     # 자동으로 root에서 읽어오기 / 혹은 없다면 다운로드\n",
        "    transform=transforms.ToTensor()    # pytorch Tensor 형태의 data로 변환\n",
        ")\n",
        "mnist_test = datasets.MNIST(\n",
        "    root=root, \n",
        "    train=False, \n",
        "    download=True, \n",
        "    transform=transforms.ToTensor()\n",
        ") "
      ],
      "execution_count": null,
      "outputs": []
    },
    {
      "cell_type": "markdown",
      "metadata": {
        "id": "ddsUR49OrfGu"
      },
      "source": [
        "### Train / Val Split"
      ]
    },
    {
      "cell_type": "code",
      "metadata": {
        "id": "PTcWpjfdswLA"
      },
      "source": [
        "# data 와 target(레이블) 를 같이 다루는 Dataset class\n",
        "# idx 를 주면 해당하는 data, target pair 를 transfom 시킨 값을 뱉어냄\n",
        "class mnist_dataset(Dataset):\n",
        "  def __init__(self, data, targets, transform=None, target_transform=None):\n",
        "    super().__init__()\n",
        "\n",
        "    self.data = data\n",
        "    self.targets = targets\n",
        "    self.transform = transform\n",
        "    self.target_transform = target_transform\n",
        "\n",
        "  def __len__(self):\n",
        "    return len(self.data)\n",
        "\n",
        "  def __getitem__(self, idx):\n",
        "    x, y = self.data[idx], self.targets[idx]\n",
        "    if self.transform:\n",
        "      x = self.transform(x)\n",
        "    if self.target_transform:\n",
        "      y = self.target_transform(y)\n",
        "\n",
        "    return x, y"
      ],
      "execution_count": null,
      "outputs": []
    },
    {
      "cell_type": "code",
      "metadata": {
        "id": "LHhxoAKoreoE"
      },
      "source": [
        "# Train dataset을 쪼개서 validation dataset을 만드는 함수\n",
        "# valid_ratio 만큼의 비율의 데이터를 valid data로 만듦\n",
        "def split_train_valid(dataset, valid_ratio=0.1):# 인풋 데이터셋을 받음, valid_ratio=얼마만큼 valid셋으로 뺄껀지\n",
        "  n_valid = int(len(dataset) * valid_ratio)         # valid data 개수\n",
        "  \n",
        "  train_data = np.array(dataset.data[:-n_valid])      # dataset 중에 뒤에서부터 n_valid 개만큼 뺀 나머지를 train data로 만듦\n",
        "  valid_data = np.array(dataset.data[-n_valid:])      # dataset 중에 뒤에서부터 n_valid 개만큼을 valid data로 만듦\n",
        "  train_targets = dataset.targets[:-n_valid]\n",
        "  valid_targets = dataset.targets[-n_valid:]\n",
        "  \n",
        "  # train / valid 로 쪼갠 data, target 들을 pair로 엮어서 다루기 위해 dataset class 로 정의해줌\n",
        "  train = mnist_dataset(data=train_data, targets=train_targets, transform=dataset.transform, target_transform=dataset.target_transform)\n",
        "  valid = mnist_dataset(data=valid_data, targets=valid_targets, transform=dataset.transform, target_transform=dataset.target_transform)\n",
        "\n",
        "  return train, valid"
      ],
      "execution_count": null,
      "outputs": []
    },
    {
      "cell_type": "markdown",
      "source": [
        ""
      ],
      "metadata": {
        "id": "FcskYVdrCFs8"
      }
    },
    {
      "cell_type": "code",
      "metadata": {
        "colab": {
          "base_uri": "https://localhost:8080/"
        },
        "id": "qBGeDla_tK2C",
        "outputId": "5703679c-9c2c-432a-fb53-2a34b065b217"
      },
      "source": [
        "print(mnist_train)      # train/val 로 쪼개기 전 데이터 확인\n",
        "mnist_train, mnist_valid = split_train_valid(dataset=mnist_train)    # torvision dataset에서 불러온 train dataset을 train / val 로 쪼갬\n",
        "\n",
        "# DataLoader 정의 = >데이터를 편하게 불러옴\n",
        "#트레인, 벨리드 , 테스트 나누기\n",
        "train_loader = DataLoader(dataset=mnist_train, batch_size=64, shuffle=True, drop_last=True)    # train 시에는 데이터를 shuffle 해줌\n",
        "valid_loader = DataLoader(dataset=mnist_valid, batch_size=64, shuffle=False, drop_last=True)   \n",
        "test_loader = DataLoader(dataset=mnist_test, batch_size=64, shuffle=False, drop_last=True)"
      ],
      "execution_count": null,
      "outputs": [
        {
          "output_type": "stream",
          "name": "stdout",
          "text": [
            "Dataset MNIST\n",
            "    Number of datapoints: 60000\n",
            "    Root location: /content/drive/MyDrive/Colab Notebooks/data\n",
            "    Split: Train\n",
            "    StandardTransform\n",
            "Transform: ToTensor()\n"
          ]
        }
      ]
    },
    {
      "cell_type": "markdown",
      "metadata": {
        "id": "siZ__GqHrEyW"
      },
      "source": [
        "### Data Check"
      ]
    },
    {
      "cell_type": "code",
      "metadata": {
        "colab": {
          "base_uri": "https://localhost:8080/"
        },
        "id": "mmOYoD2fc0MS",
        "outputId": "30751362-36fa-4fa2-9028-7227377ef633"
      },
      "source": [
        "sample_x, sample_y = mnist_train[0]     # train 데이터 example: x=이미지, y=label\n",
        "print(sample_x.shape) # 체널이 앞에 나옴으로 28by28by1임\n",
        "print(sample_y)"
      ],
      "execution_count": null,
      "outputs": [
        {
          "output_type": "stream",
          "name": "stdout",
          "text": [
            "torch.Size([1, 28, 28])\n",
            "tensor(5)\n"
          ]
        }
      ]
    },
    {
      "cell_type": "code",
      "metadata": {
        "colab": {
          "base_uri": "https://localhost:8080/",
          "height": 593
        },
        "id": "MsiOzufVJ6_y",
        "outputId": "61472b5f-995c-4311-cd33-75f213a27ba5"
      },
      "source": [
        "# train data example visualization\n",
        "fig = plt.figure(figsize=(10, 10))\n",
        "for i in range(9):\n",
        "  img = mnist_train[i][0] #  sample x\n",
        "\n",
        "  ax = fig.add_subplot(3, 3, i+1)\n",
        "  ax.imshow(img.reshape(28, 28), cmap=\"gray\")\n",
        "fig.show()"
      ],
      "execution_count": null,
      "outputs": [
        {
          "output_type": "display_data",
          "data": {
            "text/plain": [
              "<Figure size 720x720 with 9 Axes>"
            ],
            "image/png": "[encoded data removed]"
          },
          "metadata": {
            "needs_background": "light"
          }
        }
      ]
    },
    {
      "cell_type": "markdown",
      "metadata": {
        "id": "A4qMC50XLLaH"
      },
      "source": [
        "## 6-2. CNN Classification\n"
      ]
    },
    {
      "cell_type": "markdown",
      "metadata": {
        "id": "TpP1tyfnvkPv"
      },
      "source": [
        "### Simple CNN Model"
      ]
    },
    {
      "cell_type": "code",
      "metadata": {
        "id": "3EoIDyVCG7lC"
      },
      "source": [
        "## 간단한 CNN Classifier 모델\n",
        "\n",
        "class Lion_MNIST_CNN_Classifier(nn.Module):\n",
        "  def __init__(self, n_class=10):#n_class=>우리가 최종적으로  classification해야하는 숫자가 몇개인지\n",
        "    super().__init__()\n",
        "\n",
        "    ## filter visulaization 을 위해 layer 마다 따로 정의\n",
        "    ## nn.Conv2d : https://pytorch.org/docs/stable/generated/torch.nn.Conv2d\n",
        "    ## nn.Maxpool2d : https://pytorch.org/docs/stable/generated/torch.nn.MaxPool2d\n",
        "    # conv레이어 in_channels => 인풋에서 체널이 얼마나 나왔는지, \n",
        "    # out_channels=> 아웃풋 체널\n",
        "    # kernel_size=> 커널 사이즈 |하지만 여기는 정사각형이기에 커널 사이즈는 하나!\n",
        "    # padding=> 아웃풋 피처의 크기 결정 2=> 양쪽에 두개\n",
        "    self.conv1 = nn.Conv2d(in_channels=1, out_channels=32, kernel_size=5, stride=1, padding=2)\n",
        "    # 학습파라미터 가있기에 conv2와 conv3 등 불러올때 결과가 다 달라짐으로 나누어놓음\n",
        "    self.conv2 = nn.Conv2d(32, 32, 3, stride=1, padding=1)\n",
        "    self.conv3 = nn.Conv2d(32, 32, 3, stride=1, padding=1)\n",
        "    self.relu = nn.ReLU()\n",
        "\n",
        "    self.pool = nn.MaxPool2d(kernel_size=2, stride=2, padding=0)#maxpool레이어\n",
        "    self.flatten = nn.Flatten()\n",
        "    self.fc1 = nn.Linear(3*3*32, 32)\n",
        "    self.fc2 = nn.Linear(32, 10)         # classification을 수행할 label 은 총 10가지\n",
        "\n",
        "\n",
        "    ## nn.Sequential 을 사용하면 더 깔끔하게 network를 정의할 수 있음\n",
        "    # 나중에 크기가 안맞아서 안넘어가게 되면 앞에서 인코딩한게 의미가 없음 그래서 일단 주석 처리\n",
        "    # self.model = nn.Sequential(\n",
        "    #     nn.Conv2d(in_channels=1, out_channels=32, kernel_size=5, stride=1, padding=2),\n",
        "    #     nn.ReLU(),\n",
        "    #     nn.MaxPool2d(kernel_size=2, stride=2, padding=0),\n",
        "    #     nn.Conv2d(32, 32, 3, stride=1, padding=1),\n",
        "    #     nn.ReLU(),\n",
        "    #     nn.MaxPool2d(2, stride=2, padding=0),\n",
        "    #     nn.Conv2d(32, 32, 3, stride=1, padding=1),\n",
        "    #     nn.ReLU(),\n",
        "    #     nn.MaxPool2d(2, stride=2, padding=0),\n",
        "    #     nn.Flatten(),\n",
        "    #     nn.Linear(3*3*32, 32),\n",
        "    #     nn.ReLU(),\n",
        "    #     nn.Linear(32, 10),\n",
        "    # )\n",
        "\n",
        "    \n",
        "  def forward(self, x, visualize_filter=False):\n",
        "    #conv레이어가 작동후 얼마나 바뀌었는지 확인하고 싶으면 visualize_filter를 true로 바꾸면 확인 가능\n",
        "    conv1 = self.conv1(x)\n",
        "    _conv1 = self.pool(self.relu(conv1))\n",
        "    conv2 = self.conv2(_conv1)\n",
        "    _conv2 = self.pool(self.relu(conv2))\n",
        "    conv3 = self.conv3(_conv2)\n",
        "    _conv3 = self.pool(self.relu(conv3))\n",
        "    conv3_vec = self.flatten(_conv3)\n",
        "    fc1 = self.fc1(conv3_vec)\n",
        "    out = self.fc2(self.relu(fc1))\n",
        "\n",
        "    ## nn.Sequential 을 사용할 경우\n",
        "    # out = self.mode(x)\n",
        "\n",
        "    if not visualize_filter:    # 일반적인 경우\n",
        "      return out\n",
        "    else:                       # visualzie_filter = True --> conv filter 가 생긴 것을 보고 싶을 때\n",
        "      return conv1, conv2, conv3,out"
      ],
      "execution_count": null,
      "outputs": []
    },
    {
      "cell_type": "code",
      "metadata": {
        "id": "y16KmiDIX5-D"
      },
      "source": [
        "cnn = Lion_MNIST_CNN_Classifier()"
      ],
      "execution_count": null,
      "outputs": []
    },
    {
      "cell_type": "code",
      "metadata": {
        "colab": {
          "base_uri": "https://localhost:8080/"
        },
        "id": "tnIw7regWSgQ",
        "outputId": "3ba47f49-9a1d-4f36-bcaa-279340626444"
      },
      "source": [
        "## CNN 구조를 확인하기 위한 테스트 데이터\n",
        "#차원 추가로 1/1/28/28 로 됨| 우리가 일반적으로 연산 할때 batch단위로 하는데 이 batch를 맟춰추기 위해서 앞에 1추가\n",
        "sample_x = mnist_valid[0][0].unsqueeze(dim=0)    # unsqeeze : 데이터를 1차원 확장 --> dim 에 해당하는 차원으로\n",
        "print(sample_x.shape)                            # CNN의 input 이 (batch, channels, H, W) 꼴이므로 맞춰주기 위해 (batch=1)로 차원을 확장"
      ],
      "execution_count": null,
      "outputs": [
        {
          "output_type": "stream",
          "name": "stdout",
          "text": [
            "torch.Size([1, 1, 28, 28])\n"
          ]
        }
      ]
    },
    {
      "cell_type": "code",
      "metadata": {
        "colab": {
          "base_uri": "https://localhost:8080/"
        },
        "id": "SgCfUlsVXom0",
        "outputId": "cfae0e9d-a3c6-409d-ea25-664805108ac9"
      },
      "source": [
        "conv1, conv2, conv3,out = cnn(sample_x, visualize_filter=True)# filter 크기를 확인하기 위해 true로!\n",
        "print(conv1.shape, conv2.shape, conv3.shape, out.shape)"
      ],
      "execution_count": null,
      "outputs": [
        {
          "output_type": "stream",
          "name": "stdout",
          "text": [
            "torch.Size([1, 32, 28, 28]) torch.Size([1, 32, 14, 14]) torch.Size([1, 32, 7, 7]) torch.Size([1, 10])\n"
          ]
        }
      ]
    },
    {
      "cell_type": "markdown",
      "metadata": {
        "id": "nIvne0W1akQH"
      },
      "source": [
        "### Training CNN"
      ]
    },
    {
      "cell_type": "code",
      "metadata": {
        "colab": {
          "base_uri": "https://localhost:8080/"
        },
        "id": "Dg_TQUaYx6-q",
        "outputId": "777e5867-51cd-4d75-9fbe-1de901b25974"
      },
      "source": [
        "start_time = time.time()      # 현재 시각을 기록\n",
        "start_time"
      ],
      "execution_count": null,
      "outputs": [
        {
          "output_type": "execute_result",
          "data": {
            "text/plain": [
              "1653485814.7315156"
            ]
          },
          "metadata": {},
          "execution_count": 33
        }
      ]
    },
    {
      "cell_type": "code",
      "metadata": {
        "colab": {
          "base_uri": "https://localhost:8080/"
        },
        "id": "lQa8QHkIySUc",
        "outputId": "3bcb71f5-b45e-4fcd-8b58-3c8455081159"
      },
      "source": [
        "time_interval = time.time() - start_time     # start_time에서 지금까지 얼마나 시간이 흘렀는지를 초로 표현\n",
        "time_interval"
      ],
      "execution_count": null,
      "outputs": [
        {
          "output_type": "execute_result",
          "data": {
            "text/plain": [
              "9.853541612625122"
            ]
          },
          "metadata": {},
          "execution_count": 35
        }
      ]
    },
    {
      "cell_type": "code",
      "metadata": {
        "id": "ZLqeZgGtiZ--"
      },
      "source": [
        "## Trainer class 정의\n",
        "\n",
        "class Trainer(nn.Module):\n",
        "  def __init__(self, model, opt=\"adam\", lr=0.001, has_scheduler=False, device=\"cpu\"):\n",
        "    \"\"\"\n",
        "      Args:\n",
        "        model: 사용할 classification model\n",
        "        n_class: class 개수\n",
        "        opt: optimizer\n",
        "        lr: learning rate\n",
        "        has_scheduler: learning rate scheduler 사용 여부\n",
        "        device: 사용할 device (cpu/cuda)\n",
        "    \"\"\"\n",
        "    super().__init__()\n",
        "\n",
        "    self.model = model                            # class 개수를 input으로 classification model 정의\n",
        "    self.loss = nn.CrossEntropyLoss()             # loss function 정의\n",
        "    \n",
        "    self._get_optimizer(opt=opt.lower(), lr=lr)   # optimizer 정의\n",
        "    self.has_scheduler = has_scheduler            # scheduler 사용여부 \n",
        "    if self.has_scheduler:\n",
        "      self._get_scheduler()\n",
        "\n",
        "    self.device = device                          # 사용할 device\n",
        "\n",
        "  def _get_optimizer(self, opt, lr=0.001):\n",
        "    \"\"\"\n",
        "      Args:\n",
        "        opt: optimizer\n",
        "        lr: learning rate\n",
        "    \"\"\"\n",
        "    if opt == \"sgd\":\n",
        "      self.optimizer = torch.optim.SGD(params=self.model.parameters(), lr=lr)\n",
        "    elif opt == \"adam\":\n",
        "      self.optimizer = torch.optim.Adam(params=self.model.parameters(), lr=lr)\n",
        "    else:\n",
        "      raise ValueError(f\"optimizer {opt} is not supproted\")\n",
        "\n",
        "  def _get_scheduler(self):\n",
        "#     self.scheduler = torch.optim.lr_scheduler.StepLR(optimizer=self.optimizer, step_size=5, gamma=0.5, verbose=True)\n",
        "    self.scheduler = torch.optim.lr_scheduler.LambdaLR(optimizer=self.optimizer, lr_lambda=lambda epoch: 0.95**epoch)\n",
        "\n",
        "  def train(self, train_loader, valid_loader, max_epochs=10, disp_epoch=5):\n",
        "    \"\"\"\n",
        "      네트워크를 학습시키는 함수\n",
        "      Args:\n",
        "        train_loader: 학습에 사용할 train dataloader\n",
        "        valid_loader: validation에 사용할 dataloader\n",
        "        max_epochs: 학습을 진행할 총 epoch 수\n",
        "        disp_epochs: 학습 log를 display 할 epoch 주기\n",
        "    \"\"\"\n",
        "    print(\"===== Train Start =====\")\n",
        "    start_time = time.time()   \n",
        "    history = {\"train_loss\": [], \"train_acc\": [], \"valid_loss\": [], \"valid_acc\": []}\n",
        "    for e in range(max_epochs):\n",
        "      train_loss, train_acc = self._train_epoch(train_loader)\n",
        "      valid_loss, valid_acc = self._valid_epoch(valid_loader)\n",
        "\n",
        "      history[\"train_loss\"].append(train_loss)      # 현재 epoch에서 성능을 history dict에 저장\n",
        "      history[\"train_acc\"].append(train_acc)        #\n",
        "      history[\"valid_loss\"].append(valid_loss)      #\n",
        "      history[\"valid_acc\"].append(valid_acc)        #\n",
        "\n",
        "      if self.has_scheduler:         # scheduler 사용할 경우 step size 조절\n",
        "        self.scheduler.step()\n",
        "      #이 epoch까지 실행을 시키는 동안 시간이 얼마나 걸렸는지 확인\n",
        "      if e % disp_epoch == 0:        # disp_epoch 마다 결과값 출력 \n",
        "        print(f\"Epoch: {e}, train loss: {train_loss:>6f}, train acc: {train_acc:>3f}, valid loss: {valid_loss:>6f}, valid acc: {valid_acc:>3f}, time: {time.time()-start_time:>3f}\")\n",
        "        start_time = time.time()   \n",
        "\n",
        "    self.plot_history(history)       # 그래프 출력\n",
        "\n",
        "  def _train_epoch(self, train_loader):\n",
        "    \"\"\"\n",
        "      model를 training set 한 epoch 만큼 학습시키는 함수\n",
        "      Args:\n",
        "        train_loader: 학습에 사용할 train dataloader\n",
        "      Returns:\n",
        "        training set 한 epoch의 평균 loss, 평균 accuracy\n",
        "    \"\"\"\n",
        "    epoch_loss, epoch_acc = 0, 0\n",
        "    self.model.train()                 # self.model을 train 모드로 전환 --> nn.Module의 내장함수\n",
        "    for (x, y) in train_loader:        # x: data, y:label\n",
        "        \n",
        "      x = x.to(self.device)\n",
        "      y = y.to(self.device)\n",
        "\n",
        "      y_hat = self.model(x)            # model이 예측한 label \n",
        "      loss = self.loss(y_hat, y)       # 그 label을 실제 y와 비교\n",
        "\n",
        "      self.optimizer.zero_grad()       # backwardpass를 통한 network parameter 업데이트\n",
        "      loss.backward()                  # \n",
        "      self.optimizer.step()            # \n",
        "\n",
        "      epoch_loss += loss.to(\"cpu\").item()    \n",
        "      epoch_acc += (y_hat.argmax(1) == y).type(torch.float).to(\"cpu\").mean().item()\n",
        "\n",
        "    epoch_loss /= len(train_loader)  \n",
        "    epoch_acc /= len(train_loader)\n",
        "\n",
        "    return epoch_loss, epoch_acc\n",
        "  \n",
        "  def _valid_epoch(self, valid_loader): \n",
        "    \"\"\"\n",
        "      현재 model의 성능을 validation set에서 측정하는 함수\n",
        "      Args:\n",
        "        valid_loader: 학습에 사용할 valid dataloader\n",
        "      Returns:\n",
        "        validation set 의 평균 loss, 평균 accuracy\n",
        "    \"\"\"\n",
        "    epoch_loss, epoch_acc = 0, 0\n",
        "    self.model.eval()                  # self.model을 eval 모드로 전환 --> nn.Module의 내장함수\n",
        "    with torch.no_grad():              # model에 loss의 gradient를 계산하지 않음\n",
        "                                      # 그래서 valid가 태스트에 영향을 주지 않음\n",
        "      for (x, y) in valid_loader:\n",
        "        x = x.to(self.device)\n",
        "        y = y.to(self.device)\n",
        "\n",
        "        y_hat = self.model(x)\n",
        "        loss = self.loss(y_hat, y)\n",
        "\n",
        "        epoch_loss += loss.to(\"cpu\").item()\n",
        "        epoch_acc += (y_hat.argmax(1) == y).type(torch.float).to(\"cpu\").mean().item()\n",
        "\n",
        "    epoch_loss /= len(valid_loader)\n",
        "    epoch_acc /= len(valid_loader)\n",
        "\n",
        "    return epoch_loss, epoch_acc\n",
        "\n",
        "  def plot_history(self, history):\n",
        "    \"\"\"\n",
        "      history에 저장된 model의 성능을 graph로 plot\n",
        "      Args:\n",
        "        history: dictionary with keys {\"train_loss\", \"train_acc\", \"valid_loss\", \"valid_acc\" }\n",
        "                 각 item 들은 epoch 단위의 성능 history의 list\n",
        "    \"\"\"\n",
        "    fig = plt.figure(figsize=(20, 10))\n",
        "\n",
        "    ax = fig.add_subplot(1, 2, 1)\n",
        "    ax.plot(history[\"train_loss\"], color=\"red\", label=\"train loss\")\n",
        "    ax.plot(history[\"valid_loss\"], color=\"blue\", label=\"valid loss\")\n",
        "    ax.set_title(\"Loss\")\n",
        "    ax.legend()\n",
        "\n",
        "    ax = fig.add_subplot(1, 2, 2)\n",
        "    ax.plot(history[\"train_acc\"], color=\"red\", label=\"train acc\")\n",
        "    ax.plot(history[\"valid_acc\"], color=\"blue\", label=\"valid acc\")\n",
        "    ax.set_title(\"Acc\")\n",
        "    ax.legend()\n",
        "\n",
        "    fig.show()\n",
        "\n",
        "  def test(self, test_loader):\n",
        "    \"\"\"\n",
        "      현재 model의 성능을 test set에서 측정하는 함수\n",
        "      Args:\n",
        "        test_loader: 학습에 사용할 test dataloader\n",
        "      Returns:\n",
        "        test set 의 평균 loss, 평균 accuracy\n",
        "    \"\"\"\n",
        "    print(\"===== Test Start =====\")\n",
        "    start_time = time.time()\n",
        "    epoch_loss, epoch_acc = 0, 0\n",
        "    self.model.eval()                  # self.model을 eval 모드로 전환 --> nn.Module의 내장함수\n",
        "    with torch.no_grad():              # model에 loss의 gradient를 계산하지 않음\n",
        "      for (x, y) in test_loader:\n",
        "        x = x.to(self.device)\n",
        "        y = y.to(self.device)\n",
        "\n",
        "        y_hat = self.model(x)\n",
        "        loss = self.loss(y_hat, y)\n",
        "\n",
        "        epoch_loss += loss.to(\"cpu\").item()\n",
        "        epoch_acc += (y_hat.argmax(1) == y).type(torch.float).to(\"cpu\").mean().item()\n",
        "\n",
        "    epoch_loss /= len(test_loader)\n",
        "    epoch_acc /= len(test_loader)\n",
        "\n",
        "    print(f\"Test loss: {epoch_loss:>6f}, Test acc: {epoch_acc:>3f}, time: {time.time()-start_time:>3f}\")"
      ],
      "execution_count": null,
      "outputs": []
    },
    {
      "cell_type": "code",
      "metadata": {
        "colab": {
          "base_uri": "https://localhost:8080/",
          "height": 620
        },
        "id": "fc5dXkals_29",
        "outputId": "c43b9f5e-378b-46aa-ac3a-dfcdd8f3efaa"
      },
      "source": [
        "device = \"cuda\"\n",
        "cnn = Lion_MNIST_CNN_Classifier(n_class=10)\n",
        "trainer = Trainer(model=cnn, opt=\"adam\", lr=0.001, has_scheduler=False, device=device).to(device)\n",
        "start_time = time.time()\n",
        "trainer.train(train_loader, valid_loader, max_epochs=10, disp_epoch=1)\n",
        "print(f\"Training time : {time.time()-start_time:>3f}\")\n",
        "trainer.test(test_loader)"
      ],
      "execution_count": null,
      "outputs": [
        {
          "output_type": "stream",
          "name": "stdout",
          "text": [
            "===== Train Start =====\n",
            "Epoch: 0, train loss: 0.306775, train acc: 0.902524, valid loss: 0.080352, valid acc: 0.975638, time: 7.378652\n",
            "Epoch: 1, train loss: 0.073503, train acc: 0.976683, valid loss: 0.070564, valid acc: 0.977655, time: 3.940647\n",
            "Epoch: 2, train loss: 0.054970, train acc: 0.982744, valid loss: 0.046739, valid acc: 0.985551, time: 3.895812\n",
            "Epoch: 3, train loss: 0.043695, train acc: 0.985839, valid loss: 0.044267, valid acc: 0.987567, time: 3.968643\n",
            "Epoch: 4, train loss: 0.036117, train acc: 0.988453, valid loss: 0.037279, valid acc: 0.989415, time: 3.951085\n",
            "Epoch: 5, train loss: 0.032093, train acc: 0.989509, valid loss: 0.034368, valid acc: 0.989247, time: 3.974460\n",
            "Epoch: 6, train loss: 0.027473, train acc: 0.991381, valid loss: 0.032539, valid acc: 0.989919, time: 3.989295\n",
            "Epoch: 7, train loss: 0.023844, train acc: 0.992345, valid loss: 0.034808, valid acc: 0.991095, time: 4.018425\n",
            "Epoch: 8, train loss: 0.020028, train acc: 0.993253, valid loss: 0.029564, valid acc: 0.991935, time: 5.059480\n",
            "Epoch: 9, train loss: 0.019207, train acc: 0.993550, valid loss: 0.044455, valid acc: 0.987063, time: 4.594747\n",
            "Training time : 44.797300\n",
            "===== Test Start =====\n",
            "Test loss: 0.045882, Test acc: 0.986879, time: 0.870874\n"
          ]
        },
        {
          "output_type": "display_data",
          "data": {
            "text/plain": [
              "<Figure size 1440x720 with 2 Axes>"
            ],
            "image/png": "[encoded data removed]"
          },
          "metadata": {
            "needs_background": "light"
          }
        }
      ]
    },
    {
      "cell_type": "markdown",
      "metadata": {
        "id": "SXL2GBbNmSMC"
      },
      "source": [
        "### Model Save/Load"
      ]
    },
    {
      "cell_type": "code",
      "metadata": {
        "colab": {
          "base_uri": "https://localhost:8080/"
        },
        "id": "I5kMa-NLlxIL",
        "outputId": "afa5e210-ae22-470e-97ff-d9852db94748"
      },
      "source": [
        "## State dict\n",
        "# 모델의 state_dict 출력\n",
        "print(\"Model's state_dict:\")\n",
        "for param_tensor in cnn.state_dict():\n",
        "    print(f\"{param_tensor}, \\t {cnn.state_dict()[param_tensor].size()}\")"
      ],
      "execution_count": null,
      "outputs": [
        {
          "output_type": "stream",
          "name": "stdout",
          "text": [
            "Model's state_dict:\n",
            "conv1.weight, \t torch.Size([32, 1, 5, 5])\n",
            "conv1.bias, \t torch.Size([32])\n",
            "conv2.weight, \t torch.Size([32, 32, 3, 3])\n",
            "conv2.bias, \t torch.Size([32])\n",
            "conv3.weight, \t torch.Size([32, 32, 3, 3])\n",
            "conv3.bias, \t torch.Size([32])\n",
            "fc1.weight, \t torch.Size([32, 288])\n",
            "fc1.bias, \t torch.Size([32])\n",
            "fc2.weight, \t torch.Size([10, 32])\n",
            "fc2.bias, \t torch.Size([10])\n"
          ]
        }
      ]
    },
    {
      "cell_type": "code",
      "metadata": {
        "id": "E2-Mm97jpo7f"
      },
      "source": [
        "# Save\n",
        "model_dir = os.path.join(os.getcwd(), \"drive\", \"MyDrive\", \"Colab Notebooks\", \"model\")\n",
        "if not os.path.exists(model_dir): os.makedirs(model_dir)    # model_dir 이 없을 경우 생성해줌\n",
        "#cnn저장이 아닌 cnn_dict()를 저장하는것! \n",
        "torch.save(cnn.state_dict(), os.path.join(model_dir, \"Lion_MNIST_CNN_Classifier.pth\"))"
      ],
      "execution_count": null,
      "outputs": []
    },
    {
      "cell_type": "code",
      "metadata": {
        "colab": {
          "base_uri": "https://localhost:8080/"
        },
        "id": "Jop8kRjH9sge",
        "outputId": "0b041207-1848-45ca-fb60-18ac40412d2b"
      },
      "source": [
        "# 학습되지 않은 model test 성능\n",
        "\n",
        "device = \"cuda\"\n",
        "cnn_load = Lion_MNIST_CNN_Classifier(n_class=10)\n",
        "trainer_not_load = Trainer(model=cnn_load, opt=\"adam\", lr=0.001, has_scheduler=False, device=device).to(device)\n",
        "trainer_not_load.test(test_loader)"
      ],
      "execution_count": null,
      "outputs": [
        {
          "output_type": "stream",
          "name": "stdout",
          "text": [
            "===== Test Start =====\n",
            "Test loss: 2.309525, Test acc: 0.089143, time: 0.885366\n"
          ]
        }
      ]
    },
    {
      "cell_type": "code",
      "metadata": {
        "colab": {
          "base_uri": "https://localhost:8080/"
        },
        "id": "vZ3CH28_83O4",
        "outputId": "8c2a7852-44a9-4dc0-e7b0-70d46e2a6954"
      },
      "source": [
        "# Load model\n",
        "\n",
        "model_path = os.path.join(model_dir, \"Lion_MNIST_CNN_Classifier.pth\")\n",
        "print(model_path)\n",
        "cnn_load.load_state_dict(torch.load(model_path))\n",
        "cnn_load.eval()"
      ],
      "execution_count": null,
      "outputs": [
        {
          "output_type": "stream",
          "name": "stdout",
          "text": [
            "/content/drive/MyDrive/Colab Notebooks/model/Lion_MNIST_CNN_Classifier.pth\n"
          ]
        },
        {
          "output_type": "execute_result",
          "data": {
            "text/plain": [
              "Lion_MNIST_CNN_Classifier(\n",
              "  (conv1): Conv2d(1, 32, kernel_size=(5, 5), stride=(1, 1), padding=(2, 2))\n",
              "  (conv2): Conv2d(32, 32, kernel_size=(3, 3), stride=(1, 1), padding=(1, 1))\n",
              "  (conv3): Conv2d(32, 32, kernel_size=(3, 3), stride=(1, 1), padding=(1, 1))\n",
              "  (relu): ReLU()\n",
              "  (pool): MaxPool2d(kernel_size=2, stride=2, padding=0, dilation=1, ceil_mode=False)\n",
              "  (flatten): Flatten(start_dim=1, end_dim=-1)\n",
              "  (fc1): Linear(in_features=288, out_features=32, bias=True)\n",
              "  (fc2): Linear(in_features=32, out_features=10, bias=True)\n",
              ")"
            ]
          },
          "metadata": {},
          "execution_count": 43
        }
      ]
    },
    {
      "cell_type": "code",
      "metadata": {
        "colab": {
          "base_uri": "https://localhost:8080/"
        },
        "id": "nLYB7KfY-nyd",
        "outputId": "82e2d8da-67bf-4df7-a63a-bae005118385"
      },
      "source": [
        "# Load 한 model test 성능\n",
        "\n",
        "device = \"cuda\"\n",
        "trainer_load = Trainer(model=cnn_load, opt=\"adam\", lr=0.001, has_scheduler=False, device=device).to(device)\n",
        "trainer_load.test(test_loader)"
      ],
      "execution_count": null,
      "outputs": [
        {
          "output_type": "stream",
          "name": "stdout",
          "text": [
            "===== Test Start =====\n",
            "Test loss: 0.045882, Test acc: 0.986879, time: 0.897153\n"
          ]
        }
      ]
    },
    {
      "cell_type": "markdown",
      "metadata": {
        "id": "WEzyFz47AmRz"
      },
      "source": [
        "### CNN과 MLP 비교"
      ]
    },
    {
      "cell_type": "code",
      "metadata": {
        "id": "iRJO8IfavmUw"
      },
      "source": [
        "class Lion_MNIST_MLP_Classifier(nn.Module):\n",
        "  def __init__(self, n_class=10):\n",
        "    super().__init__()\n",
        "\n",
        "    self.model = nn.Sequential(\n",
        "        nn.Flatten(),\n",
        "        nn.Linear(28 * 28, 256),\n",
        "        nn.ReLU(),\n",
        "        nn.Linear(256, 128),\n",
        "        nn.ReLU(),\n",
        "        nn.Linear(128, n_class),\n",
        "    )\n",
        "\n",
        "  def forward(self, x):\n",
        "    return self.model(x)"
      ],
      "execution_count": null,
      "outputs": []
    },
    {
      "cell_type": "code",
      "metadata": {
        "id": "8HyR8P7ZHfoc"
      },
      "source": [
        "mlp = Lion_MNIST_MLP_Classifier(n_class=10)"
      ],
      "execution_count": null,
      "outputs": []
    },
    {
      "cell_type": "code",
      "metadata": {
        "id": "bxKeuoZ_vV0V"
      },
      "source": [
        "def count_parameters(model):\n",
        "    \"\"\"\n",
        "        model의 총 parameter 수와 그 배치를 print 하는 함수\n",
        "        Args:\n",
        "            model: 분석할 model\n",
        "    \n",
        "    \"\"\"\n",
        "    total_parameters = 0\n",
        "    print(\"Model's state_dict:\")\n",
        "    for param_tensor in model.state_dict():\n",
        "        total_parameters += model.state_dict()[param_tensor].numel()\n",
        "        print(f\"{param_tensor}\".center(20), f\"{model.state_dict()[param_tensor].size()}\".ljust(30), f\"{model.state_dict()[param_tensor].numel()}\")\n",
        "    \n",
        "    print(f\"Model's total parameters : {total_parameters}\")\n",
        "    return "
      ],
      "execution_count": null,
      "outputs": []
    },
    {
      "cell_type": "code",
      "metadata": {
        "colab": {
          "base_uri": "https://localhost:8080/"
        },
        "id": "YScS4ayQvdgF",
        "outputId": "ae79ee8d-f679-4285-f00d-8fa6d874d2eb"
      },
      "source": [
        "count_parameters(cnn)\n",
        "count_parameters(mlp)"
      ],
      "execution_count": null,
      "outputs": [
        {
          "output_type": "stream",
          "name": "stdout",
          "text": [
            "Model's state_dict:\n",
            "    conv1.weight     torch.Size([32, 1, 5, 5])      800\n",
            "     conv1.bias      torch.Size([32])               32\n",
            "    conv2.weight     torch.Size([32, 32, 3, 3])     9216\n",
            "     conv2.bias      torch.Size([32])               32\n",
            "    conv3.weight     torch.Size([32, 32, 3, 3])     9216\n",
            "     conv3.bias      torch.Size([32])               32\n",
            "     fc1.weight      torch.Size([32, 288])          9216\n",
            "      fc1.bias       torch.Size([32])               32\n",
            "     fc2.weight      torch.Size([10, 32])           320\n",
            "      fc2.bias       torch.Size([10])               10\n",
            "Model's total parameters : 28906\n",
            "Model's state_dict:\n",
            "   model.1.weight    torch.Size([256, 784])         200704\n",
            "    model.1.bias     torch.Size([256])              256\n",
            "   model.3.weight    torch.Size([128, 256])         32768\n",
            "    model.3.bias     torch.Size([128])              128\n",
            "   model.5.weight    torch.Size([10, 128])          1280\n",
            "    model.5.bias     torch.Size([10])               10\n",
            "Model's total parameters : 235146\n"
          ]
        }
      ]
    },
    {
      "cell_type": "code",
      "metadata": {
        "colab": {
          "base_uri": "https://localhost:8080/",
          "height": 620
        },
        "id": "2zyX5ROtHfoc",
        "outputId": "7061b248-2d9e-45cd-da82-bde0bbf41943"
      },
      "source": [
        "device = \"cuda\"\n",
        "trainer_mlp = Trainer(model=mlp, opt=\"adam\", lr=0.001, has_scheduler=False, device=device).to(device)\n",
        "start_time = time.time()\n",
        "trainer_mlp.train(train_loader, valid_loader, max_epochs=10, disp_epoch=1)\n",
        "print(f\"Training time : {time.time()-start_time:>3f}\")\n",
        "trainer_mlp.test(test_loader)\n",
        "\n",
        "model_dir = os.path.join(os.getcwd(), \"drive\", \"MyDrive\", \"Colab Notebooks\", \"model\")\n",
        "if not os.path.exists(model_dir): os.makedirs(model_dir)    # model_dir 이 없을 경우 생성해줌\n",
        "torch.save(mlp.state_dict(), os.path.join(model_dir, \"Lion_MNIST_MLP_Classifier.pth\"))"
      ],
      "execution_count": null,
      "outputs": [
        {
          "output_type": "stream",
          "name": "stdout",
          "text": [
            "===== Train Start =====\n",
            "Epoch: 0, train loss: 0.306180, train acc: 0.914313, valid loss: 0.121999, valid acc: 0.966566, time: 2.974173\n",
            "Epoch: 1, train loss: 0.117476, train acc: 0.964283, valid loss: 0.093243, valid acc: 0.973118, time: 2.959464\n",
            "Epoch: 2, train loss: 0.076419, train acc: 0.976479, valid loss: 0.079007, valid acc: 0.977487, time: 2.952621\n",
            "Epoch: 3, train loss: 0.056585, train acc: 0.981446, valid loss: 0.083896, valid acc: 0.976142, time: 2.942175\n",
            "Epoch: 4, train loss: 0.041404, train acc: 0.986859, valid loss: 0.082262, valid acc: 0.976142, time: 2.971461\n",
            "Epoch: 5, train loss: 0.033439, train acc: 0.989454, valid loss: 0.077953, valid acc: 0.979839, time: 2.934095\n",
            "Epoch: 6, train loss: 0.023953, train acc: 0.992382, valid loss: 0.087654, valid acc: 0.978831, time: 2.974305\n",
            "Epoch: 7, train loss: 0.022020, train acc: 0.992697, valid loss: 0.077707, valid acc: 0.980679, time: 2.930946\n",
            "Epoch: 8, train loss: 0.017856, train acc: 0.993902, valid loss: 0.094183, valid acc: 0.978831, time: 2.912293\n",
            "Epoch: 9, train loss: 0.015068, train acc: 0.995218, valid loss: 0.096891, valid acc: 0.979671, time: 2.961661\n",
            "Training time : 29.541681\n",
            "===== Test Start =====\n",
            "Test loss: 0.092713, Test acc: 0.975962, time: 0.800529\n"
          ]
        },
        {
          "output_type": "display_data",
          "data": {
            "text/plain": [
              "<Figure size 1440x720 with 2 Axes>"
            ],
            "image/png": "[encoded data removed]"
          },
          "metadata": {
            "needs_background": "light"
          }
        }
      ]
    },
    {
      "cell_type": "code",
      "metadata": {
        "id": "Zc70e8GOeir-"
      },
      "source": [
        "class Lion_MNIST_MLP_Classifier_mini(nn.Module):\n",
        "  def __init__(self, n_class=10):\n",
        "    super().__init__()\n",
        "\n",
        "    self.model = nn.Sequential(\n",
        "        nn.Flatten(),\n",
        "        nn.Linear(28 * 28, 33),\n",
        "        nn.ReLU(),\n",
        "        nn.Linear(33, 64),\n",
        "        nn.ReLU(),\n",
        "        nn.Linear(64, n_class),\n",
        "    )\n",
        "\n",
        "  def forward(self, x):\n",
        "    return self.model(x)"
      ],
      "execution_count": null,
      "outputs": []
    },
    {
      "cell_type": "code",
      "metadata": {
        "colab": {
          "base_uri": "https://localhost:8080/"
        },
        "id": "WtZKCSj-Hfod",
        "outputId": "5697ac07-487b-44dd-9c79-beae1355ae58"
      },
      "source": [
        "# 파라미터를 cnn과 똑같이 맟춰주기\n",
        "mlp_mini = Lion_MNIST_MLP_Classifier_mini(n_class=10)\n",
        "count_parameters(mlp_mini)"
      ],
      "execution_count": null,
      "outputs": [
        {
          "output_type": "stream",
          "name": "stdout",
          "text": [
            "Model's state_dict:\n",
            "   model.1.weight    torch.Size([33, 784])          25872\n",
            "    model.1.bias     torch.Size([33])               33\n",
            "   model.3.weight    torch.Size([64, 33])           2112\n",
            "    model.3.bias     torch.Size([64])               64\n",
            "   model.5.weight    torch.Size([10, 64])           640\n",
            "    model.5.bias     torch.Size([10])               10\n",
            "Model's total parameters : 28731\n"
          ]
        }
      ]
    },
    {
      "cell_type": "code",
      "metadata": {
        "colab": {
          "base_uri": "https://localhost:8080/",
          "height": 620
        },
        "id": "zaEr9GnSHfod",
        "outputId": "7bbb6a75-447c-4235-e586-bc629441a447"
      },
      "source": [
        "trainer_mlp_mini = Trainer(model=mlp_mini, opt=\"adam\", lr=0.001, has_scheduler=False, device=device).to(device)\n",
        "start_time = time.time()\n",
        "trainer_mlp_mini.train(train_loader, valid_loader, max_epochs=10, disp_epoch=1)\n",
        "print(f\"Training time : {time.time()-start_time:>3f}\")\n",
        "trainer_mlp_mini.test(test_loader)\n",
        "\n",
        "model_dir = os.path.join(os.getcwd(), \"drive\", \"MyDrive\", \"Colab Notebooks\", \"model\")\n",
        "if not os.path.exists(model_dir): os.makedirs(model_dir)    # model_dir 이 없을 경우 생성해줌\n",
        "torch.save(mlp_mini.state_dict(), os.path.join(model_dir, \"Lion_MNIST_MLP_Classifier_mini.pth\"))"
      ],
      "execution_count": null,
      "outputs": [
        {
          "output_type": "stream",
          "name": "stdout",
          "text": [
            "===== Train Start =====\n",
            "Epoch: 0, train loss: 0.439662, train acc: 0.879763, valid loss: 0.197101, valid acc: 0.944556, time: 2.863061\n",
            "Epoch: 1, train loss: 0.214735, train acc: 0.937074, valid loss: 0.167083, valid acc: 0.949933, time: 2.854707\n",
            "Epoch: 2, train loss: 0.168655, train acc: 0.950864, valid loss: 0.143552, valid acc: 0.957661, time: 2.810064\n",
            "Epoch: 3, train loss: 0.140876, train acc: 0.957944, valid loss: 0.127489, valid acc: 0.963542, time: 2.793835\n",
            "Epoch: 4, train loss: 0.120980, train acc: 0.963671, valid loss: 0.121446, valid acc: 0.964046, time: 2.879902\n",
            "Epoch: 5, train loss: 0.106703, train acc: 0.967953, valid loss: 0.117867, valid acc: 0.963878, time: 2.810491\n",
            "Epoch: 6, train loss: 0.094977, train acc: 0.970733, valid loss: 0.113492, valid acc: 0.967238, time: 2.845428\n",
            "Epoch: 7, train loss: 0.086074, train acc: 0.973717, valid loss: 0.111518, valid acc: 0.969758, time: 2.858719\n",
            "Epoch: 8, train loss: 0.078956, train acc: 0.975849, valid loss: 0.114864, valid acc: 0.965222, time: 3.362354\n",
            "Epoch: 9, train loss: 0.071451, train acc: 0.977906, valid loss: 0.109910, valid acc: 0.968414, time: 2.865940\n",
            "Training time : 28.972345\n",
            "===== Test Start =====\n",
            "Test loss: 0.113835, Test acc: 0.967047, time: 0.803016\n"
          ]
        },
        {
          "output_type": "display_data",
          "data": {
            "text/plain": [
              "<Figure size 1440x720 with 2 Axes>"
            ],
            "image/png": "[encoded data removed]"
          },
          "metadata": {
            "needs_background": "light"
          }
        }
      ]
    },
    {
      "cell_type": "markdown",
      "metadata": {
        "id": "LUOv4PuXHfod"
      },
      "source": [
        "### CPU vs GPU\n",
        "CPU : 명령어가 입력된 순서대로 데이터를 처리하는 직렬 처리 방식에 특화된 구조 --> 한 번에 한 가지의 명령만 처리함\n",
        "GPU : 여러 명령어를 동시에 처리하는 병렬 처리 방식에 특화된 구조 --> 연산을 할 수 있는 코어가 많음\n",
        "\n",
        "CNN : Convolution 연산 시 동일한 filter 값으로 픽셀을 옮겨가며 연산을 반복함\n",
        "\n",
        "따라서 CNN은 병렬 처리에 강점이 있는 GPU를 사용하는 것이 유리하다"
      ]
    },
    {
      "cell_type": "code",
      "metadata": {
        "colab": {
          "base_uri": "https://localhost:8080/",
          "height": 584
        },
        "id": "4vHuEjJJHfod",
        "outputId": "a5c8ac89-7610-4579-a624-a056200ace2f"
      },
      "source": [
        "# CNN CPU 학습속도\n",
        "device = \"cpu\"\n",
        "cnn = Lion_MNIST_CNN_Classifier(n_class=10)\n",
        "trainer = Trainer(model=cnn, opt=\"adam\", lr=0.001, has_scheduler=False, device=device).to(device)\n",
        "start_time = time.time()\n",
        "trainer.train(train_loader, valid_loader, max_epochs=10, disp_epoch=1)\n",
        "print(f\"Training time : {time.time()-start_time:>3f}\")"
      ],
      "execution_count": null,
      "outputs": [
        {
          "output_type": "stream",
          "name": "stdout",
          "text": [
            "===== Train Start =====\n",
            "Epoch: 0, train loss: 0.295347, train acc: 0.906083, valid loss: 0.077533, valid acc: 0.980175, time: 43.996249\n",
            "Epoch: 1, train loss: 0.081925, train acc: 0.974403, valid loss: 0.065745, valid acc: 0.980007, time: 43.291624\n",
            "Epoch: 2, train loss: 0.058610, train acc: 0.981446, valid loss: 0.048954, valid acc: 0.985719, time: 43.652140\n",
            "Epoch: 3, train loss: 0.045595, train acc: 0.985728, valid loss: 0.045687, valid acc: 0.985047, time: 43.274667\n",
            "Epoch: 4, train loss: 0.039042, train acc: 0.987452, valid loss: 0.042622, valid acc: 0.988071, time: 42.926221\n",
            "Epoch: 5, train loss: 0.032222, train acc: 0.989861, valid loss: 0.039834, valid acc: 0.989919, time: 44.018737\n",
            "Epoch: 6, train loss: 0.028330, train acc: 0.990770, valid loss: 0.039428, valid acc: 0.988911, time: 45.454634\n",
            "Epoch: 7, train loss: 0.023723, train acc: 0.992123, valid loss: 0.032088, valid acc: 0.992103, time: 44.967731\n",
            "Epoch: 8, train loss: 0.020091, train acc: 0.993327, valid loss: 0.029979, valid acc: 0.991935, time: 45.759431\n",
            "Epoch: 9, train loss: 0.020589, train acc: 0.993012, valid loss: 0.036565, valid acc: 0.989247, time: 45.525401\n",
            "Training time : 442.893342\n"
          ]
        },
        {
          "output_type": "display_data",
          "data": {
            "text/plain": [
              "<Figure size 1440x720 with 2 Axes>"
            ],
            "image/png": "[encoded data removed]"
          },
          "metadata": {
            "needs_background": "light"
          }
        }
      ]
    },
    {
      "cell_type": "code",
      "metadata": {
        "colab": {
          "base_uri": "https://localhost:8080/"
        },
        "id": "A5dujHe3Hfod",
        "outputId": "2803cba6-00bc-4c3c-b4f6-7d97d5ccc1a4"
      },
      "source": [
        "# CPU CNN inference 속도\n",
        "trainer.test(test_loader)"
      ],
      "execution_count": null,
      "outputs": [
        {
          "output_type": "stream",
          "name": "stdout",
          "text": [
            "===== Test Start =====\n",
            "Test loss: 0.030915, Test acc: 0.989884, time: 3.889454\n"
          ]
        }
      ]
    },
    {
      "cell_type": "code",
      "metadata": {
        "colab": {
          "base_uri": "https://localhost:8080/",
          "height": 948
        },
        "id": "PeKomzaiHfod",
        "outputId": "a6d62adc-71cb-4fc3-eb92-f289ebf7826a"
      },
      "source": [
        "# CPU MLP 학습속도\n",
        "# 이경우는 gpu보다 빠름 그 이유는 하나하나의 크기가 크기에 똑똑한 cpu가 처리하는것이 빠른것임\n",
        "mlp_mini = Lion_MNIST_MLP_Classifier_mini(n_class=10)\n",
        "trainer_mlp_mini = Trainer(model=mlp_mini, opt=\"adam\", lr=0.001, has_scheduler=False, device=device).to(device)\n",
        "start_time = time.time()\n",
        "trainer_mlp_mini.train(train_loader, valid_loader, max_epochs=30, disp_epoch=1)\n",
        "print(f\"Training time : {time.time()-start_time:>3f}\")"
      ],
      "execution_count": null,
      "outputs": [
        {
          "output_type": "stream",
          "name": "stdout",
          "text": [
            "===== Train Start =====\n",
            "Epoch: 0, train loss: 0.475311, train acc: 0.860784, valid loss: 0.210190, valid acc: 0.942876, time: 2.414241\n",
            "Epoch: 1, train loss: 0.229161, train acc: 0.932977, valid loss: 0.163002, valid acc: 0.955477, time: 2.433612\n",
            "Epoch: 2, train loss: 0.178453, train acc: 0.946434, valid loss: 0.142738, valid acc: 0.959509, time: 2.416194\n",
            "Epoch: 3, train loss: 0.148360, train acc: 0.956183, valid loss: 0.130598, valid acc: 0.963542, time: 2.399232\n",
            "Epoch: 4, train loss: 0.124770, train acc: 0.963097, valid loss: 0.117845, valid acc: 0.966902, time: 2.497629\n",
            "Epoch: 5, train loss: 0.110332, train acc: 0.966730, valid loss: 0.113610, valid acc: 0.967406, time: 2.427669\n",
            "Epoch: 6, train loss: 0.097889, train acc: 0.970511, valid loss: 0.107643, valid acc: 0.968918, time: 2.526757\n",
            "Epoch: 7, train loss: 0.088323, train acc: 0.972976, valid loss: 0.114884, valid acc: 0.966902, time: 2.561810\n",
            "Epoch: 8, train loss: 0.078896, train acc: 0.975311, valid loss: 0.115270, valid acc: 0.966734, time: 2.667302\n",
            "Epoch: 9, train loss: 0.070635, train acc: 0.977591, valid loss: 0.101325, valid acc: 0.972110, time: 2.698328\n",
            "Epoch: 10, train loss: 0.064066, train acc: 0.979760, valid loss: 0.107304, valid acc: 0.969926, time: 2.497149\n",
            "Epoch: 11, train loss: 0.057769, train acc: 0.981817, valid loss: 0.106704, valid acc: 0.971438, time: 2.498170\n",
            "Epoch: 12, train loss: 0.052882, train acc: 0.983003, valid loss: 0.105149, valid acc: 0.972950, time: 2.456927\n",
            "Epoch: 13, train loss: 0.049144, train acc: 0.984394, valid loss: 0.107833, valid acc: 0.971606, time: 2.515536\n",
            "Epoch: 14, train loss: 0.045078, train acc: 0.985710, valid loss: 0.112597, valid acc: 0.972614, time: 2.444926\n",
            "Epoch: 15, train loss: 0.040210, train acc: 0.987155, valid loss: 0.103284, valid acc: 0.974798, time: 2.427880\n",
            "Epoch: 16, train loss: 0.038658, train acc: 0.987137, valid loss: 0.109807, valid acc: 0.973622, time: 2.574732\n",
            "Epoch: 17, train loss: 0.034672, train acc: 0.989176, valid loss: 0.116313, valid acc: 0.971270, time: 2.471682\n",
            "Epoch: 18, train loss: 0.031328, train acc: 0.990176, valid loss: 0.112683, valid acc: 0.972278, time: 2.486124\n",
            "Epoch: 19, train loss: 0.030369, train acc: 0.990102, valid loss: 0.110989, valid acc: 0.973622, time: 2.470395\n",
            "Epoch: 20, train loss: 0.027520, train acc: 0.991307, valid loss: 0.122533, valid acc: 0.973118, time: 2.441681\n",
            "Epoch: 21, train loss: 0.025129, train acc: 0.991715, valid loss: 0.122033, valid acc: 0.973118, time: 2.460608\n",
            "Epoch: 22, train loss: 0.021881, train acc: 0.993402, valid loss: 0.149299, valid acc: 0.968918, time: 2.457702\n",
            "Epoch: 23, train loss: 0.022937, train acc: 0.992141, valid loss: 0.122104, valid acc: 0.971606, time: 2.484564\n",
            "Epoch: 24, train loss: 0.020758, train acc: 0.993309, valid loss: 0.131594, valid acc: 0.972110, time: 2.461462\n",
            "Epoch: 25, train loss: 0.019680, train acc: 0.993735, valid loss: 0.122805, valid acc: 0.974294, time: 2.433852\n",
            "Epoch: 26, train loss: 0.017108, train acc: 0.994532, valid loss: 0.135677, valid acc: 0.971438, time: 2.496620\n",
            "Epoch: 27, train loss: 0.018372, train acc: 0.993735, valid loss: 0.135738, valid acc: 0.973286, time: 2.445581\n",
            "Epoch: 28, train loss: 0.014070, train acc: 0.995477, valid loss: 0.143792, valid acc: 0.969422, time: 2.491177\n",
            "Epoch: 29, train loss: 0.017354, train acc: 0.994032, valid loss: 0.137740, valid acc: 0.971942, time: 2.505272\n",
            "Training time : 74.593947\n"
          ]
        },
        {
          "output_type": "display_data",
          "data": {
            "text/plain": [
              "<Figure size 1440x720 with 2 Axes>"
            ],
            "image/png": "[encoded data removed]"
          },
          "metadata": {
            "needs_background": "light"
          }
        }
      ]
    },
    {
      "cell_type": "code",
      "metadata": {
        "colab": {
          "base_uri": "https://localhost:8080/"
        },
        "id": "oqyRXJ7qHfod",
        "outputId": "37c6be20-a538-46a4-b136-29508542e4aa"
      },
      "source": [
        "# CPU MLP inference 속도\n",
        "trainer_mlp_mini.test(test_loader)"
      ],
      "execution_count": null,
      "outputs": [
        {
          "output_type": "stream",
          "name": "stdout",
          "text": [
            "===== Test Start =====\n",
            "Test loss: 0.155097, Test acc: 0.968249, time: 0.781780\n"
          ]
        }
      ]
    },
    {
      "cell_type": "markdown",
      "metadata": {
        "id": "M4qRiF-1Hfoe"
      },
      "source": [
        "### Filter, Feature map visualization"
      ]
    },
    {
      "cell_type": "code",
      "metadata": {
        "colab": {
          "base_uri": "https://localhost:8080/"
        },
        "id": "zWFGjLcuHfoe",
        "outputId": "62ff3677-5a9f-4928-afea-f7950109e13d"
      },
      "source": [
        "## 학습된 CNN Load\n",
        "\n",
        "model_path = os.path.join(model_dir, \"Lion_MNIST_CNN_Classifier.pth\")\n",
        "print(model_path)\n",
        "cnn.load_state_dict(torch.load(model_path))\n",
        "cnn.to(device)\n",
        "cnn.eval()\n"
      ],
      "execution_count": null,
      "outputs": [
        {
          "output_type": "stream",
          "name": "stdout",
          "text": [
            "/content/drive/MyDrive/Colab Notebooks/model/Lion_MNIST_CNN_Classifier.pth\n"
          ]
        },
        {
          "output_type": "execute_result",
          "data": {
            "text/plain": [
              "Lion_MNIST_CNN_Classifier(\n",
              "  (conv1): Conv2d(1, 32, kernel_size=(5, 5), stride=(1, 1), padding=(2, 2))\n",
              "  (conv2): Conv2d(32, 32, kernel_size=(3, 3), stride=(1, 1), padding=(1, 1))\n",
              "  (conv3): Conv2d(32, 32, kernel_size=(3, 3), stride=(1, 1), padding=(1, 1))\n",
              "  (relu): ReLU()\n",
              "  (pool): MaxPool2d(kernel_size=2, stride=2, padding=0, dilation=1, ceil_mode=False)\n",
              "  (flatten): Flatten(start_dim=1, end_dim=-1)\n",
              "  (fc1): Linear(in_features=288, out_features=32, bias=True)\n",
              "  (fc2): Linear(in_features=32, out_features=10, bias=True)\n",
              ")"
            ]
          },
          "metadata": {},
          "execution_count": 59
        }
      ]
    },
    {
      "cell_type": "code",
      "metadata": {
        "colab": {
          "base_uri": "https://localhost:8080/",
          "height": 584
        },
        "id": "lLvbY7f2Hfoe",
        "outputId": "f6a8a96a-4ce5-4274-a981-c38135b3f882"
      },
      "source": [
        "## 학습된 CNN의 첫번째 conv layer filter 를 visualization\n",
        "\n",
        "conv_filter = np.array(cnn.state_dict()['conv1.weight'].data.to(\"cpu\"))\n",
        "fig = plt.figure(figsize=(16, 16))\n",
        "for i in range(32):\n",
        "  ax = fig.add_subplot(4, 8, i+1)\n",
        "  ax.imshow(conv_filter[i, 0], cmap=\"gray\")\n",
        "fig.show()"
      ],
      "execution_count": null,
      "outputs": [
        {
          "output_type": "display_data",
          "data": {
            "text/plain": [
              "<Figure size 1152x1152 with 32 Axes>"
            ],
            "image/png": "[encoded data removed]"
          },
          "metadata": {
            "needs_background": "light"
          }
        }
      ]
    },
    {
      "cell_type": "code",
      "metadata": {
        "colab": {
          "base_uri": "https://localhost:8080/",
          "height": 283
        },
        "id": "HUcr84eFHfoe",
        "outputId": "6a2b4111-abe1-4fbe-eac0-b5c1ff70388b"
      },
      "source": [
        "## Sample Image \n",
        "sample_x, sample_y = mnist_test[0]  \n",
        "f1, f2, f3, out = cnn(sample_x.unsqueeze(0).to(device), visualize_filter=True)\n",
        "\n",
        "fig0 = plt.figure()\n",
        "plt.imshow(np.array(sample_x.to(\"cpu\").detach())[0], cmap=\"gray\")\n",
        "plt.show()\n",
        "print(np.argmax(np.array(out.to(\"cpu\").detach())))"
      ],
      "execution_count": null,
      "outputs": [
        {
          "output_type": "display_data",
          "data": {
            "text/plain": [
              "<Figure size 432x288 with 1 Axes>"
            ],
            "image/png": "[encoded data removed]"
          },
          "metadata": {
            "needs_background": "light"
          }
        },
        {
          "output_type": "stream",
          "name": "stdout",
          "text": [
            "7\n"
          ]
        }
      ]
    },
    {
      "cell_type": "code",
      "metadata": {
        "colab": {
          "base_uri": "https://localhost:8080/",
          "height": 584
        },
        "id": "7SdcuSPJHfoe",
        "outputId": "8cec1abd-e251-4268-a053-34fb49fc5d77"
      },
      "source": [
        "## Sample Image 에 대해 feature map visualization\n",
        "\n",
        "fig = plt.figure(figsize=(16, 16))\n",
        "for i in range(32):\n",
        "  ax = fig.add_subplot(4, 8, i+1)\n",
        "  ax.imshow(np.array(f3.to(\"cpu\").detach())[0, i], cmap=\"gray\")\n",
        "fig.show()"
      ],
      "execution_count": null,
      "outputs": [
        {
          "output_type": "display_data",
          "data": {
            "text/plain": [
              "<Figure size 1152x1152 with 32 Axes>"
            ],
            "image/png": "[encoded data removed]"
          },
          "metadata": {
            "needs_background": "light"
          }
        }
      ]
    },
    {
      "cell_type": "markdown",
      "metadata": {
        "id": "GS70cJh_fNdd"
      },
      "source": [
        "## 6-3. SVHN\n",
        "The Street View House Number (SVHN) Dataset\n",
        "\n",
        "MNIST 와 유사하게 0 ~ 9 의 이미지와 label 로 구성되어 있음\n",
        "\n",
        "입력 이미지는 32x32x3 RGB 이미지"
      ]
    },
    {
      "cell_type": "markdown",
      "metadata": {
        "id": "KDVuAwiwHfoe"
      },
      "source": [
        "### Data load"
      ]
    },
    {
      "cell_type": "code",
      "metadata": {
        "colab": {
          "base_uri": "https://localhost:8080/",
          "height": 137,
          "referenced_widgets": [
            "498e5e1939b84b5b947e1a22fe72fa5f",
            "359be790d43546c98c18df93dc2be175",
            "5c552fb486064184a7d062efbe6497ba",
            "a2c49a60a75549759f85da2a4d56154e",
            "4626db7c06784df4b3d3bbcd7cc0a324",
            "7ae8ade56d5c4c23805d309ecb9e9210",
            "fe9c8cc9e7ac4d83886aa8093277cfd8",
            "3a7a453758c04ac8b3cc32958ec45e1a",
            "6f23add6858f4133b903a4f6530fc3d3",
            "bc73bcd0a5f946e38061cfc83a7cf964",
            "041adb5dfacd4621a0da5c41ec5f0def",
            "f9447087c01e488bab5176a8f95bcba4",
            "312080c896e241cb954e9b053c603107",
            "d8891c5eff8342e682b07847004aa27d",
            "8ce33e24e937499cb84cdf26ca33859d",
            "203e4f78f46e4a02b568f2b6c596b20e",
            "b1410e7f685b4cd9b24875a2cfb10069",
            "7db128cddf8b45f1810d8fabc5a6ad09",
            "a122eb4fd7ca4a108b5e64aad5487ce0",
            "abedc31a810a45b0aa57e9f27406f7ed",
            "aea150f1b8e743208627bf4563694610",
            "a94bc5a67a9d47498e1a4cdf6b5e302a"
          ]
        },
        "id": "87L55ENvdlYt",
        "outputId": "a235d7d5-1c7b-470a-f26d-6fe79983c784"
      },
      "source": [
        "SVHN_train = datasets.SVHN(\n",
        "    root=root, \n",
        "    split='train', \n",
        "    download=True, \n",
        "    transform=transforms.ToTensor()\n",
        ") \n",
        "SVHN_test = datasets.SVHN(\n",
        "    root=root, \n",
        "    split='test', \n",
        "    download=True, \n",
        "    transform=transforms.ToTensor()\n",
        ") "
      ],
      "execution_count": null,
      "outputs": [
        {
          "output_type": "stream",
          "name": "stdout",
          "text": [
            "Downloading http://ufldl.stanford.edu/housenumbers/train_32x32.mat to /content/drive/MyDrive/Colab Notebooks/data/train_32x32.mat\n"
          ]
        },
        {
          "output_type": "display_data",
          "data": {
            "text/plain": [
              "  0%|          | 0/182040794 [00:00<?, ?it/s]"
            ],
            "application/vnd.jupyter.widget-view+json": {
              "version_major": 2,
              "version_minor": 0,
              "model_id": "498e5e1939b84b5b947e1a22fe72fa5f"
            }
          },
          "metadata": {}
        },
        {
          "output_type": "stream",
          "name": "stdout",
          "text": [
            "Downloading http://ufldl.stanford.edu/housenumbers/test_32x32.mat to /content/drive/MyDrive/Colab Notebooks/data/test_32x32.mat\n"
          ]
        },
        {
          "output_type": "display_data",
          "data": {
            "text/plain": [
              "  0%|          | 0/64275384 [00:00<?, ?it/s]"
            ],
            "application/vnd.jupyter.widget-view+json": {
              "version_major": 2,
              "version_minor": 0,
              "model_id": "f9447087c01e488bab5176a8f95bcba4"
            }
          },
          "metadata": {}
        }
      ]
    },
    {
      "cell_type": "code",
      "metadata": {
        "colab": {
          "base_uri": "https://localhost:8080/"
        },
        "id": "i98f406weHgG",
        "outputId": "8946c72e-f41f-490b-942f-e8a213b3eb00"
      },
      "source": [
        "print(SVHN_train)\n",
        "print(SVHN_train[0])\n",
        "sample_x, sample_y = SVHN_train[0]\n",
        "print(sample_x.shape)\n",
        "print(sample_y)"
      ],
      "execution_count": null,
      "outputs": [
        {
          "output_type": "stream",
          "name": "stdout",
          "text": [
            "Dataset SVHN\n",
            "    Number of datapoints: 73257\n",
            "    Root location: /content/drive/MyDrive/Colab Notebooks/data\n",
            "    Split: train\n",
            "    StandardTransform\n",
            "Transform: ToTensor()\n",
            "(tensor([[[0.1294, 0.0588, 0.0588,  ..., 0.2824, 0.3216, 0.3490],\n",
            "         [0.1098, 0.0549, 0.0549,  ..., 0.1569, 0.2627, 0.3255],\n",
            "         [0.1569, 0.0706, 0.0627,  ..., 0.0902, 0.1373, 0.2824],\n",
            "         ...,\n",
            "         [0.3373, 0.3412, 0.3216,  ..., 0.4078, 0.4078, 0.4039],\n",
            "         [0.3294, 0.3373, 0.3216,  ..., 0.4314, 0.4157, 0.4157],\n",
            "         [0.3333, 0.3490, 0.3333,  ..., 0.4353, 0.4275, 0.4039]],\n",
            "\n",
            "        [[0.1176, 0.0902, 0.0667,  ..., 0.2549, 0.3020, 0.3098],\n",
            "         [0.1529, 0.0980, 0.0784,  ..., 0.1529, 0.2275, 0.3059],\n",
            "         [0.1608, 0.0824, 0.0667,  ..., 0.1137, 0.1647, 0.2706],\n",
            "         ...,\n",
            "         [0.3176, 0.3216, 0.3098,  ..., 0.4078, 0.4118, 0.4118],\n",
            "         [0.3373, 0.3098, 0.2980,  ..., 0.4039, 0.4118, 0.4078],\n",
            "         [0.3451, 0.3216, 0.3098,  ..., 0.4078, 0.4118, 0.4157]],\n",
            "\n",
            "        [[0.1490, 0.0745, 0.0745,  ..., 0.2196, 0.2235, 0.2314],\n",
            "         [0.1373, 0.0863, 0.0667,  ..., 0.1961, 0.2039, 0.2353],\n",
            "         [0.1490, 0.1020, 0.0902,  ..., 0.1765, 0.1725, 0.2078],\n",
            "         ...,\n",
            "         [0.2941, 0.2784, 0.2549,  ..., 0.3412, 0.3176, 0.3059],\n",
            "         [0.2510, 0.2824, 0.2824,  ..., 0.3294, 0.3333, 0.3373],\n",
            "         [0.2667, 0.2824, 0.2627,  ..., 0.3412, 0.3373, 0.3098]]]), 1)\n",
            "torch.Size([3, 32, 32])\n",
            "1\n"
          ]
        }
      ]
    },
    {
      "cell_type": "code",
      "metadata": {
        "colab": {
          "base_uri": "https://localhost:8080/",
          "height": 607
        },
        "id": "a54GccBeeS61",
        "outputId": "6bb39db3-b314-4fa0-ee44-028b8d25a0a7"
      },
      "source": [
        "fig = plt.figure(figsize=(10, 10))\n",
        "for i in range(9):\n",
        "  img = SVHN_train[i][0]\n",
        "  ax = fig.add_subplot(3, 3, i+1)\n",
        "  ax.imshow(img.permute(1, 2, 0))\n",
        "  ax.title.set_text(SVHN_train[i][1])\n",
        "fig.show()"
      ],
      "execution_count": null,
      "outputs": [
        {
          "output_type": "display_data",
          "data": {
            "text/plain": [
              "<Figure size 720x720 with 9 Axes>"
            ],
            "image/png": "[encoded data removed]"
          },
          "metadata": {
            "needs_background": "light"
          }
        }
      ]
    },
    {
      "cell_type": "code",
      "metadata": {
        "colab": {
          "base_uri": "https://localhost:8080/"
        },
        "id": "E5pkrkCLHfof",
        "outputId": "e2c6a1ae-e4d2-41a0-b6f0-ad4c1d08237a"
      },
      "source": [
        "# SVHN DataLoader 생성\n",
        "\n",
        "from torch.utils.data import random_split\n",
        "\n",
        "random_seed = 0\n",
        "torch.manual_seed(random_seed)\n",
        "\n",
        "val_size = int(len(SVHN_train) * 0.1)\n",
        "train_size = len(SVHN_train) - val_size\n",
        "\n",
        "SVHN_train, SVHN_valid = random_split(SVHN_train, [train_size, val_size])\n",
        "print(len(SVHN_train), len(SVHN_valid))\n",
        "\n",
        "# DataLoader 정의\n",
        "SVHN_train_loader = DataLoader(dataset=SVHN_train, batch_size=64, shuffle=True, drop_last=True)    # train 시에는 데이터를 shuffle 해줌\n",
        "SVHN_valid_loader = DataLoader(dataset=SVHN_valid, batch_size=64, shuffle=False, drop_last=True)   \n",
        "SVHN_test_loader = DataLoader(dataset=SVHN_test, batch_size=64, shuffle=False, drop_last=True)"
      ],
      "execution_count": null,
      "outputs": [
        {
          "output_type": "stream",
          "name": "stdout",
          "text": [
            "65932 7325\n"
          ]
        }
      ]
    },
    {
      "cell_type": "code",
      "metadata": {
        "id": "vQiXyRsbe6ta"
      },
      "source": [
        "## 간단한 CNN, MLP Classifier 모델\n",
        "\n",
        "class Lion_SVHN_CNN_Classifier(nn.Module):\n",
        "  def __init__(self, n_class=10):\n",
        "    super().__init__()\n",
        "\n",
        "    self.model = nn.Sequential(\n",
        "        nn.Conv2d(3, 32, kernel_size=3, padding=1),\n",
        "        nn.ReLU(),\n",
        "        nn.Conv2d(32, 64, kernel_size=3, stride=1, padding=1),\n",
        "        nn.ReLU(),\n",
        "        nn.MaxPool2d(2, 2), # output: 64 x 16 x 16\n",
        "\n",
        "        nn.Conv2d(64, 128, kernel_size=3, stride=1, padding=1),\n",
        "        nn.ReLU(),\n",
        "        nn.Conv2d(128, 128, kernel_size=3, stride=1, padding=1),\n",
        "        nn.ReLU(),\n",
        "        nn.MaxPool2d(2, 2), # output: 128 x 8 x 8\n",
        "\n",
        "        nn.Conv2d(128, 256, kernel_size=3, stride=1, padding=1),\n",
        "        nn.ReLU(),\n",
        "        nn.Conv2d(256, 256, kernel_size=3, stride=1, padding=1),\n",
        "        nn.ReLU(),\n",
        "        nn.MaxPool2d(2, 2), # output: 256 x 4 x 4\n",
        "\n",
        "        nn.Flatten(), \n",
        "        nn.Linear(256*4*4, 512),\n",
        "        nn.ReLU(),\n",
        "        nn.Linear(512, 512),\n",
        "        nn.ReLU(),\n",
        "        nn.Linear(512, 10))\n",
        "\n",
        "    \n",
        "  def forward(self, x, visualize_filter=False):\n",
        "\n",
        "    out = self.model(x)\n",
        "\n",
        "    return out\n",
        "\n",
        "class Lion_SVHN_MLP_Classifier(nn.Module):\n",
        "  def __init__(self):\n",
        "    super().__init__()\n",
        "\n",
        "    self.model = nn.Sequential(\n",
        "        nn.Flatten(),\n",
        "        nn.Linear(32 * 32 * 3, 256),\n",
        "        nn.ReLU(),\n",
        "        nn.Linear(256, 512),\n",
        "        nn.ReLU(),\n",
        "        nn.Linear(512, 512),\n",
        "        nn.ReLU(),\n",
        "        nn.Linear(512, 1024),\n",
        "        nn.ReLU(),\n",
        "        nn.Linear(1024, 1024),\n",
        "        nn.ReLU(),\n",
        "        nn.Linear(1024, 2048),\n",
        "        nn.ReLU(),\n",
        "        nn.Linear(1024, 10),\n",
        "    )\n",
        "\n",
        "  def forward(self, x):\n",
        "    return self.model(x)\n"
      ],
      "execution_count": null,
      "outputs": []
    },
    {
      "cell_type": "code",
      "metadata": {
        "id": "pIzMLG_Ikcnr",
        "colab": {
          "base_uri": "https://localhost:8080/"
        },
        "outputId": "0069e8a6-e812-4dd9-f11c-8d68edee8fc9"
      },
      "source": [
        "svhn_cnn = Lion_SVHN_CNN_Classifier()\n",
        "svhn_mlp = Lion_SVHN_MLP_Classifier()\n",
        "\n",
        "count_parameters(svhn_cnn)\n",
        "count_parameters(svhn_mlp)"
      ],
      "execution_count": null,
      "outputs": [
        {
          "output_type": "stream",
          "name": "stdout",
          "text": [
            "Model's state_dict:\n",
            "   model.0.weight    torch.Size([32, 3, 3, 3])      864\n",
            "    model.0.bias     torch.Size([32])               32\n",
            "   model.2.weight    torch.Size([64, 32, 3, 3])     18432\n",
            "    model.2.bias     torch.Size([64])               64\n",
            "   model.5.weight    torch.Size([128, 64, 3, 3])    73728\n",
            "    model.5.bias     torch.Size([128])              128\n",
            "   model.7.weight    torch.Size([128, 128, 3, 3])   147456\n",
            "    model.7.bias     torch.Size([128])              128\n",
            "  model.10.weight    torch.Size([256, 128, 3, 3])   294912\n",
            "   model.10.bias     torch.Size([256])              256\n",
            "  model.12.weight    torch.Size([256, 256, 3, 3])   589824\n",
            "   model.12.bias     torch.Size([256])              256\n",
            "  model.16.weight    torch.Size([512, 4096])        2097152\n",
            "   model.16.bias     torch.Size([512])              512\n",
            "  model.18.weight    torch.Size([512, 512])         262144\n",
            "   model.18.bias     torch.Size([512])              512\n",
            "  model.20.weight    torch.Size([10, 512])          5120\n",
            "   model.20.bias     torch.Size([10])               10\n",
            "Model's total parameters : 3491530\n",
            "Model's state_dict:\n",
            "   model.1.weight    torch.Size([256, 3072])        786432\n",
            "    model.1.bias     torch.Size([256])              256\n",
            "   model.3.weight    torch.Size([512, 256])         131072\n",
            "    model.3.bias     torch.Size([512])              512\n",
            "   model.5.weight    torch.Size([512, 512])         262144\n",
            "    model.5.bias     torch.Size([512])              512\n",
            "   model.7.weight    torch.Size([1024, 512])        524288\n",
            "    model.7.bias     torch.Size([1024])             1024\n",
            "   model.9.weight    torch.Size([1024, 1024])       1048576\n",
            "    model.9.bias     torch.Size([1024])             1024\n",
            "  model.11.weight    torch.Size([2048, 1024])       2097152\n",
            "   model.11.bias     torch.Size([2048])             2048\n",
            "  model.13.weight    torch.Size([10, 1024])         10240\n",
            "   model.13.bias     torch.Size([10])               10\n",
            "Model's total parameters : 4865290\n"
          ]
        }
      ]
    },
    {
      "cell_type": "code",
      "metadata": {
        "id": "eSoMYMNDfq0_",
        "outputId": "616de45d-0159-4e92-f994-db2104357e56",
        "colab": {
          "base_uri": "https://localhost:8080/",
          "height": 981
        }
      },
      "source": [
        "device = \"cuda\"\n",
        "trainer_svhn_cnn = Trainer(model=svhn_cnn, opt=\"adam\", lr=0.001, has_scheduler=False, device=device).to(device)\n",
        "start_time = time.time()\n",
        "trainer_svhn_cnn.train(SVHN_train_loader, SVHN_valid_loader, max_epochs=30, disp_epoch=1)\n",
        "print(f\"Training time : {time.time()-start_time:>3f}\")\n",
        "trainer_svhn_cnn.test(SVHN_test_loader)\n",
        "\n",
        "model_dir = os.path.join(os.getcwd(), \"drive\", \"MyDrive\", \"Colab Notebooks\", \"model\")\n",
        "if not os.path.exists(model_dir): os.makedirs(model_dir)    \n",
        "torch.save(svhn_cnn.state_dict(), os.path.join(model_dir, \"Lion_SVHN_CNN_Classifier.pth\"))"
      ],
      "execution_count": null,
      "outputs": [
        {
          "output_type": "stream",
          "name": "stdout",
          "text": [
            "===== Train Start =====\n",
            "Epoch: 0, train loss: 2.238738, train acc: 0.189533, valid loss: 2.241918, valid acc: 0.182566, time: 24.387615\n",
            "Epoch: 1, train loss: 2.236883, train acc: 0.189973, valid loss: 2.242228, valid acc: 0.182566, time: 24.369689\n",
            "Epoch: 2, train loss: 2.236789, train acc: 0.189973, valid loss: 2.243552, valid acc: 0.182566, time: 24.269327\n",
            "Epoch: 3, train loss: 2.236559, train acc: 0.189927, valid loss: 2.243164, valid acc: 0.182566, time: 24.442635\n",
            "Epoch: 4, train loss: 2.236643, train acc: 0.190003, valid loss: 2.242356, valid acc: 0.182566, time: 24.124877\n",
            "Epoch: 5, train loss: 2.236574, train acc: 0.189958, valid loss: 2.242037, valid acc: 0.182566, time: 24.234251\n",
            "Epoch: 6, train loss: 2.236616, train acc: 0.189973, valid loss: 2.241993, valid acc: 0.182566, time: 24.121895\n",
            "Epoch: 7, train loss: 2.236464, train acc: 0.189988, valid loss: 2.242834, valid acc: 0.182566, time: 24.135861\n",
            "Epoch: 8, train loss: 2.236486, train acc: 0.189958, valid loss: 2.242222, valid acc: 0.182566, time: 24.240005\n",
            "Epoch: 9, train loss: 2.236510, train acc: 0.189958, valid loss: 2.242440, valid acc: 0.182566, time: 24.181720\n",
            "Epoch: 10, train loss: 2.236329, train acc: 0.189958, valid loss: 2.242461, valid acc: 0.182566, time: 24.176661\n",
            "Epoch: 11, train loss: 2.236384, train acc: 0.189988, valid loss: 2.242814, valid acc: 0.182566, time: 24.171400\n",
            "Epoch: 12, train loss: 2.236469, train acc: 0.189942, valid loss: 2.241901, valid acc: 0.182566, time: 24.261537\n",
            "Epoch: 13, train loss: 2.236447, train acc: 0.189973, valid loss: 2.241891, valid acc: 0.182566, time: 24.262140\n",
            "Epoch: 14, train loss: 2.236366, train acc: 0.189958, valid loss: 2.241926, valid acc: 0.182566, time: 24.200748\n",
            "Epoch: 15, train loss: 2.236324, train acc: 0.189942, valid loss: 2.243573, valid acc: 0.182566, time: 24.285127\n",
            "Epoch: 16, train loss: 2.236306, train acc: 0.189973, valid loss: 2.241445, valid acc: 0.182566, time: 24.284413\n",
            "Epoch: 17, train loss: 2.236216, train acc: 0.189912, valid loss: 2.242339, valid acc: 0.182566, time: 24.219374\n",
            "Epoch: 18, train loss: 2.236262, train acc: 0.189958, valid loss: 2.241770, valid acc: 0.182566, time: 24.304985\n",
            "Epoch: 19, train loss: 2.236193, train acc: 0.189958, valid loss: 2.243319, valid acc: 0.182566, time: 24.230035\n",
            "Epoch: 20, train loss: 2.236365, train acc: 0.189942, valid loss: 2.242403, valid acc: 0.182566, time: 24.244997\n",
            "Epoch: 21, train loss: 2.236258, train acc: 0.189942, valid loss: 2.242243, valid acc: 0.182566, time: 24.185519\n",
            "Epoch: 22, train loss: 2.236241, train acc: 0.189958, valid loss: 2.242040, valid acc: 0.182566, time: 24.246104\n",
            "Epoch: 23, train loss: 2.236172, train acc: 0.189988, valid loss: 2.242760, valid acc: 0.182566, time: 24.161462\n",
            "Epoch: 24, train loss: 2.236184, train acc: 0.189973, valid loss: 2.242270, valid acc: 0.182566, time: 24.192566\n",
            "Epoch: 25, train loss: 2.236215, train acc: 0.189973, valid loss: 2.242115, valid acc: 0.182566, time: 24.203939\n",
            "Epoch: 26, train loss: 2.236234, train acc: 0.189958, valid loss: 2.241908, valid acc: 0.182566, time: 24.215587\n",
            "Epoch: 27, train loss: 2.236177, train acc: 0.189942, valid loss: 2.242205, valid acc: 0.182566, time: 24.240393\n",
            "Epoch: 28, train loss: 2.236085, train acc: 0.189927, valid loss: 2.242773, valid acc: 0.182566, time: 24.264918\n",
            "Epoch: 29, train loss: 2.236135, train acc: 0.189988, valid loss: 2.241633, valid acc: 0.182566, time: 24.216462\n",
            "Training time : 727.108353\n",
            "===== Test Start =====\n",
            "Test loss: 2.223936, Test acc: 0.195851, time: 4.634661\n"
          ]
        },
        {
          "output_type": "display_data",
          "data": {
            "text/plain": [
              "<Figure size 1440x720 with 2 Axes>"
            ],
            "image/png": "[encoded data removed]"
          },
          "metadata": {
            "needs_background": "light"
          }
        }
      ]
    },
    {
      "cell_type": "code",
      "metadata": {
        "id": "wwF6n7VXHfog",
        "outputId": "c05bedc4-b4ad-41ae-dc42-bc356e8bc5df",
        "colab": {
          "base_uri": "https://localhost:8080/"
        }
      },
      "source": [
        "model_path = os.path.join(model_dir, \"Lion_SVHN_CNN_Classifier.pth\")\n",
        "print(model_path)\n",
        "svhn_cnn.load_state_dict(torch.load(model_path))\n",
        "svhn_cnn.eval()\n",
        "\n",
        "# Load 한 model test 성능\n",
        "\n",
        "device = \"cuda\"\n",
        "trainer_load = Trainer(model=svhn_cnn, opt=\"adam\", lr=0.001, has_scheduler=False, device=device).to(device)\n",
        "trainer_load.test(SVHN_test_loader)"
      ],
      "execution_count": null,
      "outputs": [
        {
          "output_type": "stream",
          "name": "stdout",
          "text": [
            "/content/drive/MyDrive/Colab Notebooks/model/Lion_SVHN_CNN_Classifier.pth\n",
            "===== Test Start =====\n",
            "Test loss: 2.223936, Test acc: 0.195851, time: 5.169080\n"
          ]
        }
      ]
    },
    {
      "cell_type": "code",
      "metadata": {
        "id": "saGmFAKvHfog",
        "outputId": "91c4a240-5366-4d2a-9c87-47a00bf189b8",
        "colab": {
          "base_uri": "https://localhost:8080/",
          "height": 450
        }
      },
      "source": [
        "trainer_svhn_mlp = Trainer(model=svhn_mlp, opt=\"adam\", lr=0.001, has_scheduler=False, device=device).to(device)\n",
        "start_time = time.time()\n",
        "trainer_svhn_mlp.train(SVHN_train_loader, SVHN_valid_loader, max_epochs=30, disp_epoch=1)\n",
        "print(f\"Training time : {time.time()-start_time:>3f}\")\n",
        "trainer_svhn_mlp.test(SVHN_test_loader)\n",
        "\n",
        "model_dir = os.path.join(os.getcwd(), \"drive\", \"MyDrive\", \"Colab Notebooks\", \"model\")\n",
        "if not os.path.exists(model_dir): os.makedirs(model_dir)    \n",
        "torch.save(svhn_mlp.state_dict(), os.path.join(model_dir, \"Lion_SVHN_MLP_Classifier.pth\"))"
      ],
      "execution_count": null,
      "outputs": [
        {
          "output_type": "stream",
          "name": "stdout",
          "text": [
            "===== Train Start =====\n"
          ]
        },
        {
          "output_type": "error",
          "ename": "RuntimeError",
          "evalue": "ignored",
          "traceback": [
            "\u001b[0;31m---------------------------------------------------------------------------\u001b[0m",
            "\u001b[0;31mRuntimeError\u001b[0m                              Traceback (most recent call last)",
            "\u001b[0;32m<ipython-input-79-bd7ccd4fb4bf>\u001b[0m in \u001b[0;36m<module>\u001b[0;34m()\u001b[0m\n\u001b[1;32m      1\u001b[0m \u001b[0mtrainer_svhn_mlp\u001b[0m \u001b[0;34m=\u001b[0m \u001b[0mTrainer\u001b[0m\u001b[0;34m(\u001b[0m\u001b[0mmodel\u001b[0m\u001b[0;34m=\u001b[0m\u001b[0msvhn_mlp\u001b[0m\u001b[0;34m,\u001b[0m \u001b[0mopt\u001b[0m\u001b[0;34m=\u001b[0m\u001b[0;34m\"adam\"\u001b[0m\u001b[0;34m,\u001b[0m \u001b[0mlr\u001b[0m\u001b[0;34m=\u001b[0m\u001b[0;36m0.001\u001b[0m\u001b[0;34m,\u001b[0m \u001b[0mhas_scheduler\u001b[0m\u001b[0;34m=\u001b[0m\u001b[0;32mFalse\u001b[0m\u001b[0;34m,\u001b[0m \u001b[0mdevice\u001b[0m\u001b[0;34m=\u001b[0m\u001b[0mdevice\u001b[0m\u001b[0;34m)\u001b[0m\u001b[0;34m.\u001b[0m\u001b[0mto\u001b[0m\u001b[0;34m(\u001b[0m\u001b[0mdevice\u001b[0m\u001b[0;34m)\u001b[0m\u001b[0;34m\u001b[0m\u001b[0;34m\u001b[0m\u001b[0m\n\u001b[1;32m      2\u001b[0m \u001b[0mstart_time\u001b[0m \u001b[0;34m=\u001b[0m \u001b[0mtime\u001b[0m\u001b[0;34m.\u001b[0m\u001b[0mtime\u001b[0m\u001b[0;34m(\u001b[0m\u001b[0;34m)\u001b[0m\u001b[0;34m\u001b[0m\u001b[0;34m\u001b[0m\u001b[0m\n\u001b[0;32m----> 3\u001b[0;31m \u001b[0mtrainer_svhn_mlp\u001b[0m\u001b[0;34m.\u001b[0m\u001b[0mtrain\u001b[0m\u001b[0;34m(\u001b[0m\u001b[0mSVHN_train_loader\u001b[0m\u001b[0;34m,\u001b[0m \u001b[0mSVHN_valid_loader\u001b[0m\u001b[0;34m,\u001b[0m \u001b[0mmax_epochs\u001b[0m\u001b[0;34m=\u001b[0m\u001b[0;36m30\u001b[0m\u001b[0;34m,\u001b[0m \u001b[0mdisp_epoch\u001b[0m\u001b[0;34m=\u001b[0m\u001b[0;36m1\u001b[0m\u001b[0;34m)\u001b[0m\u001b[0;34m\u001b[0m\u001b[0;34m\u001b[0m\u001b[0m\n\u001b[0m\u001b[1;32m      4\u001b[0m \u001b[0mprint\u001b[0m\u001b[0;34m(\u001b[0m\u001b[0;34mf\"Training time : {time.time()-start_time:>3f}\"\u001b[0m\u001b[0;34m)\u001b[0m\u001b[0;34m\u001b[0m\u001b[0;34m\u001b[0m\u001b[0m\n\u001b[1;32m      5\u001b[0m \u001b[0mtrainer_svhn_mlp\u001b[0m\u001b[0;34m.\u001b[0m\u001b[0mtest\u001b[0m\u001b[0;34m(\u001b[0m\u001b[0mSVHN_test_loader\u001b[0m\u001b[0;34m)\u001b[0m\u001b[0;34m\u001b[0m\u001b[0;34m\u001b[0m\u001b[0m\n",
            "\u001b[0;32m<ipython-input-36-8540e3ca5e2d>\u001b[0m in \u001b[0;36mtrain\u001b[0;34m(self, train_loader, valid_loader, max_epochs, disp_epoch)\u001b[0m\n\u001b[1;32m     54\u001b[0m     \u001b[0mhistory\u001b[0m \u001b[0;34m=\u001b[0m \u001b[0;34m{\u001b[0m\u001b[0;34m\"train_loss\"\u001b[0m\u001b[0;34m:\u001b[0m \u001b[0;34m[\u001b[0m\u001b[0;34m]\u001b[0m\u001b[0;34m,\u001b[0m \u001b[0;34m\"train_acc\"\u001b[0m\u001b[0;34m:\u001b[0m \u001b[0;34m[\u001b[0m\u001b[0;34m]\u001b[0m\u001b[0;34m,\u001b[0m \u001b[0;34m\"valid_loss\"\u001b[0m\u001b[0;34m:\u001b[0m \u001b[0;34m[\u001b[0m\u001b[0;34m]\u001b[0m\u001b[0;34m,\u001b[0m \u001b[0;34m\"valid_acc\"\u001b[0m\u001b[0;34m:\u001b[0m \u001b[0;34m[\u001b[0m\u001b[0;34m]\u001b[0m\u001b[0;34m}\u001b[0m\u001b[0;34m\u001b[0m\u001b[0;34m\u001b[0m\u001b[0m\n\u001b[1;32m     55\u001b[0m     \u001b[0;32mfor\u001b[0m \u001b[0me\u001b[0m \u001b[0;32min\u001b[0m \u001b[0mrange\u001b[0m\u001b[0;34m(\u001b[0m\u001b[0mmax_epochs\u001b[0m\u001b[0;34m)\u001b[0m\u001b[0;34m:\u001b[0m\u001b[0;34m\u001b[0m\u001b[0;34m\u001b[0m\u001b[0m\n\u001b[0;32m---> 56\u001b[0;31m       \u001b[0mtrain_loss\u001b[0m\u001b[0;34m,\u001b[0m \u001b[0mtrain_acc\u001b[0m \u001b[0;34m=\u001b[0m \u001b[0mself\u001b[0m\u001b[0;34m.\u001b[0m\u001b[0m_train_epoch\u001b[0m\u001b[0;34m(\u001b[0m\u001b[0mtrain_loader\u001b[0m\u001b[0;34m)\u001b[0m\u001b[0;34m\u001b[0m\u001b[0;34m\u001b[0m\u001b[0m\n\u001b[0m\u001b[1;32m     57\u001b[0m       \u001b[0mvalid_loss\u001b[0m\u001b[0;34m,\u001b[0m \u001b[0mvalid_acc\u001b[0m \u001b[0;34m=\u001b[0m \u001b[0mself\u001b[0m\u001b[0;34m.\u001b[0m\u001b[0m_valid_epoch\u001b[0m\u001b[0;34m(\u001b[0m\u001b[0mvalid_loader\u001b[0m\u001b[0;34m)\u001b[0m\u001b[0;34m\u001b[0m\u001b[0;34m\u001b[0m\u001b[0m\n\u001b[1;32m     58\u001b[0m \u001b[0;34m\u001b[0m\u001b[0m\n",
            "\u001b[0;32m<ipython-input-36-8540e3ca5e2d>\u001b[0m in \u001b[0;36m_train_epoch\u001b[0;34m(self, train_loader)\u001b[0m\n\u001b[1;32m     86\u001b[0m       \u001b[0my\u001b[0m \u001b[0;34m=\u001b[0m \u001b[0my\u001b[0m\u001b[0;34m.\u001b[0m\u001b[0mto\u001b[0m\u001b[0;34m(\u001b[0m\u001b[0mself\u001b[0m\u001b[0;34m.\u001b[0m\u001b[0mdevice\u001b[0m\u001b[0;34m)\u001b[0m\u001b[0;34m\u001b[0m\u001b[0;34m\u001b[0m\u001b[0m\n\u001b[1;32m     87\u001b[0m \u001b[0;34m\u001b[0m\u001b[0m\n\u001b[0;32m---> 88\u001b[0;31m       \u001b[0my_hat\u001b[0m \u001b[0;34m=\u001b[0m \u001b[0mself\u001b[0m\u001b[0;34m.\u001b[0m\u001b[0mmodel\u001b[0m\u001b[0;34m(\u001b[0m\u001b[0mx\u001b[0m\u001b[0;34m)\u001b[0m            \u001b[0;31m# model이 예측한 label\u001b[0m\u001b[0;34m\u001b[0m\u001b[0;34m\u001b[0m\u001b[0m\n\u001b[0m\u001b[1;32m     89\u001b[0m       \u001b[0mloss\u001b[0m \u001b[0;34m=\u001b[0m \u001b[0mself\u001b[0m\u001b[0;34m.\u001b[0m\u001b[0mloss\u001b[0m\u001b[0;34m(\u001b[0m\u001b[0my_hat\u001b[0m\u001b[0;34m,\u001b[0m \u001b[0my\u001b[0m\u001b[0;34m)\u001b[0m       \u001b[0;31m# 그 label을 실제 y와 비교\u001b[0m\u001b[0;34m\u001b[0m\u001b[0;34m\u001b[0m\u001b[0m\n\u001b[1;32m     90\u001b[0m \u001b[0;34m\u001b[0m\u001b[0m\n",
            "\u001b[0;32m/usr/local/lib/python3.7/dist-packages/torch/nn/modules/module.py\u001b[0m in \u001b[0;36m_call_impl\u001b[0;34m(self, *input, **kwargs)\u001b[0m\n\u001b[1;32m   1108\u001b[0m         if not (self._backward_hooks or self._forward_hooks or self._forward_pre_hooks or _global_backward_hooks\n\u001b[1;32m   1109\u001b[0m                 or _global_forward_hooks or _global_forward_pre_hooks):\n\u001b[0;32m-> 1110\u001b[0;31m             \u001b[0;32mreturn\u001b[0m \u001b[0mforward_call\u001b[0m\u001b[0;34m(\u001b[0m\u001b[0;34m*\u001b[0m\u001b[0minput\u001b[0m\u001b[0;34m,\u001b[0m \u001b[0;34m**\u001b[0m\u001b[0mkwargs\u001b[0m\u001b[0;34m)\u001b[0m\u001b[0;34m\u001b[0m\u001b[0;34m\u001b[0m\u001b[0m\n\u001b[0m\u001b[1;32m   1111\u001b[0m         \u001b[0;31m# Do not call functions when jit is used\u001b[0m\u001b[0;34m\u001b[0m\u001b[0;34m\u001b[0m\u001b[0;34m\u001b[0m\u001b[0m\n\u001b[1;32m   1112\u001b[0m         \u001b[0mfull_backward_hooks\u001b[0m\u001b[0;34m,\u001b[0m \u001b[0mnon_full_backward_hooks\u001b[0m \u001b[0;34m=\u001b[0m \u001b[0;34m[\u001b[0m\u001b[0;34m]\u001b[0m\u001b[0;34m,\u001b[0m \u001b[0;34m[\u001b[0m\u001b[0;34m]\u001b[0m\u001b[0;34m\u001b[0m\u001b[0;34m\u001b[0m\u001b[0m\n",
            "\u001b[0;32m<ipython-input-75-df2b63c4f960>\u001b[0m in \u001b[0;36mforward\u001b[0;34m(self, x)\u001b[0m\n\u001b[1;32m     60\u001b[0m \u001b[0;34m\u001b[0m\u001b[0m\n\u001b[1;32m     61\u001b[0m   \u001b[0;32mdef\u001b[0m \u001b[0mforward\u001b[0m\u001b[0;34m(\u001b[0m\u001b[0mself\u001b[0m\u001b[0;34m,\u001b[0m \u001b[0mx\u001b[0m\u001b[0;34m)\u001b[0m\u001b[0;34m:\u001b[0m\u001b[0;34m\u001b[0m\u001b[0;34m\u001b[0m\u001b[0m\n\u001b[0;32m---> 62\u001b[0;31m     \u001b[0;32mreturn\u001b[0m \u001b[0mself\u001b[0m\u001b[0;34m.\u001b[0m\u001b[0mmodel\u001b[0m\u001b[0;34m(\u001b[0m\u001b[0mx\u001b[0m\u001b[0;34m)\u001b[0m\u001b[0;34m\u001b[0m\u001b[0;34m\u001b[0m\u001b[0m\n\u001b[0m",
            "\u001b[0;32m/usr/local/lib/python3.7/dist-packages/torch/nn/modules/module.py\u001b[0m in \u001b[0;36m_call_impl\u001b[0;34m(self, *input, **kwargs)\u001b[0m\n\u001b[1;32m   1108\u001b[0m         if not (self._backward_hooks or self._forward_hooks or self._forward_pre_hooks or _global_backward_hooks\n\u001b[1;32m   1109\u001b[0m                 or _global_forward_hooks or _global_forward_pre_hooks):\n\u001b[0;32m-> 1110\u001b[0;31m             \u001b[0;32mreturn\u001b[0m \u001b[0mforward_call\u001b[0m\u001b[0;34m(\u001b[0m\u001b[0;34m*\u001b[0m\u001b[0minput\u001b[0m\u001b[0;34m,\u001b[0m \u001b[0;34m**\u001b[0m\u001b[0mkwargs\u001b[0m\u001b[0;34m)\u001b[0m\u001b[0;34m\u001b[0m\u001b[0;34m\u001b[0m\u001b[0m\n\u001b[0m\u001b[1;32m   1111\u001b[0m         \u001b[0;31m# Do not call functions when jit is used\u001b[0m\u001b[0;34m\u001b[0m\u001b[0;34m\u001b[0m\u001b[0;34m\u001b[0m\u001b[0m\n\u001b[1;32m   1112\u001b[0m         \u001b[0mfull_backward_hooks\u001b[0m\u001b[0;34m,\u001b[0m \u001b[0mnon_full_backward_hooks\u001b[0m \u001b[0;34m=\u001b[0m \u001b[0;34m[\u001b[0m\u001b[0;34m]\u001b[0m\u001b[0;34m,\u001b[0m \u001b[0;34m[\u001b[0m\u001b[0;34m]\u001b[0m\u001b[0;34m\u001b[0m\u001b[0;34m\u001b[0m\u001b[0m\n",
            "\u001b[0;32m/usr/local/lib/python3.7/dist-packages/torch/nn/modules/container.py\u001b[0m in \u001b[0;36mforward\u001b[0;34m(self, input)\u001b[0m\n\u001b[1;32m    139\u001b[0m     \u001b[0;32mdef\u001b[0m \u001b[0mforward\u001b[0m\u001b[0;34m(\u001b[0m\u001b[0mself\u001b[0m\u001b[0;34m,\u001b[0m \u001b[0minput\u001b[0m\u001b[0;34m)\u001b[0m\u001b[0;34m:\u001b[0m\u001b[0;34m\u001b[0m\u001b[0;34m\u001b[0m\u001b[0m\n\u001b[1;32m    140\u001b[0m         \u001b[0;32mfor\u001b[0m \u001b[0mmodule\u001b[0m \u001b[0;32min\u001b[0m \u001b[0mself\u001b[0m\u001b[0;34m:\u001b[0m\u001b[0;34m\u001b[0m\u001b[0;34m\u001b[0m\u001b[0m\n\u001b[0;32m--> 141\u001b[0;31m             \u001b[0minput\u001b[0m \u001b[0;34m=\u001b[0m \u001b[0mmodule\u001b[0m\u001b[0;34m(\u001b[0m\u001b[0minput\u001b[0m\u001b[0;34m)\u001b[0m\u001b[0;34m\u001b[0m\u001b[0;34m\u001b[0m\u001b[0m\n\u001b[0m\u001b[1;32m    142\u001b[0m         \u001b[0;32mreturn\u001b[0m \u001b[0minput\u001b[0m\u001b[0;34m\u001b[0m\u001b[0;34m\u001b[0m\u001b[0m\n\u001b[1;32m    143\u001b[0m \u001b[0;34m\u001b[0m\u001b[0m\n",
            "\u001b[0;32m/usr/local/lib/python3.7/dist-packages/torch/nn/modules/module.py\u001b[0m in \u001b[0;36m_call_impl\u001b[0;34m(self, *input, **kwargs)\u001b[0m\n\u001b[1;32m   1108\u001b[0m         if not (self._backward_hooks or self._forward_hooks or self._forward_pre_hooks or _global_backward_hooks\n\u001b[1;32m   1109\u001b[0m                 or _global_forward_hooks or _global_forward_pre_hooks):\n\u001b[0;32m-> 1110\u001b[0;31m             \u001b[0;32mreturn\u001b[0m \u001b[0mforward_call\u001b[0m\u001b[0;34m(\u001b[0m\u001b[0;34m*\u001b[0m\u001b[0minput\u001b[0m\u001b[0;34m,\u001b[0m \u001b[0;34m**\u001b[0m\u001b[0mkwargs\u001b[0m\u001b[0;34m)\u001b[0m\u001b[0;34m\u001b[0m\u001b[0;34m\u001b[0m\u001b[0m\n\u001b[0m\u001b[1;32m   1111\u001b[0m         \u001b[0;31m# Do not call functions when jit is used\u001b[0m\u001b[0;34m\u001b[0m\u001b[0;34m\u001b[0m\u001b[0;34m\u001b[0m\u001b[0m\n\u001b[1;32m   1112\u001b[0m         \u001b[0mfull_backward_hooks\u001b[0m\u001b[0;34m,\u001b[0m \u001b[0mnon_full_backward_hooks\u001b[0m \u001b[0;34m=\u001b[0m \u001b[0;34m[\u001b[0m\u001b[0;34m]\u001b[0m\u001b[0;34m,\u001b[0m \u001b[0;34m[\u001b[0m\u001b[0;34m]\u001b[0m\u001b[0;34m\u001b[0m\u001b[0;34m\u001b[0m\u001b[0m\n",
            "\u001b[0;32m/usr/local/lib/python3.7/dist-packages/torch/nn/modules/linear.py\u001b[0m in \u001b[0;36mforward\u001b[0;34m(self, input)\u001b[0m\n\u001b[1;32m    101\u001b[0m \u001b[0;34m\u001b[0m\u001b[0m\n\u001b[1;32m    102\u001b[0m     \u001b[0;32mdef\u001b[0m \u001b[0mforward\u001b[0m\u001b[0;34m(\u001b[0m\u001b[0mself\u001b[0m\u001b[0;34m,\u001b[0m \u001b[0minput\u001b[0m\u001b[0;34m:\u001b[0m \u001b[0mTensor\u001b[0m\u001b[0;34m)\u001b[0m \u001b[0;34m->\u001b[0m \u001b[0mTensor\u001b[0m\u001b[0;34m:\u001b[0m\u001b[0;34m\u001b[0m\u001b[0;34m\u001b[0m\u001b[0m\n\u001b[0;32m--> 103\u001b[0;31m         \u001b[0;32mreturn\u001b[0m \u001b[0mF\u001b[0m\u001b[0;34m.\u001b[0m\u001b[0mlinear\u001b[0m\u001b[0;34m(\u001b[0m\u001b[0minput\u001b[0m\u001b[0;34m,\u001b[0m \u001b[0mself\u001b[0m\u001b[0;34m.\u001b[0m\u001b[0mweight\u001b[0m\u001b[0;34m,\u001b[0m \u001b[0mself\u001b[0m\u001b[0;34m.\u001b[0m\u001b[0mbias\u001b[0m\u001b[0;34m)\u001b[0m\u001b[0;34m\u001b[0m\u001b[0;34m\u001b[0m\u001b[0m\n\u001b[0m\u001b[1;32m    104\u001b[0m \u001b[0;34m\u001b[0m\u001b[0m\n\u001b[1;32m    105\u001b[0m     \u001b[0;32mdef\u001b[0m \u001b[0mextra_repr\u001b[0m\u001b[0;34m(\u001b[0m\u001b[0mself\u001b[0m\u001b[0;34m)\u001b[0m \u001b[0;34m->\u001b[0m \u001b[0mstr\u001b[0m\u001b[0;34m:\u001b[0m\u001b[0;34m\u001b[0m\u001b[0;34m\u001b[0m\u001b[0m\n",
            "\u001b[0;31mRuntimeError\u001b[0m: mat1 and mat2 shapes cannot be multiplied (64x2048 and 1024x10)"
          ]
        }
      ]
    },
    {
      "cell_type": "code",
      "metadata": {
        "id": "TU_y4ySVHfog",
        "outputId": "856f41d6-ff79-4b2c-d5ca-226ce96fc38e",
        "colab": {
          "base_uri": "https://localhost:8080/",
          "height": 463
        }
      },
      "source": [
        "model_path = os.path.join(model_dir, \"Lion_SVHN_MLP_Classifier.pth\")\n",
        "print(model_path)\n",
        "svhn_mlp.load_state_dict(torch.load(model_path))\n",
        "svhn_mlp.eval()\n",
        "\n",
        "# Load 한 model test 성능\n",
        "\n",
        "device = \"cuda\"\n",
        "trainer_load = Trainer(model=svhn_mlp, opt=\"adam\", lr=0.001, has_scheduler=False, device=device).to(device)\n",
        "trainer_load.test(SVHN_test_loader)"
      ],
      "execution_count": null,
      "outputs": [
        {
          "output_type": "stream",
          "name": "stdout",
          "text": [
            "/content/drive/MyDrive/Colab Notebooks/model/Lion_SVHN_MLP_Classifier.pth\n"
          ]
        },
        {
          "output_type": "error",
          "ename": "RuntimeError",
          "evalue": "ignored",
          "traceback": [
            "\u001b[0;31m---------------------------------------------------------------------------\u001b[0m",
            "\u001b[0;31mRuntimeError\u001b[0m                              Traceback (most recent call last)",
            "\u001b[0;32m<ipython-input-80-837de24ca2d8>\u001b[0m in \u001b[0;36m<module>\u001b[0;34m()\u001b[0m\n\u001b[1;32m      1\u001b[0m \u001b[0mmodel_path\u001b[0m \u001b[0;34m=\u001b[0m \u001b[0mos\u001b[0m\u001b[0;34m.\u001b[0m\u001b[0mpath\u001b[0m\u001b[0;34m.\u001b[0m\u001b[0mjoin\u001b[0m\u001b[0;34m(\u001b[0m\u001b[0mmodel_dir\u001b[0m\u001b[0;34m,\u001b[0m \u001b[0;34m\"Lion_SVHN_MLP_Classifier.pth\"\u001b[0m\u001b[0;34m)\u001b[0m\u001b[0;34m\u001b[0m\u001b[0;34m\u001b[0m\u001b[0m\n\u001b[1;32m      2\u001b[0m \u001b[0mprint\u001b[0m\u001b[0;34m(\u001b[0m\u001b[0mmodel_path\u001b[0m\u001b[0;34m)\u001b[0m\u001b[0;34m\u001b[0m\u001b[0;34m\u001b[0m\u001b[0m\n\u001b[0;32m----> 3\u001b[0;31m \u001b[0msvhn_mlp\u001b[0m\u001b[0;34m.\u001b[0m\u001b[0mload_state_dict\u001b[0m\u001b[0;34m(\u001b[0m\u001b[0mtorch\u001b[0m\u001b[0;34m.\u001b[0m\u001b[0mload\u001b[0m\u001b[0;34m(\u001b[0m\u001b[0mmodel_path\u001b[0m\u001b[0;34m)\u001b[0m\u001b[0;34m)\u001b[0m\u001b[0;34m\u001b[0m\u001b[0;34m\u001b[0m\u001b[0m\n\u001b[0m\u001b[1;32m      4\u001b[0m \u001b[0msvhn_mlp\u001b[0m\u001b[0;34m.\u001b[0m\u001b[0meval\u001b[0m\u001b[0;34m(\u001b[0m\u001b[0;34m)\u001b[0m\u001b[0;34m\u001b[0m\u001b[0;34m\u001b[0m\u001b[0m\n\u001b[1;32m      5\u001b[0m \u001b[0;34m\u001b[0m\u001b[0m\n",
            "\u001b[0;32m/usr/local/lib/python3.7/dist-packages/torch/nn/modules/module.py\u001b[0m in \u001b[0;36mload_state_dict\u001b[0;34m(self, state_dict, strict)\u001b[0m\n\u001b[1;32m   1496\u001b[0m         \u001b[0;32mif\u001b[0m \u001b[0mlen\u001b[0m\u001b[0;34m(\u001b[0m\u001b[0merror_msgs\u001b[0m\u001b[0;34m)\u001b[0m \u001b[0;34m>\u001b[0m \u001b[0;36m0\u001b[0m\u001b[0;34m:\u001b[0m\u001b[0;34m\u001b[0m\u001b[0;34m\u001b[0m\u001b[0m\n\u001b[1;32m   1497\u001b[0m             raise RuntimeError('Error(s) in loading state_dict for {}:\\n\\t{}'.format(\n\u001b[0;32m-> 1498\u001b[0;31m                                self.__class__.__name__, \"\\n\\t\".join(error_msgs)))\n\u001b[0m\u001b[1;32m   1499\u001b[0m         \u001b[0;32mreturn\u001b[0m \u001b[0m_IncompatibleKeys\u001b[0m\u001b[0;34m(\u001b[0m\u001b[0mmissing_keys\u001b[0m\u001b[0;34m,\u001b[0m \u001b[0munexpected_keys\u001b[0m\u001b[0;34m)\u001b[0m\u001b[0;34m\u001b[0m\u001b[0;34m\u001b[0m\u001b[0m\n\u001b[1;32m   1500\u001b[0m \u001b[0;34m\u001b[0m\u001b[0m\n",
            "\u001b[0;31mRuntimeError\u001b[0m: Error(s) in loading state_dict for Lion_SVHN_MLP_Classifier:\n\tsize mismatch for model.13.weight: copying a param with shape torch.Size([10, 2048]) from checkpoint, the shape in current model is torch.Size([10, 1024])."
          ]
        }
      ]
    },
    {
      "cell_type": "code",
      "metadata": {
        "id": "cb-EFVhKHfog"
      },
      "source": [
        ""
      ],
      "execution_count": null,
      "outputs": []
    }
  ]
}