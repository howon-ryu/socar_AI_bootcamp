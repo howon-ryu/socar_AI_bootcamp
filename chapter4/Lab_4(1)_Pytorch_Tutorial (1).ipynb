{
  "nbformat": 4,
  "nbformat_minor": 0,
  "metadata": {
    "colab": {
      "name": "Lab 4(1)_Pytorch Tutorial.ipynb",
      "provenance": [],
      "collapsed_sections": []
    },
    "kernelspec": {
      "name": "python3",
      "display_name": "Python 3"
    },
    "language_info": {
      "name": "python"
    },
    "widgets": {
      "application/vnd.jupyter.widget-state+json": {
        "babed33c3ee94de68296f1d1258a2b13": {
          "model_module": "@jupyter-widgets/controls",
          "model_name": "HBoxModel",
          "model_module_version": "1.5.0",
          "state": {
            "_dom_classes": [],
            "_model_module": "@jupyter-widgets/controls",
            "_model_module_version": "1.5.0",
            "_model_name": "HBoxModel",
            "_view_count": null,
            "_view_module": "@jupyter-widgets/controls",
            "_view_module_version": "1.5.0",
            "_view_name": "HBoxView",
            "box_style": "",
            "children": [
              "IPY_MODEL_846557f892a74a5197d628b04aa2ddac",
              "IPY_MODEL_55df4bc5211e4d03844e92a81c3c6227",
              "IPY_MODEL_302c20d3df4541f2adb8530d8c853d99"
            ],
            "layout": "IPY_MODEL_e23ef1f682d7427fba9dc3df963ddd89"
          }
        },
        "846557f892a74a5197d628b04aa2ddac": {
          "model_module": "@jupyter-widgets/controls",
          "model_name": "HTMLModel",
          "model_module_version": "1.5.0",
          "state": {
            "_dom_classes": [],
            "_model_module": "@jupyter-widgets/controls",
            "_model_module_version": "1.5.0",
            "_model_name": "HTMLModel",
            "_view_count": null,
            "_view_module": "@jupyter-widgets/controls",
            "_view_module_version": "1.5.0",
            "_view_name": "HTMLView",
            "description": "",
            "description_tooltip": null,
            "layout": "IPY_MODEL_a22458a868db45f5bec74c59ad56a1ab",
            "placeholder": "​",
            "style": "IPY_MODEL_a4a35ce22b2b4ef0839a717f9ccfe498",
            "value": ""
          }
        },
        "55df4bc5211e4d03844e92a81c3c6227": {
          "model_module": "@jupyter-widgets/controls",
          "model_name": "FloatProgressModel",
          "model_module_version": "1.5.0",
          "state": {
            "_dom_classes": [],
            "_model_module": "@jupyter-widgets/controls",
            "_model_module_version": "1.5.0",
            "_model_name": "FloatProgressModel",
            "_view_count": null,
            "_view_module": "@jupyter-widgets/controls",
            "_view_module_version": "1.5.0",
            "_view_name": "ProgressView",
            "bar_style": "success",
            "description": "",
            "description_tooltip": null,
            "layout": "IPY_MODEL_921765375bf841ec9b08f92d2e6262bb",
            "max": 26421880,
            "min": 0,
            "orientation": "horizontal",
            "style": "IPY_MODEL_612742c2fd0f4351b0a8732fa03cec75",
            "value": 26421880
          }
        },
        "302c20d3df4541f2adb8530d8c853d99": {
          "model_module": "@jupyter-widgets/controls",
          "model_name": "HTMLModel",
          "model_module_version": "1.5.0",
          "state": {
            "_dom_classes": [],
            "_model_module": "@jupyter-widgets/controls",
            "_model_module_version": "1.5.0",
            "_model_name": "HTMLModel",
            "_view_count": null,
            "_view_module": "@jupyter-widgets/controls",
            "_view_module_version": "1.5.0",
            "_view_name": "HTMLView",
            "description": "",
            "description_tooltip": null,
            "layout": "IPY_MODEL_06d42163338f4f0d8fee7c0630f22136",
            "placeholder": "​",
            "style": "IPY_MODEL_038e505c8ade4e118dd6ce36f5cae412",
            "value": " 26422272/? [00:00&lt;00:00, 68585358.08it/s]"
          }
        },
        "e23ef1f682d7427fba9dc3df963ddd89": {
          "model_module": "@jupyter-widgets/base",
          "model_name": "LayoutModel",
          "model_module_version": "1.2.0",
          "state": {
            "_model_module": "@jupyter-widgets/base",
            "_model_module_version": "1.2.0",
            "_model_name": "LayoutModel",
            "_view_count": null,
            "_view_module": "@jupyter-widgets/base",
            "_view_module_version": "1.2.0",
            "_view_name": "LayoutView",
            "align_content": null,
            "align_items": null,
            "align_self": null,
            "border": null,
            "bottom": null,
            "display": null,
            "flex": null,
            "flex_flow": null,
            "grid_area": null,
            "grid_auto_columns": null,
            "grid_auto_flow": null,
            "grid_auto_rows": null,
            "grid_column": null,
            "grid_gap": null,
            "grid_row": null,
            "grid_template_areas": null,
            "grid_template_columns": null,
            "grid_template_rows": null,
            "height": null,
            "justify_content": null,
            "justify_items": null,
            "left": null,
            "margin": null,
            "max_height": null,
            "max_width": null,
            "min_height": null,
            "min_width": null,
            "object_fit": null,
            "object_position": null,
            "order": null,
            "overflow": null,
            "overflow_x": null,
            "overflow_y": null,
            "padding": null,
            "right": null,
            "top": null,
            "visibility": null,
            "width": null
          }
        },
        "a22458a868db45f5bec74c59ad56a1ab": {
          "model_module": "@jupyter-widgets/base",
          "model_name": "LayoutModel",
          "model_module_version": "1.2.0",
          "state": {
            "_model_module": "@jupyter-widgets/base",
            "_model_module_version": "1.2.0",
            "_model_name": "LayoutModel",
            "_view_count": null,
            "_view_module": "@jupyter-widgets/base",
            "_view_module_version": "1.2.0",
            "_view_name": "LayoutView",
            "align_content": null,
            "align_items": null,
            "align_self": null,
            "border": null,
            "bottom": null,
            "display": null,
            "flex": null,
            "flex_flow": null,
            "grid_area": null,
            "grid_auto_columns": null,
            "grid_auto_flow": null,
            "grid_auto_rows": null,
            "grid_column": null,
            "grid_gap": null,
            "grid_row": null,
            "grid_template_areas": null,
            "grid_template_columns": null,
            "grid_template_rows": null,
            "height": null,
            "justify_content": null,
            "justify_items": null,
            "left": null,
            "margin": null,
            "max_height": null,
            "max_width": null,
            "min_height": null,
            "min_width": null,
            "object_fit": null,
            "object_position": null,
            "order": null,
            "overflow": null,
            "overflow_x": null,
            "overflow_y": null,
            "padding": null,
            "right": null,
            "top": null,
            "visibility": null,
            "width": null
          }
        },
        "a4a35ce22b2b4ef0839a717f9ccfe498": {
          "model_module": "@jupyter-widgets/controls",
          "model_name": "DescriptionStyleModel",
          "model_module_version": "1.5.0",
          "state": {
            "_model_module": "@jupyter-widgets/controls",
            "_model_module_version": "1.5.0",
            "_model_name": "DescriptionStyleModel",
            "_view_count": null,
            "_view_module": "@jupyter-widgets/base",
            "_view_module_version": "1.2.0",
            "_view_name": "StyleView",
            "description_width": ""
          }
        },
        "921765375bf841ec9b08f92d2e6262bb": {
          "model_module": "@jupyter-widgets/base",
          "model_name": "LayoutModel",
          "model_module_version": "1.2.0",
          "state": {
            "_model_module": "@jupyter-widgets/base",
            "_model_module_version": "1.2.0",
            "_model_name": "LayoutModel",
            "_view_count": null,
            "_view_module": "@jupyter-widgets/base",
            "_view_module_version": "1.2.0",
            "_view_name": "LayoutView",
            "align_content": null,
            "align_items": null,
            "align_self": null,
            "border": null,
            "bottom": null,
            "display": null,
            "flex": null,
            "flex_flow": null,
            "grid_area": null,
            "grid_auto_columns": null,
            "grid_auto_flow": null,
            "grid_auto_rows": null,
            "grid_column": null,
            "grid_gap": null,
            "grid_row": null,
            "grid_template_areas": null,
            "grid_template_columns": null,
            "grid_template_rows": null,
            "height": null,
            "justify_content": null,
            "justify_items": null,
            "left": null,
            "margin": null,
            "max_height": null,
            "max_width": null,
            "min_height": null,
            "min_width": null,
            "object_fit": null,
            "object_position": null,
            "order": null,
            "overflow": null,
            "overflow_x": null,
            "overflow_y": null,
            "padding": null,
            "right": null,
            "top": null,
            "visibility": null,
            "width": null
          }
        },
        "612742c2fd0f4351b0a8732fa03cec75": {
          "model_module": "@jupyter-widgets/controls",
          "model_name": "ProgressStyleModel",
          "model_module_version": "1.5.0",
          "state": {
            "_model_module": "@jupyter-widgets/controls",
            "_model_module_version": "1.5.0",
            "_model_name": "ProgressStyleModel",
            "_view_count": null,
            "_view_module": "@jupyter-widgets/base",
            "_view_module_version": "1.2.0",
            "_view_name": "StyleView",
            "bar_color": null,
            "description_width": ""
          }
        },
        "06d42163338f4f0d8fee7c0630f22136": {
          "model_module": "@jupyter-widgets/base",
          "model_name": "LayoutModel",
          "model_module_version": "1.2.0",
          "state": {
            "_model_module": "@jupyter-widgets/base",
            "_model_module_version": "1.2.0",
            "_model_name": "LayoutModel",
            "_view_count": null,
            "_view_module": "@jupyter-widgets/base",
            "_view_module_version": "1.2.0",
            "_view_name": "LayoutView",
            "align_content": null,
            "align_items": null,
            "align_self": null,
            "border": null,
            "bottom": null,
            "display": null,
            "flex": null,
            "flex_flow": null,
            "grid_area": null,
            "grid_auto_columns": null,
            "grid_auto_flow": null,
            "grid_auto_rows": null,
            "grid_column": null,
            "grid_gap": null,
            "grid_row": null,
            "grid_template_areas": null,
            "grid_template_columns": null,
            "grid_template_rows": null,
            "height": null,
            "justify_content": null,
            "justify_items": null,
            "left": null,
            "margin": null,
            "max_height": null,
            "max_width": null,
            "min_height": null,
            "min_width": null,
            "object_fit": null,
            "object_position": null,
            "order": null,
            "overflow": null,
            "overflow_x": null,
            "overflow_y": null,
            "padding": null,
            "right": null,
            "top": null,
            "visibility": null,
            "width": null
          }
        },
        "038e505c8ade4e118dd6ce36f5cae412": {
          "model_module": "@jupyter-widgets/controls",
          "model_name": "DescriptionStyleModel",
          "model_module_version": "1.5.0",
          "state": {
            "_model_module": "@jupyter-widgets/controls",
            "_model_module_version": "1.5.0",
            "_model_name": "DescriptionStyleModel",
            "_view_count": null,
            "_view_module": "@jupyter-widgets/base",
            "_view_module_version": "1.2.0",
            "_view_name": "StyleView",
            "description_width": ""
          }
        },
        "ca305f0d615a40b680be9aee47f795de": {
          "model_module": "@jupyter-widgets/controls",
          "model_name": "HBoxModel",
          "model_module_version": "1.5.0",
          "state": {
            "_dom_classes": [],
            "_model_module": "@jupyter-widgets/controls",
            "_model_module_version": "1.5.0",
            "_model_name": "HBoxModel",
            "_view_count": null,
            "_view_module": "@jupyter-widgets/controls",
            "_view_module_version": "1.5.0",
            "_view_name": "HBoxView",
            "box_style": "",
            "children": [
              "IPY_MODEL_96960f3d1d9a442f9097bbc8c1c0c22e",
              "IPY_MODEL_a97124272e1c47408fa30fb49220bba4",
              "IPY_MODEL_308014e5200b49f6adcffec95156cf4f"
            ],
            "layout": "IPY_MODEL_91bc21e124d3404f8ee0cca3d594081f"
          }
        },
        "96960f3d1d9a442f9097bbc8c1c0c22e": {
          "model_module": "@jupyter-widgets/controls",
          "model_name": "HTMLModel",
          "model_module_version": "1.5.0",
          "state": {
            "_dom_classes": [],
            "_model_module": "@jupyter-widgets/controls",
            "_model_module_version": "1.5.0",
            "_model_name": "HTMLModel",
            "_view_count": null,
            "_view_module": "@jupyter-widgets/controls",
            "_view_module_version": "1.5.0",
            "_view_name": "HTMLView",
            "description": "",
            "description_tooltip": null,
            "layout": "IPY_MODEL_8c16e1b813c0485f9ecfa263a44d2780",
            "placeholder": "​",
            "style": "IPY_MODEL_83b4c7b0b290479fbb0b5ccd94f80205",
            "value": ""
          }
        },
        "a97124272e1c47408fa30fb49220bba4": {
          "model_module": "@jupyter-widgets/controls",
          "model_name": "FloatProgressModel",
          "model_module_version": "1.5.0",
          "state": {
            "_dom_classes": [],
            "_model_module": "@jupyter-widgets/controls",
            "_model_module_version": "1.5.0",
            "_model_name": "FloatProgressModel",
            "_view_count": null,
            "_view_module": "@jupyter-widgets/controls",
            "_view_module_version": "1.5.0",
            "_view_name": "ProgressView",
            "bar_style": "success",
            "description": "",
            "description_tooltip": null,
            "layout": "IPY_MODEL_39fc8ab4b0a94a8299230ffccc77307f",
            "max": 29515,
            "min": 0,
            "orientation": "horizontal",
            "style": "IPY_MODEL_2e0344d66d934db8a333538776295983",
            "value": 29515
          }
        },
        "308014e5200b49f6adcffec95156cf4f": {
          "model_module": "@jupyter-widgets/controls",
          "model_name": "HTMLModel",
          "model_module_version": "1.5.0",
          "state": {
            "_dom_classes": [],
            "_model_module": "@jupyter-widgets/controls",
            "_model_module_version": "1.5.0",
            "_model_name": "HTMLModel",
            "_view_count": null,
            "_view_module": "@jupyter-widgets/controls",
            "_view_module_version": "1.5.0",
            "_view_name": "HTMLView",
            "description": "",
            "description_tooltip": null,
            "layout": "IPY_MODEL_0018970195b14c65a1392ff601a76bb6",
            "placeholder": "​",
            "style": "IPY_MODEL_fcec9a1d06e94fe9bc036461c2301db0",
            "value": " 29696/? [00:00&lt;00:00, 910942.30it/s]"
          }
        },
        "91bc21e124d3404f8ee0cca3d594081f": {
          "model_module": "@jupyter-widgets/base",
          "model_name": "LayoutModel",
          "model_module_version": "1.2.0",
          "state": {
            "_model_module": "@jupyter-widgets/base",
            "_model_module_version": "1.2.0",
            "_model_name": "LayoutModel",
            "_view_count": null,
            "_view_module": "@jupyter-widgets/base",
            "_view_module_version": "1.2.0",
            "_view_name": "LayoutView",
            "align_content": null,
            "align_items": null,
            "align_self": null,
            "border": null,
            "bottom": null,
            "display": null,
            "flex": null,
            "flex_flow": null,
            "grid_area": null,
            "grid_auto_columns": null,
            "grid_auto_flow": null,
            "grid_auto_rows": null,
            "grid_column": null,
            "grid_gap": null,
            "grid_row": null,
            "grid_template_areas": null,
            "grid_template_columns": null,
            "grid_template_rows": null,
            "height": null,
            "justify_content": null,
            "justify_items": null,
            "left": null,
            "margin": null,
            "max_height": null,
            "max_width": null,
            "min_height": null,
            "min_width": null,
            "object_fit": null,
            "object_position": null,
            "order": null,
            "overflow": null,
            "overflow_x": null,
            "overflow_y": null,
            "padding": null,
            "right": null,
            "top": null,
            "visibility": null,
            "width": null
          }
        },
        "8c16e1b813c0485f9ecfa263a44d2780": {
          "model_module": "@jupyter-widgets/base",
          "model_name": "LayoutModel",
          "model_module_version": "1.2.0",
          "state": {
            "_model_module": "@jupyter-widgets/base",
            "_model_module_version": "1.2.0",
            "_model_name": "LayoutModel",
            "_view_count": null,
            "_view_module": "@jupyter-widgets/base",
            "_view_module_version": "1.2.0",
            "_view_name": "LayoutView",
            "align_content": null,
            "align_items": null,
            "align_self": null,
            "border": null,
            "bottom": null,
            "display": null,
            "flex": null,
            "flex_flow": null,
            "grid_area": null,
            "grid_auto_columns": null,
            "grid_auto_flow": null,
            "grid_auto_rows": null,
            "grid_column": null,
            "grid_gap": null,
            "grid_row": null,
            "grid_template_areas": null,
            "grid_template_columns": null,
            "grid_template_rows": null,
            "height": null,
            "justify_content": null,
            "justify_items": null,
            "left": null,
            "margin": null,
            "max_height": null,
            "max_width": null,
            "min_height": null,
            "min_width": null,
            "object_fit": null,
            "object_position": null,
            "order": null,
            "overflow": null,
            "overflow_x": null,
            "overflow_y": null,
            "padding": null,
            "right": null,
            "top": null,
            "visibility": null,
            "width": null
          }
        },
        "83b4c7b0b290479fbb0b5ccd94f80205": {
          "model_module": "@jupyter-widgets/controls",
          "model_name": "DescriptionStyleModel",
          "model_module_version": "1.5.0",
          "state": {
            "_model_module": "@jupyter-widgets/controls",
            "_model_module_version": "1.5.0",
            "_model_name": "DescriptionStyleModel",
            "_view_count": null,
            "_view_module": "@jupyter-widgets/base",
            "_view_module_version": "1.2.0",
            "_view_name": "StyleView",
            "description_width": ""
          }
        },
        "39fc8ab4b0a94a8299230ffccc77307f": {
          "model_module": "@jupyter-widgets/base",
          "model_name": "LayoutModel",
          "model_module_version": "1.2.0",
          "state": {
            "_model_module": "@jupyter-widgets/base",
            "_model_module_version": "1.2.0",
            "_model_name": "LayoutModel",
            "_view_count": null,
            "_view_module": "@jupyter-widgets/base",
            "_view_module_version": "1.2.0",
            "_view_name": "LayoutView",
            "align_content": null,
            "align_items": null,
            "align_self": null,
            "border": null,
            "bottom": null,
            "display": null,
            "flex": null,
            "flex_flow": null,
            "grid_area": null,
            "grid_auto_columns": null,
            "grid_auto_flow": null,
            "grid_auto_rows": null,
            "grid_column": null,
            "grid_gap": null,
            "grid_row": null,
            "grid_template_areas": null,
            "grid_template_columns": null,
            "grid_template_rows": null,
            "height": null,
            "justify_content": null,
            "justify_items": null,
            "left": null,
            "margin": null,
            "max_height": null,
            "max_width": null,
            "min_height": null,
            "min_width": null,
            "object_fit": null,
            "object_position": null,
            "order": null,
            "overflow": null,
            "overflow_x": null,
            "overflow_y": null,
            "padding": null,
            "right": null,
            "top": null,
            "visibility": null,
            "width": null
          }
        },
        "2e0344d66d934db8a333538776295983": {
          "model_module": "@jupyter-widgets/controls",
          "model_name": "ProgressStyleModel",
          "model_module_version": "1.5.0",
          "state": {
            "_model_module": "@jupyter-widgets/controls",
            "_model_module_version": "1.5.0",
            "_model_name": "ProgressStyleModel",
            "_view_count": null,
            "_view_module": "@jupyter-widgets/base",
            "_view_module_version": "1.2.0",
            "_view_name": "StyleView",
            "bar_color": null,
            "description_width": ""
          }
        },
        "0018970195b14c65a1392ff601a76bb6": {
          "model_module": "@jupyter-widgets/base",
          "model_name": "LayoutModel",
          "model_module_version": "1.2.0",
          "state": {
            "_model_module": "@jupyter-widgets/base",
            "_model_module_version": "1.2.0",
            "_model_name": "LayoutModel",
            "_view_count": null,
            "_view_module": "@jupyter-widgets/base",
            "_view_module_version": "1.2.0",
            "_view_name": "LayoutView",
            "align_content": null,
            "align_items": null,
            "align_self": null,
            "border": null,
            "bottom": null,
            "display": null,
            "flex": null,
            "flex_flow": null,
            "grid_area": null,
            "grid_auto_columns": null,
            "grid_auto_flow": null,
            "grid_auto_rows": null,
            "grid_column": null,
            "grid_gap": null,
            "grid_row": null,
            "grid_template_areas": null,
            "grid_template_columns": null,
            "grid_template_rows": null,
            "height": null,
            "justify_content": null,
            "justify_items": null,
            "left": null,
            "margin": null,
            "max_height": null,
            "max_width": null,
            "min_height": null,
            "min_width": null,
            "object_fit": null,
            "object_position": null,
            "order": null,
            "overflow": null,
            "overflow_x": null,
            "overflow_y": null,
            "padding": null,
            "right": null,
            "top": null,
            "visibility": null,
            "width": null
          }
        },
        "fcec9a1d06e94fe9bc036461c2301db0": {
          "model_module": "@jupyter-widgets/controls",
          "model_name": "DescriptionStyleModel",
          "model_module_version": "1.5.0",
          "state": {
            "_model_module": "@jupyter-widgets/controls",
            "_model_module_version": "1.5.0",
            "_model_name": "DescriptionStyleModel",
            "_view_count": null,
            "_view_module": "@jupyter-widgets/base",
            "_view_module_version": "1.2.0",
            "_view_name": "StyleView",
            "description_width": ""
          }
        },
        "b641548165a548f9ad6d81e9ec7a9151": {
          "model_module": "@jupyter-widgets/controls",
          "model_name": "HBoxModel",
          "model_module_version": "1.5.0",
          "state": {
            "_dom_classes": [],
            "_model_module": "@jupyter-widgets/controls",
            "_model_module_version": "1.5.0",
            "_model_name": "HBoxModel",
            "_view_count": null,
            "_view_module": "@jupyter-widgets/controls",
            "_view_module_version": "1.5.0",
            "_view_name": "HBoxView",
            "box_style": "",
            "children": [
              "IPY_MODEL_7f18b326f11240e09d643d881d7f22ed",
              "IPY_MODEL_58a902323a7a4efe8cb5fe88a8ad2ba3",
              "IPY_MODEL_dc844ff46b0145b19057d0968626d713"
            ],
            "layout": "IPY_MODEL_c994bd1fd60c4595b481ec849d4c2767"
          }
        },
        "7f18b326f11240e09d643d881d7f22ed": {
          "model_module": "@jupyter-widgets/controls",
          "model_name": "HTMLModel",
          "model_module_version": "1.5.0",
          "state": {
            "_dom_classes": [],
            "_model_module": "@jupyter-widgets/controls",
            "_model_module_version": "1.5.0",
            "_model_name": "HTMLModel",
            "_view_count": null,
            "_view_module": "@jupyter-widgets/controls",
            "_view_module_version": "1.5.0",
            "_view_name": "HTMLView",
            "description": "",
            "description_tooltip": null,
            "layout": "IPY_MODEL_23e6427aae5d4824a1d922444a46eca2",
            "placeholder": "​",
            "style": "IPY_MODEL_8b1fdf73e58e474f8a36f3db4dd479bd",
            "value": ""
          }
        },
        "58a902323a7a4efe8cb5fe88a8ad2ba3": {
          "model_module": "@jupyter-widgets/controls",
          "model_name": "FloatProgressModel",
          "model_module_version": "1.5.0",
          "state": {
            "_dom_classes": [],
            "_model_module": "@jupyter-widgets/controls",
            "_model_module_version": "1.5.0",
            "_model_name": "FloatProgressModel",
            "_view_count": null,
            "_view_module": "@jupyter-widgets/controls",
            "_view_module_version": "1.5.0",
            "_view_name": "ProgressView",
            "bar_style": "success",
            "description": "",
            "description_tooltip": null,
            "layout": "IPY_MODEL_cd5ef2e449ac45e1b3b43abeed46947b",
            "max": 4422102,
            "min": 0,
            "orientation": "horizontal",
            "style": "IPY_MODEL_b505b1a7db944257a0ccab9ae119aa99",
            "value": 4422102
          }
        },
        "dc844ff46b0145b19057d0968626d713": {
          "model_module": "@jupyter-widgets/controls",
          "model_name": "HTMLModel",
          "model_module_version": "1.5.0",
          "state": {
            "_dom_classes": [],
            "_model_module": "@jupyter-widgets/controls",
            "_model_module_version": "1.5.0",
            "_model_name": "HTMLModel",
            "_view_count": null,
            "_view_module": "@jupyter-widgets/controls",
            "_view_module_version": "1.5.0",
            "_view_name": "HTMLView",
            "description": "",
            "description_tooltip": null,
            "layout": "IPY_MODEL_a8f3f86a6eb640bd8a7a3ebfe6690849",
            "placeholder": "​",
            "style": "IPY_MODEL_ed10a6429ab843398e3fea9735629218",
            "value": " 4422656/? [00:00&lt;00:00, 11364622.98it/s]"
          }
        },
        "c994bd1fd60c4595b481ec849d4c2767": {
          "model_module": "@jupyter-widgets/base",
          "model_name": "LayoutModel",
          "model_module_version": "1.2.0",
          "state": {
            "_model_module": "@jupyter-widgets/base",
            "_model_module_version": "1.2.0",
            "_model_name": "LayoutModel",
            "_view_count": null,
            "_view_module": "@jupyter-widgets/base",
            "_view_module_version": "1.2.0",
            "_view_name": "LayoutView",
            "align_content": null,
            "align_items": null,
            "align_self": null,
            "border": null,
            "bottom": null,
            "display": null,
            "flex": null,
            "flex_flow": null,
            "grid_area": null,
            "grid_auto_columns": null,
            "grid_auto_flow": null,
            "grid_auto_rows": null,
            "grid_column": null,
            "grid_gap": null,
            "grid_row": null,
            "grid_template_areas": null,
            "grid_template_columns": null,
            "grid_template_rows": null,
            "height": null,
            "justify_content": null,
            "justify_items": null,
            "left": null,
            "margin": null,
            "max_height": null,
            "max_width": null,
            "min_height": null,
            "min_width": null,
            "object_fit": null,
            "object_position": null,
            "order": null,
            "overflow": null,
            "overflow_x": null,
            "overflow_y": null,
            "padding": null,
            "right": null,
            "top": null,
            "visibility": null,
            "width": null
          }
        },
        "23e6427aae5d4824a1d922444a46eca2": {
          "model_module": "@jupyter-widgets/base",
          "model_name": "LayoutModel",
          "model_module_version": "1.2.0",
          "state": {
            "_model_module": "@jupyter-widgets/base",
            "_model_module_version": "1.2.0",
            "_model_name": "LayoutModel",
            "_view_count": null,
            "_view_module": "@jupyter-widgets/base",
            "_view_module_version": "1.2.0",
            "_view_name": "LayoutView",
            "align_content": null,
            "align_items": null,
            "align_self": null,
            "border": null,
            "bottom": null,
            "display": null,
            "flex": null,
            "flex_flow": null,
            "grid_area": null,
            "grid_auto_columns": null,
            "grid_auto_flow": null,
            "grid_auto_rows": null,
            "grid_column": null,
            "grid_gap": null,
            "grid_row": null,
            "grid_template_areas": null,
            "grid_template_columns": null,
            "grid_template_rows": null,
            "height": null,
            "justify_content": null,
            "justify_items": null,
            "left": null,
            "margin": null,
            "max_height": null,
            "max_width": null,
            "min_height": null,
            "min_width": null,
            "object_fit": null,
            "object_position": null,
            "order": null,
            "overflow": null,
            "overflow_x": null,
            "overflow_y": null,
            "padding": null,
            "right": null,
            "top": null,
            "visibility": null,
            "width": null
          }
        },
        "8b1fdf73e58e474f8a36f3db4dd479bd": {
          "model_module": "@jupyter-widgets/controls",
          "model_name": "DescriptionStyleModel",
          "model_module_version": "1.5.0",
          "state": {
            "_model_module": "@jupyter-widgets/controls",
            "_model_module_version": "1.5.0",
            "_model_name": "DescriptionStyleModel",
            "_view_count": null,
            "_view_module": "@jupyter-widgets/base",
            "_view_module_version": "1.2.0",
            "_view_name": "StyleView",
            "description_width": ""
          }
        },
        "cd5ef2e449ac45e1b3b43abeed46947b": {
          "model_module": "@jupyter-widgets/base",
          "model_name": "LayoutModel",
          "model_module_version": "1.2.0",
          "state": {
            "_model_module": "@jupyter-widgets/base",
            "_model_module_version": "1.2.0",
            "_model_name": "LayoutModel",
            "_view_count": null,
            "_view_module": "@jupyter-widgets/base",
            "_view_module_version": "1.2.0",
            "_view_name": "LayoutView",
            "align_content": null,
            "align_items": null,
            "align_self": null,
            "border": null,
            "bottom": null,
            "display": null,
            "flex": null,
            "flex_flow": null,
            "grid_area": null,
            "grid_auto_columns": null,
            "grid_auto_flow": null,
            "grid_auto_rows": null,
            "grid_column": null,
            "grid_gap": null,
            "grid_row": null,
            "grid_template_areas": null,
            "grid_template_columns": null,
            "grid_template_rows": null,
            "height": null,
            "justify_content": null,
            "justify_items": null,
            "left": null,
            "margin": null,
            "max_height": null,
            "max_width": null,
            "min_height": null,
            "min_width": null,
            "object_fit": null,
            "object_position": null,
            "order": null,
            "overflow": null,
            "overflow_x": null,
            "overflow_y": null,
            "padding": null,
            "right": null,
            "top": null,
            "visibility": null,
            "width": null
          }
        },
        "b505b1a7db944257a0ccab9ae119aa99": {
          "model_module": "@jupyter-widgets/controls",
          "model_name": "ProgressStyleModel",
          "model_module_version": "1.5.0",
          "state": {
            "_model_module": "@jupyter-widgets/controls",
            "_model_module_version": "1.5.0",
            "_model_name": "ProgressStyleModel",
            "_view_count": null,
            "_view_module": "@jupyter-widgets/base",
            "_view_module_version": "1.2.0",
            "_view_name": "StyleView",
            "bar_color": null,
            "description_width": ""
          }
        },
        "a8f3f86a6eb640bd8a7a3ebfe6690849": {
          "model_module": "@jupyter-widgets/base",
          "model_name": "LayoutModel",
          "model_module_version": "1.2.0",
          "state": {
            "_model_module": "@jupyter-widgets/base",
            "_model_module_version": "1.2.0",
            "_model_name": "LayoutModel",
            "_view_count": null,
            "_view_module": "@jupyter-widgets/base",
            "_view_module_version": "1.2.0",
            "_view_name": "LayoutView",
            "align_content": null,
            "align_items": null,
            "align_self": null,
            "border": null,
            "bottom": null,
            "display": null,
            "flex": null,
            "flex_flow": null,
            "grid_area": null,
            "grid_auto_columns": null,
            "grid_auto_flow": null,
            "grid_auto_rows": null,
            "grid_column": null,
            "grid_gap": null,
            "grid_row": null,
            "grid_template_areas": null,
            "grid_template_columns": null,
            "grid_template_rows": null,
            "height": null,
            "justify_content": null,
            "justify_items": null,
            "left": null,
            "margin": null,
            "max_height": null,
            "max_width": null,
            "min_height": null,
            "min_width": null,
            "object_fit": null,
            "object_position": null,
            "order": null,
            "overflow": null,
            "overflow_x": null,
            "overflow_y": null,
            "padding": null,
            "right": null,
            "top": null,
            "visibility": null,
            "width": null
          }
        },
        "ed10a6429ab843398e3fea9735629218": {
          "model_module": "@jupyter-widgets/controls",
          "model_name": "DescriptionStyleModel",
          "model_module_version": "1.5.0",
          "state": {
            "_model_module": "@jupyter-widgets/controls",
            "_model_module_version": "1.5.0",
            "_model_name": "DescriptionStyleModel",
            "_view_count": null,
            "_view_module": "@jupyter-widgets/base",
            "_view_module_version": "1.2.0",
            "_view_name": "StyleView",
            "description_width": ""
          }
        },
        "2a575e483194468d877043ed30ec343b": {
          "model_module": "@jupyter-widgets/controls",
          "model_name": "HBoxModel",
          "model_module_version": "1.5.0",
          "state": {
            "_dom_classes": [],
            "_model_module": "@jupyter-widgets/controls",
            "_model_module_version": "1.5.0",
            "_model_name": "HBoxModel",
            "_view_count": null,
            "_view_module": "@jupyter-widgets/controls",
            "_view_module_version": "1.5.0",
            "_view_name": "HBoxView",
            "box_style": "",
            "children": [
              "IPY_MODEL_8af058e034bd4851a2a9834e173331f3",
              "IPY_MODEL_732f1e8b344e4b5397d4c29d6555acf0",
              "IPY_MODEL_97b53e723c674a96b85e74900552b174"
            ],
            "layout": "IPY_MODEL_028acd8c85ae40bda476a2d00171956b"
          }
        },
        "8af058e034bd4851a2a9834e173331f3": {
          "model_module": "@jupyter-widgets/controls",
          "model_name": "HTMLModel",
          "model_module_version": "1.5.0",
          "state": {
            "_dom_classes": [],
            "_model_module": "@jupyter-widgets/controls",
            "_model_module_version": "1.5.0",
            "_model_name": "HTMLModel",
            "_view_count": null,
            "_view_module": "@jupyter-widgets/controls",
            "_view_module_version": "1.5.0",
            "_view_name": "HTMLView",
            "description": "",
            "description_tooltip": null,
            "layout": "IPY_MODEL_f4bd4bc0df18473aa6de3907fbb85211",
            "placeholder": "​",
            "style": "IPY_MODEL_209c7a1c6ca447a687a0b7711c01ccd4",
            "value": ""
          }
        },
        "732f1e8b344e4b5397d4c29d6555acf0": {
          "model_module": "@jupyter-widgets/controls",
          "model_name": "FloatProgressModel",
          "model_module_version": "1.5.0",
          "state": {
            "_dom_classes": [],
            "_model_module": "@jupyter-widgets/controls",
            "_model_module_version": "1.5.0",
            "_model_name": "FloatProgressModel",
            "_view_count": null,
            "_view_module": "@jupyter-widgets/controls",
            "_view_module_version": "1.5.0",
            "_view_name": "ProgressView",
            "bar_style": "success",
            "description": "",
            "description_tooltip": null,
            "layout": "IPY_MODEL_6264f1341e594240a927f2cf800e1440",
            "max": 5148,
            "min": 0,
            "orientation": "horizontal",
            "style": "IPY_MODEL_110d63a4c50c4b4281036d979f9777f5",
            "value": 5148
          }
        },
        "97b53e723c674a96b85e74900552b174": {
          "model_module": "@jupyter-widgets/controls",
          "model_name": "HTMLModel",
          "model_module_version": "1.5.0",
          "state": {
            "_dom_classes": [],
            "_model_module": "@jupyter-widgets/controls",
            "_model_module_version": "1.5.0",
            "_model_name": "HTMLModel",
            "_view_count": null,
            "_view_module": "@jupyter-widgets/controls",
            "_view_module_version": "1.5.0",
            "_view_name": "HTMLView",
            "description": "",
            "description_tooltip": null,
            "layout": "IPY_MODEL_ec3ad5293b3e429bbc4d404fd754ff0d",
            "placeholder": "​",
            "style": "IPY_MODEL_2c33c2c89aca444c93029e794735e27a",
            "value": " 6144/? [00:00&lt;00:00, 166611.52it/s]"
          }
        },
        "028acd8c85ae40bda476a2d00171956b": {
          "model_module": "@jupyter-widgets/base",
          "model_name": "LayoutModel",
          "model_module_version": "1.2.0",
          "state": {
            "_model_module": "@jupyter-widgets/base",
            "_model_module_version": "1.2.0",
            "_model_name": "LayoutModel",
            "_view_count": null,
            "_view_module": "@jupyter-widgets/base",
            "_view_module_version": "1.2.0",
            "_view_name": "LayoutView",
            "align_content": null,
            "align_items": null,
            "align_self": null,
            "border": null,
            "bottom": null,
            "display": null,
            "flex": null,
            "flex_flow": null,
            "grid_area": null,
            "grid_auto_columns": null,
            "grid_auto_flow": null,
            "grid_auto_rows": null,
            "grid_column": null,
            "grid_gap": null,
            "grid_row": null,
            "grid_template_areas": null,
            "grid_template_columns": null,
            "grid_template_rows": null,
            "height": null,
            "justify_content": null,
            "justify_items": null,
            "left": null,
            "margin": null,
            "max_height": null,
            "max_width": null,
            "min_height": null,
            "min_width": null,
            "object_fit": null,
            "object_position": null,
            "order": null,
            "overflow": null,
            "overflow_x": null,
            "overflow_y": null,
            "padding": null,
            "right": null,
            "top": null,
            "visibility": null,
            "width": null
          }
        },
        "f4bd4bc0df18473aa6de3907fbb85211": {
          "model_module": "@jupyter-widgets/base",
          "model_name": "LayoutModel",
          "model_module_version": "1.2.0",
          "state": {
            "_model_module": "@jupyter-widgets/base",
            "_model_module_version": "1.2.0",
            "_model_name": "LayoutModel",
            "_view_count": null,
            "_view_module": "@jupyter-widgets/base",
            "_view_module_version": "1.2.0",
            "_view_name": "LayoutView",
            "align_content": null,
            "align_items": null,
            "align_self": null,
            "border": null,
            "bottom": null,
            "display": null,
            "flex": null,
            "flex_flow": null,
            "grid_area": null,
            "grid_auto_columns": null,
            "grid_auto_flow": null,
            "grid_auto_rows": null,
            "grid_column": null,
            "grid_gap": null,
            "grid_row": null,
            "grid_template_areas": null,
            "grid_template_columns": null,
            "grid_template_rows": null,
            "height": null,
            "justify_content": null,
            "justify_items": null,
            "left": null,
            "margin": null,
            "max_height": null,
            "max_width": null,
            "min_height": null,
            "min_width": null,
            "object_fit": null,
            "object_position": null,
            "order": null,
            "overflow": null,
            "overflow_x": null,
            "overflow_y": null,
            "padding": null,
            "right": null,
            "top": null,
            "visibility": null,
            "width": null
          }
        },
        "209c7a1c6ca447a687a0b7711c01ccd4": {
          "model_module": "@jupyter-widgets/controls",
          "model_name": "DescriptionStyleModel",
          "model_module_version": "1.5.0",
          "state": {
            "_model_module": "@jupyter-widgets/controls",
            "_model_module_version": "1.5.0",
            "_model_name": "DescriptionStyleModel",
            "_view_count": null,
            "_view_module": "@jupyter-widgets/base",
            "_view_module_version": "1.2.0",
            "_view_name": "StyleView",
            "description_width": ""
          }
        },
        "6264f1341e594240a927f2cf800e1440": {
          "model_module": "@jupyter-widgets/base",
          "model_name": "LayoutModel",
          "model_module_version": "1.2.0",
          "state": {
            "_model_module": "@jupyter-widgets/base",
            "_model_module_version": "1.2.0",
            "_model_name": "LayoutModel",
            "_view_count": null,
            "_view_module": "@jupyter-widgets/base",
            "_view_module_version": "1.2.0",
            "_view_name": "LayoutView",
            "align_content": null,
            "align_items": null,
            "align_self": null,
            "border": null,
            "bottom": null,
            "display": null,
            "flex": null,
            "flex_flow": null,
            "grid_area": null,
            "grid_auto_columns": null,
            "grid_auto_flow": null,
            "grid_auto_rows": null,
            "grid_column": null,
            "grid_gap": null,
            "grid_row": null,
            "grid_template_areas": null,
            "grid_template_columns": null,
            "grid_template_rows": null,
            "height": null,
            "justify_content": null,
            "justify_items": null,
            "left": null,
            "margin": null,
            "max_height": null,
            "max_width": null,
            "min_height": null,
            "min_width": null,
            "object_fit": null,
            "object_position": null,
            "order": null,
            "overflow": null,
            "overflow_x": null,
            "overflow_y": null,
            "padding": null,
            "right": null,
            "top": null,
            "visibility": null,
            "width": null
          }
        },
        "110d63a4c50c4b4281036d979f9777f5": {
          "model_module": "@jupyter-widgets/controls",
          "model_name": "ProgressStyleModel",
          "model_module_version": "1.5.0",
          "state": {
            "_model_module": "@jupyter-widgets/controls",
            "_model_module_version": "1.5.0",
            "_model_name": "ProgressStyleModel",
            "_view_count": null,
            "_view_module": "@jupyter-widgets/base",
            "_view_module_version": "1.2.0",
            "_view_name": "StyleView",
            "bar_color": null,
            "description_width": ""
          }
        },
        "ec3ad5293b3e429bbc4d404fd754ff0d": {
          "model_module": "@jupyter-widgets/base",
          "model_name": "LayoutModel",
          "model_module_version": "1.2.0",
          "state": {
            "_model_module": "@jupyter-widgets/base",
            "_model_module_version": "1.2.0",
            "_model_name": "LayoutModel",
            "_view_count": null,
            "_view_module": "@jupyter-widgets/base",
            "_view_module_version": "1.2.0",
            "_view_name": "LayoutView",
            "align_content": null,
            "align_items": null,
            "align_self": null,
            "border": null,
            "bottom": null,
            "display": null,
            "flex": null,
            "flex_flow": null,
            "grid_area": null,
            "grid_auto_columns": null,
            "grid_auto_flow": null,
            "grid_auto_rows": null,
            "grid_column": null,
            "grid_gap": null,
            "grid_row": null,
            "grid_template_areas": null,
            "grid_template_columns": null,
            "grid_template_rows": null,
            "height": null,
            "justify_content": null,
            "justify_items": null,
            "left": null,
            "margin": null,
            "max_height": null,
            "max_width": null,
            "min_height": null,
            "min_width": null,
            "object_fit": null,
            "object_position": null,
            "order": null,
            "overflow": null,
            "overflow_x": null,
            "overflow_y": null,
            "padding": null,
            "right": null,
            "top": null,
            "visibility": null,
            "width": null
          }
        },
        "2c33c2c89aca444c93029e794735e27a": {
          "model_module": "@jupyter-widgets/controls",
          "model_name": "DescriptionStyleModel",
          "model_module_version": "1.5.0",
          "state": {
            "_model_module": "@jupyter-widgets/controls",
            "_model_module_version": "1.5.0",
            "_model_name": "DescriptionStyleModel",
            "_view_count": null,
            "_view_module": "@jupyter-widgets/base",
            "_view_module_version": "1.2.0",
            "_view_name": "StyleView",
            "description_width": ""
          }
        }
      }
    },
    "accelerator": "GPU"
  },
  "cells": [
    {
      "cell_type": "markdown",
      "metadata": {
        "id": "ROlNv9EyP_go"
      },
      "source": [
        "# Lab 4-1. PyTorch Tutorial\n",
        "\n",
        "### 이번 실습은 PyTorch tutorial로 gpu 연산이 가능한 torch tensor와 다양한 딥러닝 학습 관련 기능들을 내장한 torch package에 대해 알아봅니다.\n",
        "\n",
        "### 또한 PyTorch에서 유용하게 사용될 수 있는 다양한 이미지 데이터 관련 기능들을 제공하는 torchvision package를 이용해 다양한 dataset을 불러오고 작동하는 방식에 대해 알아보겠습니다.\n",
        "\n",
        "### PyTorch는 TensorFlow와 함께 가장 많이 사용되는 딥러닝 학습 패키지로 TensorFlow보다 늦게 등장했지만 사용 방법이 더 직관적이기 때문에 최근에는 더 많이 사용되고 있습니다.\n",
        "\n",
        "### PyTorch의 tensor datatype은 Numpy의 행렬 연산과 유용한 기능들을 지원하며 PyTorch 내부적으로 모델 학습과 관련된 다양한 알고리즘들이 구현되어 있습니다.\n",
        "\n",
        "### torchvision 등 학습과 실습에 유용한 패키지들이 추가적으로 개발되어 있기 때문에 AI 엔지니어로서 딥러닝 모델을 개발하는 데에 필수적인 툴입니다.\n",
        "\n",
        "### 이번 실습에서 사용할 패키지들은 다음과 같습니다.\n",
        "\n",
        "- numpy\n",
        "- pytorch\n",
        "- torchvision\n",
        "- matplotlib"
      ]
    },
    {
      "cell_type": "markdown",
      "metadata": {
        "id": "f7OQUnodSXUc"
      },
      "source": [
        "### Package import"
      ]
    },
    {
      "cell_type": "code",
      "metadata": {
        "id": "-34oQlIDP8ZO"
      },
      "source": [
        "import numpy as np\n",
        "\n",
        "import torch\n",
        "from torch import nn\n",
        "from torch.utils.data import Dataset, DataLoader\n",
        "\n",
        "from torchvision import datasets, transforms\n",
        "\n",
        "import matplotlib.pyplot as plt"
      ],
      "execution_count": null,
      "outputs": []
    },
    {
      "cell_type": "markdown",
      "metadata": {
        "id": "orCISBJaP-I4"
      },
      "source": [
        "## 4-1-1. Torch tensor란?\n",
        "\n",
        "### Torch의 tensor는 numpy의 ndarray와 마찬가지로 다차원 데이터 배열입니다.\n",
        "\n",
        "### 때문에 tensor를 생성할 때는 list의 형태로 데이터를 넘겨주기도 하지만 보통은 numpy ndarray를 넘겨줍니다.\n",
        "\n",
        "### 또한 이름은 약간씩 다를 수 있지만 numpy의 유용한 연산과 기법들을 대부분 사용이 가능하여 큰 혼동없이 다룰 수 있습니다.\n",
        "\n",
        "### Torch tensor가 numpy ndarray와 다른 점은 모델 학습에 필요한 back propagation을 다루기 위해 이를 위한 정보들을 내부에 추가적으로 저장한다는 것입니다.\n",
        "\n",
        "### 5주차 강의 때 배우시겠지만 back propagation (backward pass)를 위해서는 forward pass에서 전달된 값과 연산의 종류를 기억하고 있어야 하는데 torch tensor는 require_grads flag를 이용해 이러한 정보를 기억할지 설정할 수 있습니다.\n",
        "\n",
        "### 이번 실습에서는 numpy의 유사한 tensor 연산을 복습해보고 torch 고유의 dataset, dataloader, 그리고 nn.module 등에 대해 살펴보겠습니다."
      ]
    },
    {
      "cell_type": "markdown",
      "metadata": {
        "id": "xDPae1uDFbfD"
      },
      "source": [
        "### 생성"
      ]
    },
    {
      "cell_type": "code",
      "metadata": {
        "id": "MwgqYTGg3jBr",
        "colab": {
          "base_uri": "https://localhost:8080/"
        },
        "outputId": "27c16445-9348-48f7-e6d9-64c57305d9de"
      },
      "source": [
        "# torch.tensor(data, device)\n",
        "a = torch.tensor([[1.0, 4.0], [4.0, 3.0]], device=0)\n",
        "b = torch.tensor([[4, 3], [1, 4], [1, 2]], dtype=torch.float32, device=\"cpu\")\n",
        "print(a)\n",
        "print(b)"
      ],
      "execution_count": null,
      "outputs": [
        {
          "output_type": "stream",
          "name": "stdout",
          "text": [
            "tensor([[1., 4.],\n",
            "        [4., 3.]], device='cuda:0')\n",
            "tensor([[4., 3.],\n",
            "        [1., 4.],\n",
            "        [1., 2.]])\n"
          ]
        }
      ]
    },
    {
      "cell_type": "code",
      "metadata": {
        "colab": {
          "base_uri": "https://localhost:8080/"
        },
        "id": "yzAdcZPGbPrX",
        "outputId": "00321329-09ef-46e2-ce2e-97861b95ffc8"
      },
      "source": [
        "print(a.dtype, a.device, a.shape)\n",
        "print(b.dtype, b.device, b.shape)"
      ],
      "execution_count": null,
      "outputs": [
        {
          "output_type": "stream",
          "name": "stdout",
          "text": [
            "torch.float32 cuda:0 torch.Size([2, 2])\n",
            "torch.float32 cpu torch.Size([3, 2])\n"
          ]
        }
      ]
    },
    {
      "cell_type": "code",
      "metadata": {
        "colab": {
          "base_uri": "https://localhost:8080/"
        },
        "id": "DLikg8bBbWbs",
        "outputId": "6148a3ba-b2d9-4e99-dbaa-f7011f4d1f08"
      },
      "source": [
        "a = torch.Tensor([[4, 2], [2, 1]])\n",
        "print(a)\n",
        "print(a.dtype, a.device)"
      ],
      "execution_count": null,
      "outputs": [
        {
          "output_type": "stream",
          "name": "stdout",
          "text": [
            "tensor([[4., 2.],\n",
            "        [2., 1.]])\n",
            "torch.float32 cpu\n"
          ]
        }
      ]
    },
    {
      "cell_type": "code",
      "metadata": {
        "id": "BOxbl8YV5FNU",
        "colab": {
          "base_uri": "https://localhost:8080/"
        },
        "outputId": "2e96c852-4216-4f84-d495-ee724b1b6d2f"
      },
      "source": [
        "a = torch.ones([2, 3])\n",
        "b = torch.zeros([3, 2], dtype=torch.int64)\n",
        "c = torch.eye(4)\n",
        "d = torch.rand([2, 4, 3], dtype=torch.float)\n",
        "\n",
        "print(a)\n",
        "print(b)\n",
        "print(c)\n",
        "print(d)"
      ],
      "execution_count": null,
      "outputs": [
        {
          "output_type": "stream",
          "name": "stdout",
          "text": [
            "tensor([[1., 1., 1.],\n",
            "        [1., 1., 1.]])\n",
            "tensor([[0, 0],\n",
            "        [0, 0],\n",
            "        [0, 0]])\n",
            "tensor([[1., 0., 0., 0.],\n",
            "        [0., 1., 0., 0.],\n",
            "        [0., 0., 1., 0.],\n",
            "        [0., 0., 0., 1.]])\n",
            "tensor([[[0.0817, 0.1124, 0.3062],\n",
            "         [0.8459, 0.1507, 0.4837],\n",
            "         [0.2264, 0.7244, 0.7558],\n",
            "         [0.8155, 0.4781, 0.5324]],\n",
            "\n",
            "        [[0.2561, 0.0113, 0.1974],\n",
            "         [0.2935, 0.4444, 0.6761],\n",
            "         [0.8851, 0.7290, 0.9931],\n",
            "         [0.1203, 0.4335, 0.7263]]])\n"
          ]
        }
      ]
    },
    {
      "cell_type": "code",
      "metadata": {
        "colab": {
          "base_uri": "https://localhost:8080/"
        },
        "id": "uO1T_th2HmIV",
        "outputId": "3dfe7635-7fcb-4063-cd24-dae063060a02"
      },
      "source": [
        "# generation from numpy ndarray\n",
        "d = np.array([[2, 5, 4], [4, 2, 1], [5, 7, 4]])\n",
        "\n",
        "a = torch.tensor(d)\n",
        "# b = torch.from_numpy(d)\n",
        "b = torch.as_tensor(d)\n",
        "\n",
        "print(a)\n",
        "print(b)\n",
        "print(d)\n",
        "\n",
        "d[0, 0] = 100\n",
        "\n",
        "print(a)\n",
        "print(b)\n",
        "print(d)"
      ],
      "execution_count": null,
      "outputs": [
        {
          "output_type": "stream",
          "name": "stdout",
          "text": [
            "tensor([[2, 5, 4],\n",
            "        [4, 2, 1],\n",
            "        [5, 7, 4]])\n",
            "tensor([[2, 5, 4],\n",
            "        [4, 2, 1],\n",
            "        [5, 7, 4]])\n",
            "[[2 5 4]\n",
            " [4 2 1]\n",
            " [5 7 4]]\n",
            "tensor([[2, 5, 4],\n",
            "        [4, 2, 1],\n",
            "        [5, 7, 4]])\n",
            "tensor([[100,   5,   4],\n",
            "        [  4,   2,   1],\n",
            "        [  5,   7,   4]])\n",
            "[[100   5   4]\n",
            " [  4   2   1]\n",
            " [  5   7   4]]\n"
          ]
        }
      ]
    },
    {
      "cell_type": "code",
      "metadata": {
        "colab": {
          "base_uri": "https://localhost:8080/"
        },
        "id": "ePyFx0xKbzy6",
        "outputId": "00a5c497-4a18-49b1-858d-2d1c8e54e135"
      },
      "source": [
        "# -like creation\n",
        "print(a)\n",
        "print(a.dtype)\n",
        "# a의 형식으로 만들어라!\n",
        "b = torch.ones_like(a)\n",
        "c = torch.zeros_like(a, dtype=torch.float)\n",
        "d = torch.rand_like(a, dtype=torch.float)\n",
        "\n",
        "print(b)\n",
        "print(c)\n",
        "print(d)"
      ],
      "execution_count": null,
      "outputs": [
        {
          "output_type": "stream",
          "name": "stdout",
          "text": [
            "tensor([[2, 5, 4],\n",
            "        [4, 2, 1],\n",
            "        [5, 7, 4]])\n",
            "torch.int64\n",
            "tensor([[1, 1, 1],\n",
            "        [1, 1, 1],\n",
            "        [1, 1, 1]])\n",
            "tensor([[0., 0., 0.],\n",
            "        [0., 0., 0.],\n",
            "        [0., 0., 0.]])\n",
            "tensor([[0.7127, 0.3028, 0.3755],\n",
            "        [0.3264, 0.7859, 0.6228],\n",
            "        [0.3982, 0.1060, 0.8309]])\n"
          ]
        }
      ]
    },
    {
      "cell_type": "markdown",
      "metadata": {
        "id": "SFQV3A0tCNwh"
      },
      "source": [
        "### gpu 사용"
      ]
    },
    {
      "cell_type": "code",
      "metadata": {
        "colab": {
          "base_uri": "https://localhost:8080/"
        },
        "id": "gr0cK-KrdCuX",
        "outputId": "938f7403-79ab-4283-91b2-eeee34f3fadb"
      },
      "source": [
        "torch.cuda.is_available()"
      ],
      "execution_count": null,
      "outputs": [
        {
          "output_type": "execute_result",
          "data": {
            "text/plain": [
              "True"
            ]
          },
          "metadata": {},
          "execution_count": 5
        }
      ]
    },
    {
      "cell_type": "code",
      "metadata": {
        "colab": {
          "base_uri": "https://localhost:8080/"
        },
        "id": "ZjabsEmpdDMs",
        "outputId": "22af20a2-f520-4169-9089-14317779c13e"
      },
      "source": [
        "# gpu tensor로 만들기\n",
        "if torch.cuda.is_available():\n",
        "  a = torch.tensor([[4,3,2],[1,2,3]])\n",
        "  print(a)\n",
        "  # 쿠다로 옮기는데 시간이 걸림\n",
        "  b = a.to(\"cuda\")\n",
        "  print(b)"
      ],
      "execution_count": null,
      "outputs": [
        {
          "output_type": "stream",
          "name": "stdout",
          "text": [
            "tensor([[4, 3, 2],\n",
            "        [1, 2, 3]])\n",
            "tensor([[4, 3, 2],\n",
            "        [1, 2, 3]], device='cuda:0')\n"
          ]
        }
      ]
    },
    {
      "cell_type": "code",
      "metadata": {
        "colab": {
          "base_uri": "https://localhost:8080/"
        },
        "id": "Ym0DT4wKwELI",
        "outputId": "f5a91ee8-48d1-404b-9063-fc824df4c8ef"
      },
      "source": [
        "b[0][0] = 100\n",
        "print(a)\n",
        "print(b)"
      ],
      "execution_count": null,
      "outputs": [
        {
          "output_type": "stream",
          "name": "stdout",
          "text": [
            "tensor([[4, 3, 2],\n",
            "        [1, 2, 3]])\n",
            "tensor([[100,   3,   2],\n",
            "        [  1,   2,   3]], device='cuda:0')\n"
          ]
        }
      ]
    },
    {
      "cell_type": "markdown",
      "metadata": {
        "id": "r2skEuTbCOK5"
      },
      "source": [
        "### concat, stack, squeeze, unsqueeze"
      ]
    },
    {
      "cell_type": "code",
      "metadata": {
        "colab": {
          "base_uri": "https://localhost:8080/"
        },
        "id": "bBdxCcv0exBL",
        "outputId": "95c76890-5c3c-4e33-d0fb-0f0f3ad28bc2"
      },
      "source": [
        "a = torch.rand([2, 3])\n",
        "b = torch.rand([2, 3])\n",
        "print(a)\n",
        "print(b)"
      ],
      "execution_count": null,
      "outputs": [
        {
          "output_type": "stream",
          "name": "stdout",
          "text": [
            "tensor([[0.4342, 0.6489, 0.1538],\n",
            "        [0.1106, 0.5670, 0.2118]])\n",
            "tensor([[0.4050, 0.9898, 0.7434],\n",
            "        [0.7247, 0.7229, 0.5607]])\n"
          ]
        }
      ]
    },
    {
      "cell_type": "code",
      "metadata": {
        "colab": {
          "base_uri": "https://localhost:8080/"
        },
        "id": "fpFjOyGGw9nD",
        "outputId": "d7d7a7bb-5f1d-4991-e2fc-ab87782e725a"
      },
      "source": [
        "print(a.shape)\n",
        "print(b.shape)"
      ],
      "execution_count": null,
      "outputs": [
        {
          "output_type": "stream",
          "name": "stdout",
          "text": [
            "torch.Size([2, 3])\n",
            "torch.Size([2, 3])\n"
          ]
        }
      ]
    },
    {
      "cell_type": "code",
      "metadata": {
        "colab": {
          "base_uri": "https://localhost:8080/"
        },
        "id": "YSc8zlfUe97k",
        "outputId": "33265f29-b578-43a7-ca02-d3ebe9c027f7"
      },
      "source": [
        "# concat\n",
        "c = torch.cat([a, b], dim=0)\n",
        "d = torch.cat([a, b], dim=1)\n",
        "print(c)\n",
        "print(c.shape)\n",
        "print(d)\n",
        "print(d.shape)"
      ],
      "execution_count": null,
      "outputs": [
        {
          "output_type": "stream",
          "name": "stdout",
          "text": [
            "tensor([[0.4342, 0.6489, 0.1538],\n",
            "        [0.1106, 0.5670, 0.2118],\n",
            "        [0.4050, 0.9898, 0.7434],\n",
            "        [0.7247, 0.7229, 0.5607]])\n",
            "torch.Size([4, 3])\n",
            "tensor([[0.4342, 0.6489, 0.1538, 0.4050, 0.9898, 0.7434],\n",
            "        [0.1106, 0.5670, 0.2118, 0.7247, 0.7229, 0.5607]])\n",
            "torch.Size([2, 6])\n"
          ]
        }
      ]
    },
    {
      "cell_type": "code",
      "metadata": {
        "colab": {
          "base_uri": "https://localhost:8080/"
        },
        "id": "oKyMcuLufGqb",
        "outputId": "cb3f199e-4a9b-4d36-a6c8-28f5c5c220a4"
      },
      "source": [
        "# stack\n",
        "c = torch.stack([a, b], dim=0)\n",
        "d = torch.stack([a, b], dim=1)\n",
        "e = torch.stack([a, b], dim=2)\n",
        "print(c)\n",
        "print(c.shape)\n",
        "print(d)\n",
        "print(d.shape)\n",
        "print(e)\n",
        "print(e.shape)"
      ],
      "execution_count": null,
      "outputs": [
        {
          "output_type": "stream",
          "name": "stdout",
          "text": [
            "tensor([[[0.4342, 0.6489, 0.1538],\n",
            "         [0.1106, 0.5670, 0.2118]],\n",
            "\n",
            "        [[0.4050, 0.9898, 0.7434],\n",
            "         [0.7247, 0.7229, 0.5607]]])\n",
            "torch.Size([2, 2, 3])\n",
            "tensor([[[0.4342, 0.6489, 0.1538],\n",
            "         [0.4050, 0.9898, 0.7434]],\n",
            "\n",
            "        [[0.1106, 0.5670, 0.2118],\n",
            "         [0.7247, 0.7229, 0.5607]]])\n",
            "torch.Size([2, 2, 3])\n",
            "tensor([[[0.4342, 0.4050],\n",
            "         [0.6489, 0.9898],\n",
            "         [0.1538, 0.7434]],\n",
            "\n",
            "        [[0.1106, 0.7247],\n",
            "         [0.5670, 0.7229],\n",
            "         [0.2118, 0.5607]]])\n",
            "torch.Size([2, 3, 2])\n"
          ]
        }
      ]
    },
    {
      "cell_type": "code",
      "metadata": {
        "colab": {
          "base_uri": "https://localhost:8080/"
        },
        "id": "yOJAwPc8fJz7",
        "outputId": "876a4004-5365-4856-e568-645a4ee62556"
      },
      "source": [
        "# hstack and vstack\n",
        "c = torch.hstack([a, b])\n",
        "print(c)\n",
        "print(c.shape)\n",
        "d = torch.vstack([a, b])\n",
        "print(d)\n",
        "print(d.shape)"
      ],
      "execution_count": null,
      "outputs": [
        {
          "output_type": "stream",
          "name": "stdout",
          "text": [
            "tensor([[0.5362, 0.3633, 0.3954, 0.9718, 0.8593, 0.3625],\n",
            "        [0.6720, 0.5300, 0.4294, 0.2052, 0.9983, 0.5959]])\n",
            "torch.Size([2, 6])\n",
            "tensor([[0.5362, 0.3633, 0.3954],\n",
            "        [0.6720, 0.5300, 0.4294],\n",
            "        [0.9718, 0.8593, 0.3625],\n",
            "        [0.2052, 0.9983, 0.5959]])\n",
            "torch.Size([4, 3])\n"
          ]
        }
      ]
    },
    {
      "cell_type": "code",
      "metadata": {
        "colab": {
          "base_uri": "https://localhost:8080/"
        },
        "id": "O2aDQ8Qqfzez",
        "outputId": "8961b18d-a917-4042-aab1-440bf235eb93"
      },
      "source": [
        "# unsqueeze and squeeze\n",
        "print(a)\n",
        "a = torch.unsqueeze(a, dim=1)\n",
        "print(a)\n",
        "print(a.shape)\n",
        "\n",
        "print(torch.squeeze(a))\n",
        "print(a.shape)"
      ],
      "execution_count": null,
      "outputs": [
        {
          "output_type": "stream",
          "name": "stdout",
          "text": [
            "tensor([[0.5362, 0.3633, 0.3954],\n",
            "        [0.6720, 0.5300, 0.4294]])\n",
            "tensor([[[0.5362, 0.3633, 0.3954]],\n",
            "\n",
            "        [[0.6720, 0.5300, 0.4294]]])\n",
            "torch.Size([2, 1, 3])\n",
            "tensor([[0.5362, 0.3633, 0.3954],\n",
            "        [0.6720, 0.5300, 0.4294]])\n",
            "torch.Size([2, 1, 3])\n"
          ]
        }
      ]
    },
    {
      "cell_type": "markdown",
      "metadata": {
        "id": "mkpy_HjXwEHt"
      },
      "source": [
        "\n",
        "### Arithmetic operations"
      ]
    },
    {
      "cell_type": "code",
      "metadata": {
        "colab": {
          "base_uri": "https://localhost:8080/",
          "height": 450
        },
        "id": "s0JAp8SigKDj",
        "outputId": "bce60dd0-147c-4415-f21f-9784ba78755e"
      },
      "source": [
        "# matrix multiplication\n",
        "a = torch.tensor(np.array(list(range(12)))).reshape(3, 4)\n",
        "print(a)\n",
        "b = torch.tensor(np.array(list(range(8)))).reshape(4, 2)\n",
        "print(b)\n",
        "\n",
        "c = a @ b\n",
        "print(c)\n",
        "\n",
        "d = torch.matmul(a, b)\n",
        "print(d)\n",
        "\n",
        "torch.matmul(a, b, out=e)\n",
        "print(e)"
      ],
      "execution_count": null,
      "outputs": [
        {
          "output_type": "stream",
          "name": "stdout",
          "text": [
            "tensor([[ 0,  1,  2,  3],\n",
            "        [ 4,  5,  6,  7],\n",
            "        [ 8,  9, 10, 11]])\n",
            "tensor([[0, 1],\n",
            "        [2, 3],\n",
            "        [4, 5],\n",
            "        [6, 7]])\n",
            "tensor([[ 28,  34],\n",
            "        [ 76,  98],\n",
            "        [124, 162]])\n",
            "tensor([[ 28,  34],\n",
            "        [ 76,  98],\n",
            "        [124, 162]])\n"
          ]
        },
        {
          "output_type": "error",
          "ename": "RuntimeError",
          "evalue": "ignored",
          "traceback": [
            "\u001b[0;31m---------------------------------------------------------------------------\u001b[0m",
            "\u001b[0;31mRuntimeError\u001b[0m                              Traceback (most recent call last)",
            "\u001b[0;32m<ipython-input-13-03548cf3a6ea>\u001b[0m in \u001b[0;36m<module>\u001b[0;34m()\u001b[0m\n\u001b[1;32m     11\u001b[0m \u001b[0mprint\u001b[0m\u001b[0;34m(\u001b[0m\u001b[0md\u001b[0m\u001b[0;34m)\u001b[0m\u001b[0;34m\u001b[0m\u001b[0;34m\u001b[0m\u001b[0m\n\u001b[1;32m     12\u001b[0m \u001b[0;34m\u001b[0m\u001b[0m\n\u001b[0;32m---> 13\u001b[0;31m \u001b[0mtorch\u001b[0m\u001b[0;34m.\u001b[0m\u001b[0mmatmul\u001b[0m\u001b[0;34m(\u001b[0m\u001b[0ma\u001b[0m\u001b[0;34m,\u001b[0m \u001b[0mb\u001b[0m\u001b[0;34m,\u001b[0m \u001b[0mout\u001b[0m\u001b[0;34m=\u001b[0m\u001b[0me\u001b[0m\u001b[0;34m)\u001b[0m\u001b[0;34m\u001b[0m\u001b[0;34m\u001b[0m\u001b[0m\n\u001b[0m\u001b[1;32m     14\u001b[0m \u001b[0mprint\u001b[0m\u001b[0;34m(\u001b[0m\u001b[0me\u001b[0m\u001b[0;34m)\u001b[0m\u001b[0;34m\u001b[0m\u001b[0;34m\u001b[0m\u001b[0m\n",
            "\u001b[0;31mRuntimeError\u001b[0m: expected scalar type Float but found Long"
          ]
        }
      ]
    },
    {
      "cell_type": "code",
      "metadata": {
        "colab": {
          "base_uri": "https://localhost:8080/"
        },
        "id": "KsEYFyWdwxzL",
        "outputId": "0c84b397-1999-42ef-d564-e8f8153ee425"
      },
      "source": [
        "# element-wise product\n",
        "a = torch.tensor(np.array(list(range(6)))).reshape(2, 3)\n",
        "print(a)\n",
        "b = torch.tensor(list(range(10, 13))).reshape(1, 3)\n",
        "print(b)\n",
        "\n",
        "c = a * b\n",
        "print(c)\n",
        "\n",
        "d = a.mul(b)\n",
        "print(d)"
      ],
      "execution_count": null,
      "outputs": [
        {
          "output_type": "stream",
          "name": "stdout",
          "text": [
            "tensor([[0, 1, 2],\n",
            "        [3, 4, 5]])\n",
            "tensor([[10, 11, 12]])\n",
            "tensor([[ 0, 11, 24],\n",
            "        [30, 44, 60]])\n",
            "tensor([[ 0, 11, 24],\n",
            "        [30, 44, 60]])\n"
          ]
        }
      ]
    },
    {
      "cell_type": "code",
      "metadata": {
        "colab": {
          "base_uri": "https://localhost:8080/"
        },
        "id": "DwXS6AzsxeRj",
        "outputId": "1d7f5124-3b72-4700-a6c9-41a9efc8e9e1"
      },
      "source": [
        "# item\n",
        "agg = d.sum()\n",
        "v = agg.item()\n",
        "print(v, type(v))"
      ],
      "execution_count": null,
      "outputs": [
        {
          "output_type": "stream",
          "name": "stdout",
          "text": [
            "169 <class 'int'>\n"
          ]
        }
      ]
    },
    {
      "cell_type": "code",
      "metadata": {
        "colab": {
          "base_uri": "https://localhost:8080/"
        },
        "id": "7cV3np-gxrJr",
        "outputId": "74da1e3e-98f3-4314-98c8-dcc0a29fccde"
      },
      "source": [
        "# inplace operations\n",
        "print(a)\n",
        "a.add_(5)\n",
        "print(a)\n",
        "a.add_(b)\n",
        "print(a)"
      ],
      "execution_count": null,
      "outputs": [
        {
          "output_type": "stream",
          "name": "stdout",
          "text": [
            "tensor([[0, 1, 2],\n",
            "        [3, 4, 5]])\n",
            "tensor([[ 5,  6,  7],\n",
            "        [ 8,  9, 10]])\n",
            "tensor([[15, 17, 19],\n",
            "        [18, 20, 22]])\n"
          ]
        }
      ]
    },
    {
      "cell_type": "markdown",
      "metadata": {
        "id": "NMHn1C13y1h0"
      },
      "source": [
        "### tensor to numpy array"
      ]
    },
    {
      "cell_type": "code",
      "metadata": {
        "colab": {
          "base_uri": "https://localhost:8080/"
        },
        "id": "PocGntIZyN0b",
        "outputId": "3c7ea999-018f-48fb-e841-05d8b0b7e5d1"
      },
      "source": [
        "a = torch.ones(5)\n",
        "print(a)\n",
        "b = a.numpy()\n",
        "print(b)"
      ],
      "execution_count": null,
      "outputs": [
        {
          "output_type": "stream",
          "name": "stdout",
          "text": [
            "tensor([1., 1., 1., 1., 1.])\n",
            "[1. 1. 1. 1. 1.]\n"
          ]
        }
      ]
    },
    {
      "cell_type": "code",
      "metadata": {
        "colab": {
          "base_uri": "https://localhost:8080/"
        },
        "id": "ZcM2caRfzALw",
        "outputId": "5ee61a3f-69f1-41c8-f8ae-c2276d00f375"
      },
      "source": [
        "a.add_(5)\n",
        "print(a)\n",
        "print(b)"
      ],
      "execution_count": null,
      "outputs": [
        {
          "output_type": "stream",
          "name": "stdout",
          "text": [
            "tensor([6., 6., 6., 6., 6.])\n",
            "[6. 6. 6. 6. 6.]\n"
          ]
        }
      ]
    },
    {
      "cell_type": "markdown",
      "metadata": {
        "id": "LyZS2fcEzKvd"
      },
      "source": [
        "## 4-1-2. Datasets and dataloaders\n",
        "\n",
        "### pytorch를 이용한 모델의 학습 과정은 보통 다음과 같은 과정을 거칩니다.\n",
        "\n",
        "### 1. Data 처리 및 준비\n",
        "\n",
        "### 2. 모델 생성\n",
        "\n",
        "### 3. 모델 학습\n",
        "\n",
        "### 4. 모델 평가\n",
        "\n",
        "### 2-4의 과정을 거치기 전에 데이터를 잘 준비해서 batch 단위로 받기만 하는 것이 깔끔하기 때문에 pytorch는 1번과 2-4번 과정을 분리하기 위해 datasets과 dataloader라는 class를 사용합니다.\n",
        "\n",
        "### 물론 pytorch 모델를 사용하는 데에 이러한 구조가 필수적인 것은 아니기에 utils에 따로 분리되어 있지만 대부분의 경우에 사용한다고 생각해도 좋습니다.\n",
        "\n",
        "### dataset은 전체 데이터를 sample 단위로 처리해서 주는 역할을 하며 dataloader는 이를 batch 단위로 묶어주는 역할을 합니다.\n",
        "\n",
        "### 처음 접하는 분들은 낯선 개념에 어려우실수도 있지만 익숙해지면 굉장히 편리하고 코드를 깔끔하게 만들어 줍니다.\n",
        "\n",
        "### 또한 torchvision에서 다양한 종류의 데이터를 dataset의 형태로 제공하기 때문에 이를 위해서라도 사용해 보도록 하겠습니다."
      ]
    },
    {
      "cell_type": "markdown",
      "metadata": {
        "id": "ORX-iD8L4Fg4"
      },
      "source": [
        "### Dataset"
      ]
    },
    {
      "cell_type": "code",
      "metadata": {
        "id": "G-6Y9GFNzCAK"
      },
      "source": [
        "# Custom dataset\n",
        "\n",
        "class LionDataset(Dataset):\n",
        "  def __init__(self, data, target, transform=None, target_transform=None):\n",
        "    self.data = data\n",
        "    self.target = target\n",
        "    self.transform = transform\n",
        "    self.target_transform = target_transform\n",
        "    pass\n",
        "\n",
        "# 데이터의 크기(이것이 다 돌면 epoch 하나)\n",
        "  def __len__(self):\n",
        "    return len(self.data)\n",
        "\n",
        "  def __getitem__(self, idx):\n",
        "    x = self.data[idx]\n",
        "    y = self.target[idx]\n",
        "\n",
        "    if self.transform:\n",
        "      x = self.transform(x)\n",
        "    if self.target_transform:\n",
        "      y = self.target_transform(y)\n",
        "\n",
        "    return x, y"
      ],
      "execution_count": null,
      "outputs": []
    },
    {
      "cell_type": "code",
      "metadata": {
        "colab": {
          "base_uri": "https://localhost:8080/"
        },
        "id": "eI9W610y5cLo",
        "outputId": "06cbb349-415d-4c25-c84a-e1a9506b145e"
      },
      "source": [
        "# 2차원 데이터 50개\n",
        "data = np.array(list(range(100)), dtype=np.float).reshape(-1, 2)\n",
        "# 0~9까지가 5개씩\n",
        "target = np.array([[i] * 5 for i in range(10)]).reshape(-1)\n",
        "\n",
        "print(data)\n",
        "print(target)"
      ],
      "execution_count": null,
      "outputs": [
        {
          "output_type": "stream",
          "name": "stdout",
          "text": [
            "[[ 0.  1.]\n",
            " [ 2.  3.]\n",
            " [ 4.  5.]\n",
            " [ 6.  7.]\n",
            " [ 8.  9.]\n",
            " [10. 11.]\n",
            " [12. 13.]\n",
            " [14. 15.]\n",
            " [16. 17.]\n",
            " [18. 19.]\n",
            " [20. 21.]\n",
            " [22. 23.]\n",
            " [24. 25.]\n",
            " [26. 27.]\n",
            " [28. 29.]\n",
            " [30. 31.]\n",
            " [32. 33.]\n",
            " [34. 35.]\n",
            " [36. 37.]\n",
            " [38. 39.]\n",
            " [40. 41.]\n",
            " [42. 43.]\n",
            " [44. 45.]\n",
            " [46. 47.]\n",
            " [48. 49.]\n",
            " [50. 51.]\n",
            " [52. 53.]\n",
            " [54. 55.]\n",
            " [56. 57.]\n",
            " [58. 59.]\n",
            " [60. 61.]\n",
            " [62. 63.]\n",
            " [64. 65.]\n",
            " [66. 67.]\n",
            " [68. 69.]\n",
            " [70. 71.]\n",
            " [72. 73.]\n",
            " [74. 75.]\n",
            " [76. 77.]\n",
            " [78. 79.]\n",
            " [80. 81.]\n",
            " [82. 83.]\n",
            " [84. 85.]\n",
            " [86. 87.]\n",
            " [88. 89.]\n",
            " [90. 91.]\n",
            " [92. 93.]\n",
            " [94. 95.]\n",
            " [96. 97.]\n",
            " [98. 99.]]\n",
            "[0 0 0 0 0 1 1 1 1 1 2 2 2 2 2 3 3 3 3 3 4 4 4 4 4 5 5 5 5 5 6 6 6 6 6 7 7\n",
            " 7 7 7 8 8 8 8 8 9 9 9 9 9]\n"
          ]
        },
        {
          "output_type": "stream",
          "name": "stderr",
          "text": [
            "/usr/local/lib/python3.7/dist-packages/ipykernel_launcher.py:2: DeprecationWarning: `np.float` is a deprecated alias for the builtin `float`. To silence this warning, use `float` by itself. Doing this will not modify any behavior and is safe. If you specifically wanted the numpy scalar type, use `np.float64` here.\n",
            "Deprecated in NumPy 1.20; for more details and guidance: https://numpy.org/devdocs/release/1.20.0-notes.html#deprecations\n",
            "  \n"
          ]
        }
      ]
    },
    {
      "cell_type": "code",
      "metadata": {
        "colab": {
          "base_uri": "https://localhost:8080/"
        },
        "id": "lPewNMG7524S",
        "outputId": "9ffa0eaa-486d-474b-e1da-7ab2b65bb256"
      },
      "source": [
        "lion = LionDataset(data=data, target=target)\n",
        "\n",
        "print(lion[12])\n",
        "print(lion[27])"
      ],
      "execution_count": null,
      "outputs": [
        {
          "output_type": "stream",
          "name": "stdout",
          "text": [
            "(array([24., 25.]), 2)\n",
            "(array([54., 55.]), 5)\n"
          ]
        }
      ]
    },
    {
      "cell_type": "markdown",
      "metadata": {
        "id": "e3OWYZOB7MkA"
      },
      "source": [
        "### DataLoader"
      ]
    },
    {
      "cell_type": "code",
      "metadata": {
        "colab": {
          "base_uri": "https://localhost:8080/"
        },
        "id": "aHyx2nSx6Iyi",
        "outputId": "9ef5b5be-7af8-4e80-eb53-42b6ef8c5335"
      },
      "source": [
        "loader = DataLoader(dataset=lion, batch_size=10, shuffle=True)\n",
        "\n",
        "for i, batch in enumerate(loader):\n",
        "  x, y = batch\n",
        "  if i == 0:\n",
        "    print(x)\n",
        "    print(y)\n",
        "  print(x.shape)"
      ],
      "execution_count": null,
      "outputs": [
        {
          "output_type": "stream",
          "name": "stdout",
          "text": [
            "tensor([[98., 99.],\n",
            "        [84., 85.],\n",
            "        [70., 71.],\n",
            "        [ 6.,  7.],\n",
            "        [62., 63.],\n",
            "        [ 4.,  5.],\n",
            "        [28., 29.],\n",
            "        [40., 41.],\n",
            "        [ 2.,  3.],\n",
            "        [20., 21.]], dtype=torch.float64)\n",
            "tensor([9, 8, 7, 0, 6, 0, 2, 4, 0, 2])\n",
            "torch.Size([10, 2])\n",
            "torch.Size([10, 2])\n",
            "torch.Size([10, 2])\n",
            "torch.Size([10, 2])\n",
            "torch.Size([10, 2])\n"
          ]
        }
      ]
    },
    {
      "cell_type": "markdown",
      "metadata": {
        "id": "SDJl1BlR_mXr"
      },
      "source": [
        "### torchvision datasets"
      ]
    },
    {
      "cell_type": "code",
      "metadata": {
        "colab": {
          "base_uri": "https://localhost:8080/"
        },
        "id": "b7TlRRea3eiD",
        "outputId": "ef82d228-5922-439b-beec-b7159b2b6594"
      },
      "source": [
        "from google.colab import drive\n",
        "drive.mount('/content/drive')"
      ],
      "execution_count": null,
      "outputs": [
        {
          "output_type": "stream",
          "name": "stdout",
          "text": [
            "Mounted at /content/drive\n"
          ]
        }
      ]
    },
    {
      "cell_type": "code",
      "metadata": {
        "colab": {
          "base_uri": "https://localhost:8080/",
          "height": 1000,
          "referenced_widgets": [
            "babed33c3ee94de68296f1d1258a2b13",
            "846557f892a74a5197d628b04aa2ddac",
            "55df4bc5211e4d03844e92a81c3c6227",
            "302c20d3df4541f2adb8530d8c853d99",
            "e23ef1f682d7427fba9dc3df963ddd89",
            "a22458a868db45f5bec74c59ad56a1ab",
            "a4a35ce22b2b4ef0839a717f9ccfe498",
            "921765375bf841ec9b08f92d2e6262bb",
            "612742c2fd0f4351b0a8732fa03cec75",
            "06d42163338f4f0d8fee7c0630f22136",
            "038e505c8ade4e118dd6ce36f5cae412",
            "ca305f0d615a40b680be9aee47f795de",
            "96960f3d1d9a442f9097bbc8c1c0c22e",
            "a97124272e1c47408fa30fb49220bba4",
            "308014e5200b49f6adcffec95156cf4f",
            "91bc21e124d3404f8ee0cca3d594081f",
            "8c16e1b813c0485f9ecfa263a44d2780",
            "83b4c7b0b290479fbb0b5ccd94f80205",
            "39fc8ab4b0a94a8299230ffccc77307f",
            "2e0344d66d934db8a333538776295983",
            "0018970195b14c65a1392ff601a76bb6",
            "fcec9a1d06e94fe9bc036461c2301db0",
            "b641548165a548f9ad6d81e9ec7a9151",
            "7f18b326f11240e09d643d881d7f22ed",
            "58a902323a7a4efe8cb5fe88a8ad2ba3",
            "dc844ff46b0145b19057d0968626d713",
            "c994bd1fd60c4595b481ec849d4c2767",
            "23e6427aae5d4824a1d922444a46eca2",
            "8b1fdf73e58e474f8a36f3db4dd479bd",
            "cd5ef2e449ac45e1b3b43abeed46947b",
            "b505b1a7db944257a0ccab9ae119aa99",
            "a8f3f86a6eb640bd8a7a3ebfe6690849",
            "ed10a6429ab843398e3fea9735629218",
            "2a575e483194468d877043ed30ec343b",
            "8af058e034bd4851a2a9834e173331f3",
            "732f1e8b344e4b5397d4c29d6555acf0",
            "97b53e723c674a96b85e74900552b174",
            "028acd8c85ae40bda476a2d00171956b",
            "f4bd4bc0df18473aa6de3907fbb85211",
            "209c7a1c6ca447a687a0b7711c01ccd4",
            "6264f1341e594240a927f2cf800e1440",
            "110d63a4c50c4b4281036d979f9777f5",
            "ec3ad5293b3e429bbc4d404fd754ff0d",
            "2c33c2c89aca444c93029e794735e27a"
          ]
        },
        "id": "G31RN8hi8BoL",
        "outputId": "c0c9f531-e56c-4b85-cd4c-f2c27a5f2e93"
      },
      "source": [
        "import os\n",
        "root = os.path.join(os.getcwd(), \"drive\", \"MyDrive\", \"Colab Notebooks\", \"data\")\n",
        "ds = datasets.FashionMNIST(root=root, train=True, download=True, transform=transforms.ToTensor())\n",
        "\n",
        "ds[0]"
      ],
      "execution_count": null,
      "outputs": [
        {
          "output_type": "stream",
          "name": "stdout",
          "text": [
            "Downloading http://fashion-mnist.s3-website.eu-central-1.amazonaws.com/train-images-idx3-ubyte.gz\n",
            "Downloading http://fashion-mnist.s3-website.eu-central-1.amazonaws.com/train-images-idx3-ubyte.gz to /content/drive/MyDrive/Colab Notebooks/data/FashionMNIST/raw/train-images-idx3-ubyte.gz\n"
          ]
        },
        {
          "output_type": "display_data",
          "data": {
            "text/plain": [
              "  0%|          | 0/26421880 [00:00<?, ?it/s]"
            ],
            "application/vnd.jupyter.widget-view+json": {
              "version_major": 2,
              "version_minor": 0,
              "model_id": "babed33c3ee94de68296f1d1258a2b13"
            }
          },
          "metadata": {}
        },
        {
          "output_type": "stream",
          "name": "stdout",
          "text": [
            "Extracting /content/drive/MyDrive/Colab Notebooks/data/FashionMNIST/raw/train-images-idx3-ubyte.gz to /content/drive/MyDrive/Colab Notebooks/data/FashionMNIST/raw\n",
            "\n",
            "Downloading http://fashion-mnist.s3-website.eu-central-1.amazonaws.com/train-labels-idx1-ubyte.gz\n",
            "Downloading http://fashion-mnist.s3-website.eu-central-1.amazonaws.com/train-labels-idx1-ubyte.gz to /content/drive/MyDrive/Colab Notebooks/data/FashionMNIST/raw/train-labels-idx1-ubyte.gz\n"
          ]
        },
        {
          "output_type": "display_data",
          "data": {
            "text/plain": [
              "  0%|          | 0/29515 [00:00<?, ?it/s]"
            ],
            "application/vnd.jupyter.widget-view+json": {
              "version_major": 2,
              "version_minor": 0,
              "model_id": "ca305f0d615a40b680be9aee47f795de"
            }
          },
          "metadata": {}
        },
        {
          "output_type": "stream",
          "name": "stdout",
          "text": [
            "Extracting /content/drive/MyDrive/Colab Notebooks/data/FashionMNIST/raw/train-labels-idx1-ubyte.gz to /content/drive/MyDrive/Colab Notebooks/data/FashionMNIST/raw\n",
            "\n",
            "Downloading http://fashion-mnist.s3-website.eu-central-1.amazonaws.com/t10k-images-idx3-ubyte.gz\n",
            "Downloading http://fashion-mnist.s3-website.eu-central-1.amazonaws.com/t10k-images-idx3-ubyte.gz to /content/drive/MyDrive/Colab Notebooks/data/FashionMNIST/raw/t10k-images-idx3-ubyte.gz\n"
          ]
        },
        {
          "output_type": "display_data",
          "data": {
            "text/plain": [
              "  0%|          | 0/4422102 [00:00<?, ?it/s]"
            ],
            "application/vnd.jupyter.widget-view+json": {
              "version_major": 2,
              "version_minor": 0,
              "model_id": "b641548165a548f9ad6d81e9ec7a9151"
            }
          },
          "metadata": {}
        },
        {
          "output_type": "stream",
          "name": "stdout",
          "text": [
            "Extracting /content/drive/MyDrive/Colab Notebooks/data/FashionMNIST/raw/t10k-images-idx3-ubyte.gz to /content/drive/MyDrive/Colab Notebooks/data/FashionMNIST/raw\n",
            "\n",
            "Downloading http://fashion-mnist.s3-website.eu-central-1.amazonaws.com/t10k-labels-idx1-ubyte.gz\n",
            "Downloading http://fashion-mnist.s3-website.eu-central-1.amazonaws.com/t10k-labels-idx1-ubyte.gz to /content/drive/MyDrive/Colab Notebooks/data/FashionMNIST/raw/t10k-labels-idx1-ubyte.gz\n"
          ]
        },
        {
          "output_type": "display_data",
          "data": {
            "text/plain": [
              "  0%|          | 0/5148 [00:00<?, ?it/s]"
            ],
            "application/vnd.jupyter.widget-view+json": {
              "version_major": 2,
              "version_minor": 0,
              "model_id": "2a575e483194468d877043ed30ec343b"
            }
          },
          "metadata": {}
        },
        {
          "output_type": "stream",
          "name": "stdout",
          "text": [
            "Extracting /content/drive/MyDrive/Colab Notebooks/data/FashionMNIST/raw/t10k-labels-idx1-ubyte.gz to /content/drive/MyDrive/Colab Notebooks/data/FashionMNIST/raw\n",
            "\n"
          ]
        },
        {
          "output_type": "execute_result",
          "data": {
            "text/plain": [
              "(tensor([[[0.0000, 0.0000, 0.0000, 0.0000, 0.0000, 0.0000, 0.0000, 0.0000,\n",
              "           0.0000, 0.0000, 0.0000, 0.0000, 0.0000, 0.0000, 0.0000, 0.0000,\n",
              "           0.0000, 0.0000, 0.0000, 0.0000, 0.0000, 0.0000, 0.0000, 0.0000,\n",
              "           0.0000, 0.0000, 0.0000, 0.0000],\n",
              "          [0.0000, 0.0000, 0.0000, 0.0000, 0.0000, 0.0000, 0.0000, 0.0000,\n",
              "           0.0000, 0.0000, 0.0000, 0.0000, 0.0000, 0.0000, 0.0000, 0.0000,\n",
              "           0.0000, 0.0000, 0.0000, 0.0000, 0.0000, 0.0000, 0.0000, 0.0000,\n",
              "           0.0000, 0.0000, 0.0000, 0.0000],\n",
              "          [0.0000, 0.0000, 0.0000, 0.0000, 0.0000, 0.0000, 0.0000, 0.0000,\n",
              "           0.0000, 0.0000, 0.0000, 0.0000, 0.0000, 0.0000, 0.0000, 0.0000,\n",
              "           0.0000, 0.0000, 0.0000, 0.0000, 0.0000, 0.0000, 0.0000, 0.0000,\n",
              "           0.0000, 0.0000, 0.0000, 0.0000],\n",
              "          [0.0000, 0.0000, 0.0000, 0.0000, 0.0000, 0.0000, 0.0000, 0.0000,\n",
              "           0.0000, 0.0000, 0.0000, 0.0000, 0.0039, 0.0000, 0.0000, 0.0510,\n",
              "           0.2863, 0.0000, 0.0000, 0.0039, 0.0157, 0.0000, 0.0000, 0.0000,\n",
              "           0.0000, 0.0039, 0.0039, 0.0000],\n",
              "          [0.0000, 0.0000, 0.0000, 0.0000, 0.0000, 0.0000, 0.0000, 0.0000,\n",
              "           0.0000, 0.0000, 0.0000, 0.0000, 0.0118, 0.0000, 0.1412, 0.5333,\n",
              "           0.4980, 0.2431, 0.2118, 0.0000, 0.0000, 0.0000, 0.0039, 0.0118,\n",
              "           0.0157, 0.0000, 0.0000, 0.0118],\n",
              "          [0.0000, 0.0000, 0.0000, 0.0000, 0.0000, 0.0000, 0.0000, 0.0000,\n",
              "           0.0000, 0.0000, 0.0000, 0.0000, 0.0235, 0.0000, 0.4000, 0.8000,\n",
              "           0.6902, 0.5255, 0.5647, 0.4824, 0.0902, 0.0000, 0.0000, 0.0000,\n",
              "           0.0000, 0.0471, 0.0392, 0.0000],\n",
              "          [0.0000, 0.0000, 0.0000, 0.0000, 0.0000, 0.0000, 0.0000, 0.0000,\n",
              "           0.0000, 0.0000, 0.0000, 0.0000, 0.0000, 0.0000, 0.6078, 0.9255,\n",
              "           0.8118, 0.6980, 0.4196, 0.6118, 0.6314, 0.4275, 0.2510, 0.0902,\n",
              "           0.3020, 0.5098, 0.2824, 0.0588],\n",
              "          [0.0000, 0.0000, 0.0000, 0.0000, 0.0000, 0.0000, 0.0000, 0.0000,\n",
              "           0.0000, 0.0000, 0.0000, 0.0039, 0.0000, 0.2706, 0.8118, 0.8745,\n",
              "           0.8549, 0.8471, 0.8471, 0.6392, 0.4980, 0.4745, 0.4784, 0.5725,\n",
              "           0.5529, 0.3451, 0.6745, 0.2588],\n",
              "          [0.0000, 0.0000, 0.0000, 0.0000, 0.0000, 0.0000, 0.0000, 0.0000,\n",
              "           0.0000, 0.0039, 0.0039, 0.0039, 0.0000, 0.7843, 0.9098, 0.9098,\n",
              "           0.9137, 0.8980, 0.8745, 0.8745, 0.8431, 0.8353, 0.6431, 0.4980,\n",
              "           0.4824, 0.7686, 0.8980, 0.0000],\n",
              "          [0.0000, 0.0000, 0.0000, 0.0000, 0.0000, 0.0000, 0.0000, 0.0000,\n",
              "           0.0000, 0.0000, 0.0000, 0.0000, 0.0000, 0.7176, 0.8824, 0.8471,\n",
              "           0.8745, 0.8941, 0.9216, 0.8902, 0.8784, 0.8706, 0.8784, 0.8667,\n",
              "           0.8745, 0.9608, 0.6784, 0.0000],\n",
              "          [0.0000, 0.0000, 0.0000, 0.0000, 0.0000, 0.0000, 0.0000, 0.0000,\n",
              "           0.0000, 0.0000, 0.0000, 0.0000, 0.0000, 0.7569, 0.8941, 0.8549,\n",
              "           0.8353, 0.7765, 0.7059, 0.8314, 0.8235, 0.8275, 0.8353, 0.8745,\n",
              "           0.8627, 0.9529, 0.7922, 0.0000],\n",
              "          [0.0000, 0.0000, 0.0000, 0.0000, 0.0000, 0.0000, 0.0000, 0.0000,\n",
              "           0.0000, 0.0039, 0.0118, 0.0000, 0.0471, 0.8588, 0.8627, 0.8314,\n",
              "           0.8549, 0.7529, 0.6627, 0.8902, 0.8157, 0.8549, 0.8784, 0.8314,\n",
              "           0.8863, 0.7725, 0.8196, 0.2039],\n",
              "          [0.0000, 0.0000, 0.0000, 0.0000, 0.0000, 0.0000, 0.0000, 0.0000,\n",
              "           0.0000, 0.0000, 0.0235, 0.0000, 0.3882, 0.9569, 0.8706, 0.8627,\n",
              "           0.8549, 0.7961, 0.7765, 0.8667, 0.8431, 0.8353, 0.8706, 0.8627,\n",
              "           0.9608, 0.4667, 0.6549, 0.2196],\n",
              "          [0.0000, 0.0000, 0.0000, 0.0000, 0.0000, 0.0000, 0.0000, 0.0000,\n",
              "           0.0000, 0.0157, 0.0000, 0.0000, 0.2157, 0.9255, 0.8941, 0.9020,\n",
              "           0.8941, 0.9412, 0.9098, 0.8353, 0.8549, 0.8745, 0.9176, 0.8510,\n",
              "           0.8510, 0.8196, 0.3608, 0.0000],\n",
              "          [0.0000, 0.0000, 0.0039, 0.0157, 0.0235, 0.0275, 0.0078, 0.0000,\n",
              "           0.0000, 0.0000, 0.0000, 0.0000, 0.9294, 0.8863, 0.8510, 0.8745,\n",
              "           0.8706, 0.8588, 0.8706, 0.8667, 0.8471, 0.8745, 0.8980, 0.8431,\n",
              "           0.8549, 1.0000, 0.3020, 0.0000],\n",
              "          [0.0000, 0.0118, 0.0000, 0.0000, 0.0000, 0.0000, 0.0000, 0.0000,\n",
              "           0.0000, 0.2431, 0.5686, 0.8000, 0.8941, 0.8118, 0.8353, 0.8667,\n",
              "           0.8549, 0.8157, 0.8275, 0.8549, 0.8784, 0.8745, 0.8588, 0.8431,\n",
              "           0.8784, 0.9569, 0.6235, 0.0000],\n",
              "          [0.0000, 0.0000, 0.0000, 0.0000, 0.0706, 0.1725, 0.3216, 0.4196,\n",
              "           0.7412, 0.8941, 0.8627, 0.8706, 0.8510, 0.8863, 0.7843, 0.8039,\n",
              "           0.8275, 0.9020, 0.8784, 0.9176, 0.6902, 0.7373, 0.9804, 0.9725,\n",
              "           0.9137, 0.9333, 0.8431, 0.0000],\n",
              "          [0.0000, 0.2235, 0.7333, 0.8157, 0.8784, 0.8667, 0.8784, 0.8157,\n",
              "           0.8000, 0.8392, 0.8157, 0.8196, 0.7843, 0.6235, 0.9608, 0.7569,\n",
              "           0.8078, 0.8745, 1.0000, 1.0000, 0.8667, 0.9176, 0.8667, 0.8275,\n",
              "           0.8627, 0.9098, 0.9647, 0.0000],\n",
              "          [0.0118, 0.7922, 0.8941, 0.8784, 0.8667, 0.8275, 0.8275, 0.8392,\n",
              "           0.8039, 0.8039, 0.8039, 0.8627, 0.9412, 0.3137, 0.5882, 1.0000,\n",
              "           0.8980, 0.8667, 0.7373, 0.6039, 0.7490, 0.8235, 0.8000, 0.8196,\n",
              "           0.8706, 0.8941, 0.8824, 0.0000],\n",
              "          [0.3843, 0.9137, 0.7765, 0.8235, 0.8706, 0.8980, 0.8980, 0.9176,\n",
              "           0.9765, 0.8627, 0.7608, 0.8431, 0.8510, 0.9451, 0.2549, 0.2863,\n",
              "           0.4157, 0.4588, 0.6588, 0.8588, 0.8667, 0.8431, 0.8510, 0.8745,\n",
              "           0.8745, 0.8784, 0.8980, 0.1137],\n",
              "          [0.2941, 0.8000, 0.8314, 0.8000, 0.7569, 0.8039, 0.8275, 0.8824,\n",
              "           0.8471, 0.7255, 0.7725, 0.8078, 0.7765, 0.8353, 0.9412, 0.7647,\n",
              "           0.8902, 0.9608, 0.9373, 0.8745, 0.8549, 0.8314, 0.8196, 0.8706,\n",
              "           0.8627, 0.8667, 0.9020, 0.2627],\n",
              "          [0.1882, 0.7961, 0.7176, 0.7608, 0.8353, 0.7725, 0.7255, 0.7451,\n",
              "           0.7608, 0.7529, 0.7922, 0.8392, 0.8588, 0.8667, 0.8627, 0.9255,\n",
              "           0.8824, 0.8471, 0.7804, 0.8078, 0.7294, 0.7098, 0.6941, 0.6745,\n",
              "           0.7098, 0.8039, 0.8078, 0.4510],\n",
              "          [0.0000, 0.4784, 0.8588, 0.7569, 0.7020, 0.6706, 0.7176, 0.7686,\n",
              "           0.8000, 0.8235, 0.8353, 0.8118, 0.8275, 0.8235, 0.7843, 0.7686,\n",
              "           0.7608, 0.7490, 0.7647, 0.7490, 0.7765, 0.7529, 0.6902, 0.6118,\n",
              "           0.6549, 0.6941, 0.8235, 0.3608],\n",
              "          [0.0000, 0.0000, 0.2902, 0.7412, 0.8314, 0.7490, 0.6863, 0.6745,\n",
              "           0.6863, 0.7098, 0.7255, 0.7373, 0.7412, 0.7373, 0.7569, 0.7765,\n",
              "           0.8000, 0.8196, 0.8235, 0.8235, 0.8275, 0.7373, 0.7373, 0.7608,\n",
              "           0.7529, 0.8471, 0.6667, 0.0000],\n",
              "          [0.0078, 0.0000, 0.0000, 0.0000, 0.2588, 0.7843, 0.8706, 0.9294,\n",
              "           0.9373, 0.9490, 0.9647, 0.9529, 0.9569, 0.8667, 0.8627, 0.7569,\n",
              "           0.7490, 0.7020, 0.7137, 0.7137, 0.7098, 0.6902, 0.6510, 0.6588,\n",
              "           0.3882, 0.2275, 0.0000, 0.0000],\n",
              "          [0.0000, 0.0000, 0.0000, 0.0000, 0.0000, 0.0000, 0.0000, 0.1569,\n",
              "           0.2392, 0.1725, 0.2824, 0.1608, 0.1373, 0.0000, 0.0000, 0.0000,\n",
              "           0.0000, 0.0000, 0.0000, 0.0000, 0.0000, 0.0000, 0.0000, 0.0000,\n",
              "           0.0000, 0.0000, 0.0000, 0.0000],\n",
              "          [0.0000, 0.0000, 0.0000, 0.0000, 0.0000, 0.0000, 0.0000, 0.0000,\n",
              "           0.0000, 0.0000, 0.0000, 0.0000, 0.0000, 0.0000, 0.0000, 0.0000,\n",
              "           0.0000, 0.0000, 0.0000, 0.0000, 0.0000, 0.0000, 0.0000, 0.0000,\n",
              "           0.0000, 0.0000, 0.0000, 0.0000],\n",
              "          [0.0000, 0.0000, 0.0000, 0.0000, 0.0000, 0.0000, 0.0000, 0.0000,\n",
              "           0.0000, 0.0000, 0.0000, 0.0000, 0.0000, 0.0000, 0.0000, 0.0000,\n",
              "           0.0000, 0.0000, 0.0000, 0.0000, 0.0000, 0.0000, 0.0000, 0.0000,\n",
              "           0.0000, 0.0000, 0.0000, 0.0000]]]), 9)"
            ]
          },
          "metadata": {},
          "execution_count": 35
        }
      ]
    },
    {
      "cell_type": "code",
      "metadata": {
        "colab": {
          "base_uri": "https://localhost:8080/",
          "height": 593
        },
        "id": "JD9eVlNQ_1WX",
        "outputId": "2a24fbea-8b88-4f96-9b14-809b27d5cfc5"
      },
      "source": [
        "loader = DataLoader(dataset=ds, batch_size=256, shuffle=True)\n",
        "batch = next(iter(loader))\n",
        "\n",
        "fig = plt.figure(figsize=(10, 10))\n",
        "for i in range(9):\n",
        "  x = batch[0][i]\n",
        "  ax = fig.add_subplot(3, 3, i+1)\n",
        "  ax.imshow(x.squeeze(), cmap=\"gray\")\n",
        "fig.show()"
      ],
      "execution_count": null,
      "outputs": [
        {
          "output_type": "display_data",
          "data": {
            "text/plain": [
              "<Figure size 720x720 with 9 Axes>"
            ],
            "image/png": "[encoded data removed]"
          },
          "metadata": {
            "needs_background": "light"
          }
        }
      ]
    },
    {
      "cell_type": "markdown",
      "metadata": {
        "id": "YGMuJz0aF4GU"
      },
      "source": [
        "## 4-1-3. torch.nn.Module\n",
        "\n",
        "### pytorch 모델은 parameters를 추적하며 forward pass를 진행한 뒤 back propagation을 통해 학습을 진행해야 합니다.\n",
        "\n",
        "### 그렇지만 deep learning 모델은 굉장히 여러 층의 layer를 포함하기 때문에 이들을 각각 다루는 건 굉장히 복잡하고 지저분한 작업이 됩니다.\n",
        "\n",
        "### torch.nn의 Module class는 이러한 작업을 대신 진행해 줍니다.\n",
        "\n",
        "### 전체 모델과 그 내부의 block, 각 block 내부의 layer들이 Module을 subclass 하게 되면 parameters를 추적해주고 유용한 기능들을 한 번에 수행해 줍니다.\n",
        "\n",
        "### 그럼 Module class가 모델 관리를 얼마나 쉽게 만들어 주는지 확인해 보겠습니다."
      ]
    },
    {
      "cell_type": "code",
      "metadata": {
        "colab": {
          "base_uri": "https://localhost:8080/"
        },
        "id": "r8sKmqW7F8Vb",
        "outputId": "724ea322-fd67-447c-e201-6eb95fb68e50"
      },
      "source": [
        "# device 설정\n",
        "device = \"cuda\" if torch.cuda.is_available() else \"cpu\"\n",
        "print(device)"
      ],
      "execution_count": null,
      "outputs": [
        {
          "output_type": "stream",
          "name": "stdout",
          "text": [
            "cuda\n"
          ]
        }
      ]
    },
    {
      "cell_type": "markdown",
      "metadata": {
        "id": "srOaZr2nRwWP"
      },
      "source": [
        "### Define model"
      ]
    },
    {
      "cell_type": "code",
      "metadata": {
        "id": "ZzA6bYncMBsr"
      },
      "source": [
        "class LionLinear(nn.Module):\n",
        "  def __init__(self, input_dim, output_dim):\n",
        "    super().__init__()\n",
        "    \n",
        "    self.input_dim = input_dim\n",
        "    self.output_dim = output_dim\n",
        "\n",
        "    self.flatten = nn.Flatten()\n",
        "    self.classifier = nn.Linear(input_dim, output_dim)\n",
        "    self.act = nn.ReLU()\n",
        "\n",
        "  def forward(self, x):\n",
        "    # 이미지 flatten(mlp에 넣기 위해서!)\n",
        "    x = self.flatten(x)\n",
        "    # 리니어 모델에 넣기\n",
        "    x = self.classifier(x)\n",
        "    # 활성화!\n",
        "    x = self.act(x)\n",
        "    return x\n",
        "    "
      ],
      "execution_count": null,
      "outputs": []
    },
    {
      "cell_type": "code",
      "metadata": {
        "colab": {
          "base_uri": "https://localhost:8080/"
        },
        "id": "_DtsR0gqSoZk",
        "outputId": "7e6b75b5-e0ed-46a8-8f82-40e1606b1682"
      },
      "source": [
        "linear_model = LionLinear(28*28, 10).to(device)\n",
        "# dim을 1부터!\n",
        "print(linear_model)"
      ],
      "execution_count": null,
      "outputs": [
        {
          "output_type": "stream",
          "name": "stdout",
          "text": [
            "LionLinear(\n",
            "  (flatten): Flatten(start_dim=1, end_dim=-1)\n",
            "  (classifier): Linear(in_features=784, out_features=10, bias=True)\n",
            "  (act): ReLU()\n",
            ")\n"
          ]
        }
      ]
    },
    {
      "cell_type": "code",
      "metadata": {
        "colab": {
          "base_uri": "https://localhost:8080/"
        },
        "id": "TzrSc9oaSvka",
        "outputId": "e9ff0b20-88f9-4764-c61d-935778cae534"
      },
      "source": [
        "print(linear_model.classifier)"
      ],
      "execution_count": null,
      "outputs": [
        {
          "output_type": "stream",
          "name": "stdout",
          "text": [
            "Linear(in_features=784, out_features=10, bias=True)\n"
          ]
        }
      ]
    },
    {
      "cell_type": "code",
      "metadata": {
        "colab": {
          "base_uri": "https://localhost:8080/"
        },
        "id": "rxeJQFZ3S01q",
        "outputId": "bc4e2f37-a03a-4c42-ad9d-92dc154ce84e"
      },
      "source": [
        "X = torch.rand(5, 28, 28).to(device)\n",
        "print(X.shape)\n",
        "y = linear_model(X)\n",
        "print(y.shape)\n",
        "# 활성화 함수\n",
        "prob = nn.Softmax(dim=1)(y)\n",
        "print(prob)\n",
        "# 몇번째 인덱스 가 최대값?\n",
        "y_hat = prob.argmax(1)\n",
        "print(y_hat)"
      ],
      "execution_count": null,
      "outputs": [
        {
          "output_type": "stream",
          "name": "stdout",
          "text": [
            "torch.Size([5, 28, 28])\n",
            "torch.Size([5, 10])\n",
            "tensor([[0.0961, 0.0929, 0.1324, 0.0929, 0.1209, 0.0929, 0.0929, 0.0929, 0.0929,\n",
            "         0.0929],\n",
            "        [0.1177, 0.0916, 0.1155, 0.0979, 0.1183, 0.0916, 0.0916, 0.0916, 0.0916,\n",
            "         0.0925],\n",
            "        [0.1026, 0.0835, 0.1092, 0.0896, 0.1466, 0.0835, 0.0835, 0.1012, 0.0835,\n",
            "         0.1170],\n",
            "        [0.0833, 0.0833, 0.1020, 0.0833, 0.1159, 0.0833, 0.0833, 0.1244, 0.0833,\n",
            "         0.1578],\n",
            "        [0.1236, 0.0816, 0.1491, 0.0816, 0.1300, 0.0816, 0.0816, 0.0896, 0.0816,\n",
            "         0.0996]], device='cuda:0', grad_fn=<SoftmaxBackward0>)\n",
            "tensor([2, 4, 4, 9, 2], device='cuda:0')\n"
          ]
        }
      ]
    },
    {
      "cell_type": "code",
      "metadata": {
        "id": "DgkDtwoXT1Ya"
      },
      "source": [
        "class LionFlatten(nn.Module):\n",
        "  def __init__(self):\n",
        "    super().__init__()\n",
        "    pass\n",
        "\n",
        "  def forward(self, x):\n",
        "    return x.reshape(x.shape[0], -1)"
      ],
      "execution_count": null,
      "outputs": []
    },
    {
      "cell_type": "code",
      "metadata": {
        "colab": {
          "base_uri": "https://localhost:8080/"
        },
        "id": "GmYtl1p_XRsd",
        "outputId": "0fd8eff5-bc1e-4cc2-9c25-3cb322e123b3"
      },
      "source": [
        "print(X.shape)\n",
        "fla = LionFlatten()\n",
        "print(fla(X).shape)"
      ],
      "execution_count": null,
      "outputs": [
        {
          "output_type": "stream",
          "name": "stdout",
          "text": [
            "torch.Size([5, 28, 28])\n",
            "torch.Size([5, 784])\n"
          ]
        }
      ]
    },
    {
      "cell_type": "code",
      "metadata": {
        "id": "_ZVvR9P8Ua5S"
      },
      "source": [
        "class LionLayer(nn.Module):\n",
        "  def __init__(self, input_dim, output_dim):\n",
        "    super().__init__()\n",
        "    \n",
        "    self.input_dim = input_dim\n",
        "    self.output_dim = output_dim\n",
        "\n",
        "    self.layer = nn.Linear(self.input_dim, self.output_dim)\n",
        "    pass\n",
        "\n",
        "  def forward(self, x):\n",
        "    assert x.shape[-1] == self.input_dim, \"Input dimension mismatch\"\n",
        "    return self.layer(x)"
      ],
      "execution_count": null,
      "outputs": []
    },
    {
      "cell_type": "code",
      "metadata": {
        "colab": {
          "base_uri": "https://localhost:8080/"
        },
        "id": "7qcbX5wjYu26",
        "outputId": "7086ee35-59ad-4523-81f6-4ab94ca92675"
      },
      "source": [
        "lin = LionLayer(28 * 28, 20).to(device)\n",
        "print(lin)\n",
        "print(lin(fla(X)).shape)"
      ],
      "execution_count": null,
      "outputs": [
        {
          "output_type": "stream",
          "name": "stdout",
          "text": [
            "LionLayer(\n",
            "  (layer): Linear(in_features=784, out_features=20, bias=True)\n",
            ")\n",
            "torch.Size([5, 20])\n"
          ]
        }
      ]
    },
    {
      "cell_type": "code",
      "metadata": {
        "id": "AB96bQzDVDph"
      },
      "source": [
        "class LionMLP(nn.Module):\n",
        "  def __init__(self, input_dim, hidden_dim, output_dim):\n",
        "    super().__init__()\n",
        "\n",
        "    self.input_dim = input_dim\n",
        "    self.hidden_dim = hidden_dim\n",
        "    self.output_dim = output_dim\n",
        "\n",
        "    self.flatten = LionFlatten()\n",
        "    self.linear_1 = LionLayer(self.input_dim, self.hidden_dim)\n",
        "    self.linear_2 = LionLayer(self.hidden_dim, self.output_dim)\n",
        "    self.act_1 = nn.ReLU()\n",
        "    self.act_2 = nn.Softmax()\n",
        "    pass\n",
        "\n",
        "  def forward(self, x):\n",
        "    x = self.flatten(x)\n",
        "    x = self.act_1(self.linear_1(x))\n",
        "    x = self.act_2(self.linear_2(x))\n",
        "    return x\n"
      ],
      "execution_count": null,
      "outputs": []
    },
    {
      "cell_type": "code",
      "metadata": {
        "colab": {
          "base_uri": "https://localhost:8080/"
        },
        "id": "VBswdsw_V1lR",
        "outputId": "8675f24f-bbd3-424e-bdbb-abe08dcda9fa"
      },
      "source": [
        "mlp = LionMLP(28*28, 50, 10)\n",
        "print(mlp)"
      ],
      "execution_count": null,
      "outputs": [
        {
          "output_type": "stream",
          "name": "stdout",
          "text": [
            "LionMLP(\n",
            "  (flatten): LionFlatten()\n",
            "  (linear_1): LionLayer(\n",
            "    (layer): Linear(in_features=784, out_features=50, bias=True)\n",
            "  )\n",
            "  (linear_2): LionLayer(\n",
            "    (layer): Linear(in_features=50, out_features=10, bias=True)\n",
            "  )\n",
            "  (act_1): ReLU()\n",
            "  (act_2): Softmax(dim=None)\n",
            ")\n"
          ]
        }
      ]
    },
    {
      "cell_type": "code",
      "metadata": {
        "id": "XKBKBWvkV3pp"
      },
      "source": [
        "class LionMLP(nn.Module):\n",
        "  def __init__(self, input_dim, hidden_dim, output_dim):\n",
        "    super().__init__()\n",
        "\n",
        "    self.input_dim = input_dim\n",
        "    self.hidden_dim = hidden_dim\n",
        "    self.output_dim = output_dim\n",
        "\n",
        "    self.flatten = LionFlatten()\n",
        "    self.linear_1 = LionLayer(self.input_dim, self.hidden_dim)\n",
        "    self.linear_2 = LionLayer(self.hidden_dim, self.output_dim)\n",
        "    self.act_1 = nn.ReLU()\n",
        "    self.act_2 = nn.Softmax()\n",
        "\n",
        "    # Sequential을 통해서 flatten>l1>act1>l2>act2 순서로 진행됨!\n",
        "    self.model = nn.Sequential(self.flatten, self.linear_1, self.act_1, self.linear_2, self.act_2)\n",
        "    pass\n",
        "\n",
        "  def forward(self, x):\n",
        "    return self.model(x)"
      ],
      "execution_count": null,
      "outputs": []
    },
    {
      "cell_type": "code",
      "metadata": {
        "colab": {
          "base_uri": "https://localhost:8080/"
        },
        "id": "NWStZuXtWr6J",
        "outputId": "1f9bbe5e-3caf-4f14-e2c6-cbeb7222f802"
      },
      "source": [
        "mlp = LionMLP(28 * 28, 40, 10)\n",
        "print(mlp)"
      ],
      "execution_count": null,
      "outputs": [
        {
          "output_type": "stream",
          "name": "stdout",
          "text": [
            "LionMLP(\n",
            "  (flatten): LionFlatten()\n",
            "  (linear_1): LionLayer(\n",
            "    (layer): Linear(in_features=784, out_features=40, bias=True)\n",
            "  )\n",
            "  (linear_2): LionLayer(\n",
            "    (layer): Linear(in_features=40, out_features=10, bias=True)\n",
            "  )\n",
            "  (act_1): ReLU()\n",
            "  (act_2): Softmax(dim=None)\n",
            "  (model): Sequential(\n",
            "    (0): LionFlatten()\n",
            "    (1): LionLayer(\n",
            "      (layer): Linear(in_features=784, out_features=40, bias=True)\n",
            "    )\n",
            "    (2): ReLU()\n",
            "    (3): LionLayer(\n",
            "      (layer): Linear(in_features=40, out_features=10, bias=True)\n",
            "    )\n",
            "    (4): Softmax(dim=None)\n",
            "  )\n",
            ")\n"
          ]
        }
      ]
    },
    {
      "cell_type": "markdown",
      "metadata": {
        "id": "QCmIUW8VZK76"
      },
      "source": [
        "### Checking parameters"
      ]
    },
    {
      "cell_type": "code",
      "metadata": {
        "colab": {
          "base_uri": "https://localhost:8080/"
        },
        "id": "tGWCd4ihWv06",
        "outputId": "927334ea-6487-4f08-8075-0a5d9eb46355"
      },
      "source": [
        "for name, param in mlp.named_parameters():\n",
        "  print(f\"Layer: {name} | Size: {param.size()} | Values: {param[:2]} \\n\")"
      ],
      "execution_count": null,
      "outputs": [
        {
          "output_type": "stream",
          "name": "stdout",
          "text": [
            "Layer: linear_1.layer.weight | Size: torch.Size([40, 784]) | Values: tensor([[-0.0059, -0.0085,  0.0295,  ..., -0.0231, -0.0060,  0.0054],\n",
            "        [-0.0105,  0.0101,  0.0347,  ...,  0.0162,  0.0008, -0.0236]],\n",
            "       grad_fn=<SliceBackward0>) \n",
            "\n",
            "Layer: linear_1.layer.bias | Size: torch.Size([40]) | Values: tensor([-0.0227, -0.0153], grad_fn=<SliceBackward0>) \n",
            "\n",
            "Layer: linear_2.layer.weight | Size: torch.Size([10, 40]) | Values: tensor([[-0.1045, -0.0790, -0.0278,  0.1521,  0.0654,  0.1150, -0.0377, -0.0681,\n",
            "          0.0005,  0.1061,  0.0385, -0.0950,  0.0968,  0.0240, -0.0887, -0.1048,\n",
            "         -0.0978, -0.1171,  0.0964,  0.0755, -0.1020, -0.0407,  0.1435, -0.1100,\n",
            "          0.0628, -0.0351,  0.1115, -0.0736, -0.0957, -0.0839, -0.0913,  0.1126,\n",
            "          0.1540, -0.1290,  0.0184,  0.0196,  0.1426, -0.0190,  0.0083, -0.1320],\n",
            "        [-0.0411,  0.1405, -0.1418,  0.1252,  0.0647, -0.0480, -0.0266, -0.1433,\n",
            "         -0.0892,  0.0434,  0.1455,  0.0257,  0.0135, -0.1141,  0.1424, -0.0227,\n",
            "         -0.1431,  0.0368,  0.0416,  0.0801, -0.0475,  0.0207, -0.0038,  0.0711,\n",
            "         -0.0781, -0.1287, -0.0017, -0.1321, -0.0043, -0.0905, -0.0378, -0.0343,\n",
            "          0.0463, -0.0611, -0.0446,  0.0113,  0.0502, -0.0570,  0.1268, -0.0661]],\n",
            "       grad_fn=<SliceBackward0>) \n",
            "\n",
            "Layer: linear_2.layer.bias | Size: torch.Size([10]) | Values: tensor([0.0145, 0.1130], grad_fn=<SliceBackward0>) \n",
            "\n"
          ]
        }
      ]
    },
    {
      "cell_type": "code",
      "source": [
        ""
      ],
      "metadata": {
        "id": "cbwVdSOtnNro"
      },
      "execution_count": null,
      "outputs": []
    }
  ]
}