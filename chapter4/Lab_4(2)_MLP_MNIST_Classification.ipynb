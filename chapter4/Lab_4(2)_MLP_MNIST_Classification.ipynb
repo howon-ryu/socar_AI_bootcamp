{
  "nbformat": 4,
  "nbformat_minor": 0,
  "metadata": {
    "colab": {
      "name": "Lab 4(2)_MLP MNIST Classification.ipynb",
      "provenance": [],
      "collapsed_sections": []
    },
    "kernelspec": {
      "name": "python3",
      "display_name": "Python 3"
    },
    "language_info": {
      "name": "python"
    },
    "widgets": {
      "application/vnd.jupyter.widget-state+json": {
        "fc09846148d3497f9024818bf02a0202": {
          "model_module": "@jupyter-widgets/controls",
          "model_name": "HBoxModel",
          "model_module_version": "1.5.0",
          "state": {
            "_dom_classes": [],
            "_model_module": "@jupyter-widgets/controls",
            "_model_module_version": "1.5.0",
            "_model_name": "HBoxModel",
            "_view_count": null,
            "_view_module": "@jupyter-widgets/controls",
            "_view_module_version": "1.5.0",
            "_view_name": "HBoxView",
            "box_style": "",
            "children": [
              "IPY_MODEL_af72cf67fc79425b9b472f45ba67fe68",
              "IPY_MODEL_87795be3e0fd440dad5bfd470eb265e7",
              "IPY_MODEL_3561acb8b470484690d41695e57f2a67"
            ],
            "layout": "IPY_MODEL_f53e9908685147949e37c2a5fe69e59b"
          }
        },
        "af72cf67fc79425b9b472f45ba67fe68": {
          "model_module": "@jupyter-widgets/controls",
          "model_name": "HTMLModel",
          "model_module_version": "1.5.0",
          "state": {
            "_dom_classes": [],
            "_model_module": "@jupyter-widgets/controls",
            "_model_module_version": "1.5.0",
            "_model_name": "HTMLModel",
            "_view_count": null,
            "_view_module": "@jupyter-widgets/controls",
            "_view_module_version": "1.5.0",
            "_view_name": "HTMLView",
            "description": "",
            "description_tooltip": null,
            "layout": "IPY_MODEL_564050997e6144b3b8ac499559702600",
            "placeholder": "​",
            "style": "IPY_MODEL_8cbc43fbe3e9490c9a6cb21bde1de1f2",
            "value": ""
          }
        },
        "87795be3e0fd440dad5bfd470eb265e7": {
          "model_module": "@jupyter-widgets/controls",
          "model_name": "FloatProgressModel",
          "model_module_version": "1.5.0",
          "state": {
            "_dom_classes": [],
            "_model_module": "@jupyter-widgets/controls",
            "_model_module_version": "1.5.0",
            "_model_name": "FloatProgressModel",
            "_view_count": null,
            "_view_module": "@jupyter-widgets/controls",
            "_view_module_version": "1.5.0",
            "_view_name": "ProgressView",
            "bar_style": "success",
            "description": "",
            "description_tooltip": null,
            "layout": "IPY_MODEL_7c19addcbd43483d9fca69faafc5d331",
            "max": 9912422,
            "min": 0,
            "orientation": "horizontal",
            "style": "IPY_MODEL_0a0759770d774081914bca2be1a253ed",
            "value": 9912422
          }
        },
        "3561acb8b470484690d41695e57f2a67": {
          "model_module": "@jupyter-widgets/controls",
          "model_name": "HTMLModel",
          "model_module_version": "1.5.0",
          "state": {
            "_dom_classes": [],
            "_model_module": "@jupyter-widgets/controls",
            "_model_module_version": "1.5.0",
            "_model_name": "HTMLModel",
            "_view_count": null,
            "_view_module": "@jupyter-widgets/controls",
            "_view_module_version": "1.5.0",
            "_view_name": "HTMLView",
            "description": "",
            "description_tooltip": null,
            "layout": "IPY_MODEL_4fd5feee8a89456baa3b5f0c794cafc7",
            "placeholder": "​",
            "style": "IPY_MODEL_41efb5b2f0e9481cafd98b2e4fa4679a",
            "value": " 9913344/? [00:00&lt;00:00, 38021107.29it/s]"
          }
        },
        "f53e9908685147949e37c2a5fe69e59b": {
          "model_module": "@jupyter-widgets/base",
          "model_name": "LayoutModel",
          "model_module_version": "1.2.0",
          "state": {
            "_model_module": "@jupyter-widgets/base",
            "_model_module_version": "1.2.0",
            "_model_name": "LayoutModel",
            "_view_count": null,
            "_view_module": "@jupyter-widgets/base",
            "_view_module_version": "1.2.0",
            "_view_name": "LayoutView",
            "align_content": null,
            "align_items": null,
            "align_self": null,
            "border": null,
            "bottom": null,
            "display": null,
            "flex": null,
            "flex_flow": null,
            "grid_area": null,
            "grid_auto_columns": null,
            "grid_auto_flow": null,
            "grid_auto_rows": null,
            "grid_column": null,
            "grid_gap": null,
            "grid_row": null,
            "grid_template_areas": null,
            "grid_template_columns": null,
            "grid_template_rows": null,
            "height": null,
            "justify_content": null,
            "justify_items": null,
            "left": null,
            "margin": null,
            "max_height": null,
            "max_width": null,
            "min_height": null,
            "min_width": null,
            "object_fit": null,
            "object_position": null,
            "order": null,
            "overflow": null,
            "overflow_x": null,
            "overflow_y": null,
            "padding": null,
            "right": null,
            "top": null,
            "visibility": null,
            "width": null
          }
        },
        "564050997e6144b3b8ac499559702600": {
          "model_module": "@jupyter-widgets/base",
          "model_name": "LayoutModel",
          "model_module_version": "1.2.0",
          "state": {
            "_model_module": "@jupyter-widgets/base",
            "_model_module_version": "1.2.0",
            "_model_name": "LayoutModel",
            "_view_count": null,
            "_view_module": "@jupyter-widgets/base",
            "_view_module_version": "1.2.0",
            "_view_name": "LayoutView",
            "align_content": null,
            "align_items": null,
            "align_self": null,
            "border": null,
            "bottom": null,
            "display": null,
            "flex": null,
            "flex_flow": null,
            "grid_area": null,
            "grid_auto_columns": null,
            "grid_auto_flow": null,
            "grid_auto_rows": null,
            "grid_column": null,
            "grid_gap": null,
            "grid_row": null,
            "grid_template_areas": null,
            "grid_template_columns": null,
            "grid_template_rows": null,
            "height": null,
            "justify_content": null,
            "justify_items": null,
            "left": null,
            "margin": null,
            "max_height": null,
            "max_width": null,
            "min_height": null,
            "min_width": null,
            "object_fit": null,
            "object_position": null,
            "order": null,
            "overflow": null,
            "overflow_x": null,
            "overflow_y": null,
            "padding": null,
            "right": null,
            "top": null,
            "visibility": null,
            "width": null
          }
        },
        "8cbc43fbe3e9490c9a6cb21bde1de1f2": {
          "model_module": "@jupyter-widgets/controls",
          "model_name": "DescriptionStyleModel",
          "model_module_version": "1.5.0",
          "state": {
            "_model_module": "@jupyter-widgets/controls",
            "_model_module_version": "1.5.0",
            "_model_name": "DescriptionStyleModel",
            "_view_count": null,
            "_view_module": "@jupyter-widgets/base",
            "_view_module_version": "1.2.0",
            "_view_name": "StyleView",
            "description_width": ""
          }
        },
        "7c19addcbd43483d9fca69faafc5d331": {
          "model_module": "@jupyter-widgets/base",
          "model_name": "LayoutModel",
          "model_module_version": "1.2.0",
          "state": {
            "_model_module": "@jupyter-widgets/base",
            "_model_module_version": "1.2.0",
            "_model_name": "LayoutModel",
            "_view_count": null,
            "_view_module": "@jupyter-widgets/base",
            "_view_module_version": "1.2.0",
            "_view_name": "LayoutView",
            "align_content": null,
            "align_items": null,
            "align_self": null,
            "border": null,
            "bottom": null,
            "display": null,
            "flex": null,
            "flex_flow": null,
            "grid_area": null,
            "grid_auto_columns": null,
            "grid_auto_flow": null,
            "grid_auto_rows": null,
            "grid_column": null,
            "grid_gap": null,
            "grid_row": null,
            "grid_template_areas": null,
            "grid_template_columns": null,
            "grid_template_rows": null,
            "height": null,
            "justify_content": null,
            "justify_items": null,
            "left": null,
            "margin": null,
            "max_height": null,
            "max_width": null,
            "min_height": null,
            "min_width": null,
            "object_fit": null,
            "object_position": null,
            "order": null,
            "overflow": null,
            "overflow_x": null,
            "overflow_y": null,
            "padding": null,
            "right": null,
            "top": null,
            "visibility": null,
            "width": null
          }
        },
        "0a0759770d774081914bca2be1a253ed": {
          "model_module": "@jupyter-widgets/controls",
          "model_name": "ProgressStyleModel",
          "model_module_version": "1.5.0",
          "state": {
            "_model_module": "@jupyter-widgets/controls",
            "_model_module_version": "1.5.0",
            "_model_name": "ProgressStyleModel",
            "_view_count": null,
            "_view_module": "@jupyter-widgets/base",
            "_view_module_version": "1.2.0",
            "_view_name": "StyleView",
            "bar_color": null,
            "description_width": ""
          }
        },
        "4fd5feee8a89456baa3b5f0c794cafc7": {
          "model_module": "@jupyter-widgets/base",
          "model_name": "LayoutModel",
          "model_module_version": "1.2.0",
          "state": {
            "_model_module": "@jupyter-widgets/base",
            "_model_module_version": "1.2.0",
            "_model_name": "LayoutModel",
            "_view_count": null,
            "_view_module": "@jupyter-widgets/base",
            "_view_module_version": "1.2.0",
            "_view_name": "LayoutView",
            "align_content": null,
            "align_items": null,
            "align_self": null,
            "border": null,
            "bottom": null,
            "display": null,
            "flex": null,
            "flex_flow": null,
            "grid_area": null,
            "grid_auto_columns": null,
            "grid_auto_flow": null,
            "grid_auto_rows": null,
            "grid_column": null,
            "grid_gap": null,
            "grid_row": null,
            "grid_template_areas": null,
            "grid_template_columns": null,
            "grid_template_rows": null,
            "height": null,
            "justify_content": null,
            "justify_items": null,
            "left": null,
            "margin": null,
            "max_height": null,
            "max_width": null,
            "min_height": null,
            "min_width": null,
            "object_fit": null,
            "object_position": null,
            "order": null,
            "overflow": null,
            "overflow_x": null,
            "overflow_y": null,
            "padding": null,
            "right": null,
            "top": null,
            "visibility": null,
            "width": null
          }
        },
        "41efb5b2f0e9481cafd98b2e4fa4679a": {
          "model_module": "@jupyter-widgets/controls",
          "model_name": "DescriptionStyleModel",
          "model_module_version": "1.5.0",
          "state": {
            "_model_module": "@jupyter-widgets/controls",
            "_model_module_version": "1.5.0",
            "_model_name": "DescriptionStyleModel",
            "_view_count": null,
            "_view_module": "@jupyter-widgets/base",
            "_view_module_version": "1.2.0",
            "_view_name": "StyleView",
            "description_width": ""
          }
        },
        "e05ab6aa52ae4a56b7dc9305c0fc9024": {
          "model_module": "@jupyter-widgets/controls",
          "model_name": "HBoxModel",
          "model_module_version": "1.5.0",
          "state": {
            "_dom_classes": [],
            "_model_module": "@jupyter-widgets/controls",
            "_model_module_version": "1.5.0",
            "_model_name": "HBoxModel",
            "_view_count": null,
            "_view_module": "@jupyter-widgets/controls",
            "_view_module_version": "1.5.0",
            "_view_name": "HBoxView",
            "box_style": "",
            "children": [
              "IPY_MODEL_a080aecb88934db5ae305d996c0e1bbb",
              "IPY_MODEL_40f302cbd767443f85d7ff95ecd85024",
              "IPY_MODEL_4e8d6a054c90434d884c4659a518e333"
            ],
            "layout": "IPY_MODEL_e28c5da5b9ea4647a7cf9d5292004be0"
          }
        },
        "a080aecb88934db5ae305d996c0e1bbb": {
          "model_module": "@jupyter-widgets/controls",
          "model_name": "HTMLModel",
          "model_module_version": "1.5.0",
          "state": {
            "_dom_classes": [],
            "_model_module": "@jupyter-widgets/controls",
            "_model_module_version": "1.5.0",
            "_model_name": "HTMLModel",
            "_view_count": null,
            "_view_module": "@jupyter-widgets/controls",
            "_view_module_version": "1.5.0",
            "_view_name": "HTMLView",
            "description": "",
            "description_tooltip": null,
            "layout": "IPY_MODEL_41bae2e69388464d808a9798c5437a9d",
            "placeholder": "​",
            "style": "IPY_MODEL_4f92ef305d5d4de2ae910b363a99411e",
            "value": ""
          }
        },
        "40f302cbd767443f85d7ff95ecd85024": {
          "model_module": "@jupyter-widgets/controls",
          "model_name": "FloatProgressModel",
          "model_module_version": "1.5.0",
          "state": {
            "_dom_classes": [],
            "_model_module": "@jupyter-widgets/controls",
            "_model_module_version": "1.5.0",
            "_model_name": "FloatProgressModel",
            "_view_count": null,
            "_view_module": "@jupyter-widgets/controls",
            "_view_module_version": "1.5.0",
            "_view_name": "ProgressView",
            "bar_style": "success",
            "description": "",
            "description_tooltip": null,
            "layout": "IPY_MODEL_daefab12fd18411397d70ef03d0a1e09",
            "max": 28881,
            "min": 0,
            "orientation": "horizontal",
            "style": "IPY_MODEL_3959bc7cefdc403091f65cc6334e67a5",
            "value": 28881
          }
        },
        "4e8d6a054c90434d884c4659a518e333": {
          "model_module": "@jupyter-widgets/controls",
          "model_name": "HTMLModel",
          "model_module_version": "1.5.0",
          "state": {
            "_dom_classes": [],
            "_model_module": "@jupyter-widgets/controls",
            "_model_module_version": "1.5.0",
            "_model_name": "HTMLModel",
            "_view_count": null,
            "_view_module": "@jupyter-widgets/controls",
            "_view_module_version": "1.5.0",
            "_view_name": "HTMLView",
            "description": "",
            "description_tooltip": null,
            "layout": "IPY_MODEL_788d2db5eac4411ea7003610946903d5",
            "placeholder": "​",
            "style": "IPY_MODEL_6bb60301849945feaecfc52eaf28ff9d",
            "value": " 29696/? [00:00&lt;00:00, 708160.22it/s]"
          }
        },
        "e28c5da5b9ea4647a7cf9d5292004be0": {
          "model_module": "@jupyter-widgets/base",
          "model_name": "LayoutModel",
          "model_module_version": "1.2.0",
          "state": {
            "_model_module": "@jupyter-widgets/base",
            "_model_module_version": "1.2.0",
            "_model_name": "LayoutModel",
            "_view_count": null,
            "_view_module": "@jupyter-widgets/base",
            "_view_module_version": "1.2.0",
            "_view_name": "LayoutView",
            "align_content": null,
            "align_items": null,
            "align_self": null,
            "border": null,
            "bottom": null,
            "display": null,
            "flex": null,
            "flex_flow": null,
            "grid_area": null,
            "grid_auto_columns": null,
            "grid_auto_flow": null,
            "grid_auto_rows": null,
            "grid_column": null,
            "grid_gap": null,
            "grid_row": null,
            "grid_template_areas": null,
            "grid_template_columns": null,
            "grid_template_rows": null,
            "height": null,
            "justify_content": null,
            "justify_items": null,
            "left": null,
            "margin": null,
            "max_height": null,
            "max_width": null,
            "min_height": null,
            "min_width": null,
            "object_fit": null,
            "object_position": null,
            "order": null,
            "overflow": null,
            "overflow_x": null,
            "overflow_y": null,
            "padding": null,
            "right": null,
            "top": null,
            "visibility": null,
            "width": null
          }
        },
        "41bae2e69388464d808a9798c5437a9d": {
          "model_module": "@jupyter-widgets/base",
          "model_name": "LayoutModel",
          "model_module_version": "1.2.0",
          "state": {
            "_model_module": "@jupyter-widgets/base",
            "_model_module_version": "1.2.0",
            "_model_name": "LayoutModel",
            "_view_count": null,
            "_view_module": "@jupyter-widgets/base",
            "_view_module_version": "1.2.0",
            "_view_name": "LayoutView",
            "align_content": null,
            "align_items": null,
            "align_self": null,
            "border": null,
            "bottom": null,
            "display": null,
            "flex": null,
            "flex_flow": null,
            "grid_area": null,
            "grid_auto_columns": null,
            "grid_auto_flow": null,
            "grid_auto_rows": null,
            "grid_column": null,
            "grid_gap": null,
            "grid_row": null,
            "grid_template_areas": null,
            "grid_template_columns": null,
            "grid_template_rows": null,
            "height": null,
            "justify_content": null,
            "justify_items": null,
            "left": null,
            "margin": null,
            "max_height": null,
            "max_width": null,
            "min_height": null,
            "min_width": null,
            "object_fit": null,
            "object_position": null,
            "order": null,
            "overflow": null,
            "overflow_x": null,
            "overflow_y": null,
            "padding": null,
            "right": null,
            "top": null,
            "visibility": null,
            "width": null
          }
        },
        "4f92ef305d5d4de2ae910b363a99411e": {
          "model_module": "@jupyter-widgets/controls",
          "model_name": "DescriptionStyleModel",
          "model_module_version": "1.5.0",
          "state": {
            "_model_module": "@jupyter-widgets/controls",
            "_model_module_version": "1.5.0",
            "_model_name": "DescriptionStyleModel",
            "_view_count": null,
            "_view_module": "@jupyter-widgets/base",
            "_view_module_version": "1.2.0",
            "_view_name": "StyleView",
            "description_width": ""
          }
        },
        "daefab12fd18411397d70ef03d0a1e09": {
          "model_module": "@jupyter-widgets/base",
          "model_name": "LayoutModel",
          "model_module_version": "1.2.0",
          "state": {
            "_model_module": "@jupyter-widgets/base",
            "_model_module_version": "1.2.0",
            "_model_name": "LayoutModel",
            "_view_count": null,
            "_view_module": "@jupyter-widgets/base",
            "_view_module_version": "1.2.0",
            "_view_name": "LayoutView",
            "align_content": null,
            "align_items": null,
            "align_self": null,
            "border": null,
            "bottom": null,
            "display": null,
            "flex": null,
            "flex_flow": null,
            "grid_area": null,
            "grid_auto_columns": null,
            "grid_auto_flow": null,
            "grid_auto_rows": null,
            "grid_column": null,
            "grid_gap": null,
            "grid_row": null,
            "grid_template_areas": null,
            "grid_template_columns": null,
            "grid_template_rows": null,
            "height": null,
            "justify_content": null,
            "justify_items": null,
            "left": null,
            "margin": null,
            "max_height": null,
            "max_width": null,
            "min_height": null,
            "min_width": null,
            "object_fit": null,
            "object_position": null,
            "order": null,
            "overflow": null,
            "overflow_x": null,
            "overflow_y": null,
            "padding": null,
            "right": null,
            "top": null,
            "visibility": null,
            "width": null
          }
        },
        "3959bc7cefdc403091f65cc6334e67a5": {
          "model_module": "@jupyter-widgets/controls",
          "model_name": "ProgressStyleModel",
          "model_module_version": "1.5.0",
          "state": {
            "_model_module": "@jupyter-widgets/controls",
            "_model_module_version": "1.5.0",
            "_model_name": "ProgressStyleModel",
            "_view_count": null,
            "_view_module": "@jupyter-widgets/base",
            "_view_module_version": "1.2.0",
            "_view_name": "StyleView",
            "bar_color": null,
            "description_width": ""
          }
        },
        "788d2db5eac4411ea7003610946903d5": {
          "model_module": "@jupyter-widgets/base",
          "model_name": "LayoutModel",
          "model_module_version": "1.2.0",
          "state": {
            "_model_module": "@jupyter-widgets/base",
            "_model_module_version": "1.2.0",
            "_model_name": "LayoutModel",
            "_view_count": null,
            "_view_module": "@jupyter-widgets/base",
            "_view_module_version": "1.2.0",
            "_view_name": "LayoutView",
            "align_content": null,
            "align_items": null,
            "align_self": null,
            "border": null,
            "bottom": null,
            "display": null,
            "flex": null,
            "flex_flow": null,
            "grid_area": null,
            "grid_auto_columns": null,
            "grid_auto_flow": null,
            "grid_auto_rows": null,
            "grid_column": null,
            "grid_gap": null,
            "grid_row": null,
            "grid_template_areas": null,
            "grid_template_columns": null,
            "grid_template_rows": null,
            "height": null,
            "justify_content": null,
            "justify_items": null,
            "left": null,
            "margin": null,
            "max_height": null,
            "max_width": null,
            "min_height": null,
            "min_width": null,
            "object_fit": null,
            "object_position": null,
            "order": null,
            "overflow": null,
            "overflow_x": null,
            "overflow_y": null,
            "padding": null,
            "right": null,
            "top": null,
            "visibility": null,
            "width": null
          }
        },
        "6bb60301849945feaecfc52eaf28ff9d": {
          "model_module": "@jupyter-widgets/controls",
          "model_name": "DescriptionStyleModel",
          "model_module_version": "1.5.0",
          "state": {
            "_model_module": "@jupyter-widgets/controls",
            "_model_module_version": "1.5.0",
            "_model_name": "DescriptionStyleModel",
            "_view_count": null,
            "_view_module": "@jupyter-widgets/base",
            "_view_module_version": "1.2.0",
            "_view_name": "StyleView",
            "description_width": ""
          }
        },
        "9537106823fb4b14913420f1949ea87a": {
          "model_module": "@jupyter-widgets/controls",
          "model_name": "HBoxModel",
          "model_module_version": "1.5.0",
          "state": {
            "_dom_classes": [],
            "_model_module": "@jupyter-widgets/controls",
            "_model_module_version": "1.5.0",
            "_model_name": "HBoxModel",
            "_view_count": null,
            "_view_module": "@jupyter-widgets/controls",
            "_view_module_version": "1.5.0",
            "_view_name": "HBoxView",
            "box_style": "",
            "children": [
              "IPY_MODEL_c8f48fe3987646b5a2d449a890adfa4f",
              "IPY_MODEL_7d1d1bb8dca74cd984726a1d9aa289a9",
              "IPY_MODEL_1f5b43f100c443f3b5d2322190e67451"
            ],
            "layout": "IPY_MODEL_e53283bc316945919257b5f1138cce16"
          }
        },
        "c8f48fe3987646b5a2d449a890adfa4f": {
          "model_module": "@jupyter-widgets/controls",
          "model_name": "HTMLModel",
          "model_module_version": "1.5.0",
          "state": {
            "_dom_classes": [],
            "_model_module": "@jupyter-widgets/controls",
            "_model_module_version": "1.5.0",
            "_model_name": "HTMLModel",
            "_view_count": null,
            "_view_module": "@jupyter-widgets/controls",
            "_view_module_version": "1.5.0",
            "_view_name": "HTMLView",
            "description": "",
            "description_tooltip": null,
            "layout": "IPY_MODEL_ab0806cfe4f24c7b89e80fdafac887fc",
            "placeholder": "​",
            "style": "IPY_MODEL_1b91dac56c0c435e8ec41c688fcd66a1",
            "value": ""
          }
        },
        "7d1d1bb8dca74cd984726a1d9aa289a9": {
          "model_module": "@jupyter-widgets/controls",
          "model_name": "FloatProgressModel",
          "model_module_version": "1.5.0",
          "state": {
            "_dom_classes": [],
            "_model_module": "@jupyter-widgets/controls",
            "_model_module_version": "1.5.0",
            "_model_name": "FloatProgressModel",
            "_view_count": null,
            "_view_module": "@jupyter-widgets/controls",
            "_view_module_version": "1.5.0",
            "_view_name": "ProgressView",
            "bar_style": "success",
            "description": "",
            "description_tooltip": null,
            "layout": "IPY_MODEL_ba034d52a73d4f55b78e2ceab7bcaed7",
            "max": 1648877,
            "min": 0,
            "orientation": "horizontal",
            "style": "IPY_MODEL_603b62b457c940189b2feec9fa9cbad7",
            "value": 1648877
          }
        },
        "1f5b43f100c443f3b5d2322190e67451": {
          "model_module": "@jupyter-widgets/controls",
          "model_name": "HTMLModel",
          "model_module_version": "1.5.0",
          "state": {
            "_dom_classes": [],
            "_model_module": "@jupyter-widgets/controls",
            "_model_module_version": "1.5.0",
            "_model_name": "HTMLModel",
            "_view_count": null,
            "_view_module": "@jupyter-widgets/controls",
            "_view_module_version": "1.5.0",
            "_view_name": "HTMLView",
            "description": "",
            "description_tooltip": null,
            "layout": "IPY_MODEL_a9e05b7e537e4438b9e3bdbf209a9f26",
            "placeholder": "​",
            "style": "IPY_MODEL_21bc1c0cc1814f0ca946dc0f5a104d31",
            "value": " 1649664/? [00:00&lt;00:00, 23983668.11it/s]"
          }
        },
        "e53283bc316945919257b5f1138cce16": {
          "model_module": "@jupyter-widgets/base",
          "model_name": "LayoutModel",
          "model_module_version": "1.2.0",
          "state": {
            "_model_module": "@jupyter-widgets/base",
            "_model_module_version": "1.2.0",
            "_model_name": "LayoutModel",
            "_view_count": null,
            "_view_module": "@jupyter-widgets/base",
            "_view_module_version": "1.2.0",
            "_view_name": "LayoutView",
            "align_content": null,
            "align_items": null,
            "align_self": null,
            "border": null,
            "bottom": null,
            "display": null,
            "flex": null,
            "flex_flow": null,
            "grid_area": null,
            "grid_auto_columns": null,
            "grid_auto_flow": null,
            "grid_auto_rows": null,
            "grid_column": null,
            "grid_gap": null,
            "grid_row": null,
            "grid_template_areas": null,
            "grid_template_columns": null,
            "grid_template_rows": null,
            "height": null,
            "justify_content": null,
            "justify_items": null,
            "left": null,
            "margin": null,
            "max_height": null,
            "max_width": null,
            "min_height": null,
            "min_width": null,
            "object_fit": null,
            "object_position": null,
            "order": null,
            "overflow": null,
            "overflow_x": null,
            "overflow_y": null,
            "padding": null,
            "right": null,
            "top": null,
            "visibility": null,
            "width": null
          }
        },
        "ab0806cfe4f24c7b89e80fdafac887fc": {
          "model_module": "@jupyter-widgets/base",
          "model_name": "LayoutModel",
          "model_module_version": "1.2.0",
          "state": {
            "_model_module": "@jupyter-widgets/base",
            "_model_module_version": "1.2.0",
            "_model_name": "LayoutModel",
            "_view_count": null,
            "_view_module": "@jupyter-widgets/base",
            "_view_module_version": "1.2.0",
            "_view_name": "LayoutView",
            "align_content": null,
            "align_items": null,
            "align_self": null,
            "border": null,
            "bottom": null,
            "display": null,
            "flex": null,
            "flex_flow": null,
            "grid_area": null,
            "grid_auto_columns": null,
            "grid_auto_flow": null,
            "grid_auto_rows": null,
            "grid_column": null,
            "grid_gap": null,
            "grid_row": null,
            "grid_template_areas": null,
            "grid_template_columns": null,
            "grid_template_rows": null,
            "height": null,
            "justify_content": null,
            "justify_items": null,
            "left": null,
            "margin": null,
            "max_height": null,
            "max_width": null,
            "min_height": null,
            "min_width": null,
            "object_fit": null,
            "object_position": null,
            "order": null,
            "overflow": null,
            "overflow_x": null,
            "overflow_y": null,
            "padding": null,
            "right": null,
            "top": null,
            "visibility": null,
            "width": null
          }
        },
        "1b91dac56c0c435e8ec41c688fcd66a1": {
          "model_module": "@jupyter-widgets/controls",
          "model_name": "DescriptionStyleModel",
          "model_module_version": "1.5.0",
          "state": {
            "_model_module": "@jupyter-widgets/controls",
            "_model_module_version": "1.5.0",
            "_model_name": "DescriptionStyleModel",
            "_view_count": null,
            "_view_module": "@jupyter-widgets/base",
            "_view_module_version": "1.2.0",
            "_view_name": "StyleView",
            "description_width": ""
          }
        },
        "ba034d52a73d4f55b78e2ceab7bcaed7": {
          "model_module": "@jupyter-widgets/base",
          "model_name": "LayoutModel",
          "model_module_version": "1.2.0",
          "state": {
            "_model_module": "@jupyter-widgets/base",
            "_model_module_version": "1.2.0",
            "_model_name": "LayoutModel",
            "_view_count": null,
            "_view_module": "@jupyter-widgets/base",
            "_view_module_version": "1.2.0",
            "_view_name": "LayoutView",
            "align_content": null,
            "align_items": null,
            "align_self": null,
            "border": null,
            "bottom": null,
            "display": null,
            "flex": null,
            "flex_flow": null,
            "grid_area": null,
            "grid_auto_columns": null,
            "grid_auto_flow": null,
            "grid_auto_rows": null,
            "grid_column": null,
            "grid_gap": null,
            "grid_row": null,
            "grid_template_areas": null,
            "grid_template_columns": null,
            "grid_template_rows": null,
            "height": null,
            "justify_content": null,
            "justify_items": null,
            "left": null,
            "margin": null,
            "max_height": null,
            "max_width": null,
            "min_height": null,
            "min_width": null,
            "object_fit": null,
            "object_position": null,
            "order": null,
            "overflow": null,
            "overflow_x": null,
            "overflow_y": null,
            "padding": null,
            "right": null,
            "top": null,
            "visibility": null,
            "width": null
          }
        },
        "603b62b457c940189b2feec9fa9cbad7": {
          "model_module": "@jupyter-widgets/controls",
          "model_name": "ProgressStyleModel",
          "model_module_version": "1.5.0",
          "state": {
            "_model_module": "@jupyter-widgets/controls",
            "_model_module_version": "1.5.0",
            "_model_name": "ProgressStyleModel",
            "_view_count": null,
            "_view_module": "@jupyter-widgets/base",
            "_view_module_version": "1.2.0",
            "_view_name": "StyleView",
            "bar_color": null,
            "description_width": ""
          }
        },
        "a9e05b7e537e4438b9e3bdbf209a9f26": {
          "model_module": "@jupyter-widgets/base",
          "model_name": "LayoutModel",
          "model_module_version": "1.2.0",
          "state": {
            "_model_module": "@jupyter-widgets/base",
            "_model_module_version": "1.2.0",
            "_model_name": "LayoutModel",
            "_view_count": null,
            "_view_module": "@jupyter-widgets/base",
            "_view_module_version": "1.2.0",
            "_view_name": "LayoutView",
            "align_content": null,
            "align_items": null,
            "align_self": null,
            "border": null,
            "bottom": null,
            "display": null,
            "flex": null,
            "flex_flow": null,
            "grid_area": null,
            "grid_auto_columns": null,
            "grid_auto_flow": null,
            "grid_auto_rows": null,
            "grid_column": null,
            "grid_gap": null,
            "grid_row": null,
            "grid_template_areas": null,
            "grid_template_columns": null,
            "grid_template_rows": null,
            "height": null,
            "justify_content": null,
            "justify_items": null,
            "left": null,
            "margin": null,
            "max_height": null,
            "max_width": null,
            "min_height": null,
            "min_width": null,
            "object_fit": null,
            "object_position": null,
            "order": null,
            "overflow": null,
            "overflow_x": null,
            "overflow_y": null,
            "padding": null,
            "right": null,
            "top": null,
            "visibility": null,
            "width": null
          }
        },
        "21bc1c0cc1814f0ca946dc0f5a104d31": {
          "model_module": "@jupyter-widgets/controls",
          "model_name": "DescriptionStyleModel",
          "model_module_version": "1.5.0",
          "state": {
            "_model_module": "@jupyter-widgets/controls",
            "_model_module_version": "1.5.0",
            "_model_name": "DescriptionStyleModel",
            "_view_count": null,
            "_view_module": "@jupyter-widgets/base",
            "_view_module_version": "1.2.0",
            "_view_name": "StyleView",
            "description_width": ""
          }
        },
        "eb5b430cbd734d3ca27af5ad039a4eeb": {
          "model_module": "@jupyter-widgets/controls",
          "model_name": "HBoxModel",
          "model_module_version": "1.5.0",
          "state": {
            "_dom_classes": [],
            "_model_module": "@jupyter-widgets/controls",
            "_model_module_version": "1.5.0",
            "_model_name": "HBoxModel",
            "_view_count": null,
            "_view_module": "@jupyter-widgets/controls",
            "_view_module_version": "1.5.0",
            "_view_name": "HBoxView",
            "box_style": "",
            "children": [
              "IPY_MODEL_e45496cc8d83434b94323f70a0f242f3",
              "IPY_MODEL_f2230f80685d407f87200723bf20e859",
              "IPY_MODEL_4cad76b9fafa4565a335767948ba6a5b"
            ],
            "layout": "IPY_MODEL_b268b4d9f1804c4ea7c8196a0339d1d5"
          }
        },
        "e45496cc8d83434b94323f70a0f242f3": {
          "model_module": "@jupyter-widgets/controls",
          "model_name": "HTMLModel",
          "model_module_version": "1.5.0",
          "state": {
            "_dom_classes": [],
            "_model_module": "@jupyter-widgets/controls",
            "_model_module_version": "1.5.0",
            "_model_name": "HTMLModel",
            "_view_count": null,
            "_view_module": "@jupyter-widgets/controls",
            "_view_module_version": "1.5.0",
            "_view_name": "HTMLView",
            "description": "",
            "description_tooltip": null,
            "layout": "IPY_MODEL_def23eebf7044f19a0b812a9866db433",
            "placeholder": "​",
            "style": "IPY_MODEL_928003508c2c45bb8f04dc8fd571a1ef",
            "value": ""
          }
        },
        "f2230f80685d407f87200723bf20e859": {
          "model_module": "@jupyter-widgets/controls",
          "model_name": "FloatProgressModel",
          "model_module_version": "1.5.0",
          "state": {
            "_dom_classes": [],
            "_model_module": "@jupyter-widgets/controls",
            "_model_module_version": "1.5.0",
            "_model_name": "FloatProgressModel",
            "_view_count": null,
            "_view_module": "@jupyter-widgets/controls",
            "_view_module_version": "1.5.0",
            "_view_name": "ProgressView",
            "bar_style": "success",
            "description": "",
            "description_tooltip": null,
            "layout": "IPY_MODEL_77f6fceac40b4b2b84774f1beee83e2d",
            "max": 4542,
            "min": 0,
            "orientation": "horizontal",
            "style": "IPY_MODEL_1b240123823e441da47998fd93c9aae6",
            "value": 4542
          }
        },
        "4cad76b9fafa4565a335767948ba6a5b": {
          "model_module": "@jupyter-widgets/controls",
          "model_name": "HTMLModel",
          "model_module_version": "1.5.0",
          "state": {
            "_dom_classes": [],
            "_model_module": "@jupyter-widgets/controls",
            "_model_module_version": "1.5.0",
            "_model_name": "HTMLModel",
            "_view_count": null,
            "_view_module": "@jupyter-widgets/controls",
            "_view_module_version": "1.5.0",
            "_view_name": "HTMLView",
            "description": "",
            "description_tooltip": null,
            "layout": "IPY_MODEL_7222ed05bf504777a4ba8a5be62df90e",
            "placeholder": "​",
            "style": "IPY_MODEL_43b6b33d64d94d53ac8a787b17b1f412",
            "value": " 5120/? [00:00&lt;00:00, 57864.16it/s]"
          }
        },
        "b268b4d9f1804c4ea7c8196a0339d1d5": {
          "model_module": "@jupyter-widgets/base",
          "model_name": "LayoutModel",
          "model_module_version": "1.2.0",
          "state": {
            "_model_module": "@jupyter-widgets/base",
            "_model_module_version": "1.2.0",
            "_model_name": "LayoutModel",
            "_view_count": null,
            "_view_module": "@jupyter-widgets/base",
            "_view_module_version": "1.2.0",
            "_view_name": "LayoutView",
            "align_content": null,
            "align_items": null,
            "align_self": null,
            "border": null,
            "bottom": null,
            "display": null,
            "flex": null,
            "flex_flow": null,
            "grid_area": null,
            "grid_auto_columns": null,
            "grid_auto_flow": null,
            "grid_auto_rows": null,
            "grid_column": null,
            "grid_gap": null,
            "grid_row": null,
            "grid_template_areas": null,
            "grid_template_columns": null,
            "grid_template_rows": null,
            "height": null,
            "justify_content": null,
            "justify_items": null,
            "left": null,
            "margin": null,
            "max_height": null,
            "max_width": null,
            "min_height": null,
            "min_width": null,
            "object_fit": null,
            "object_position": null,
            "order": null,
            "overflow": null,
            "overflow_x": null,
            "overflow_y": null,
            "padding": null,
            "right": null,
            "top": null,
            "visibility": null,
            "width": null
          }
        },
        "def23eebf7044f19a0b812a9866db433": {
          "model_module": "@jupyter-widgets/base",
          "model_name": "LayoutModel",
          "model_module_version": "1.2.0",
          "state": {
            "_model_module": "@jupyter-widgets/base",
            "_model_module_version": "1.2.0",
            "_model_name": "LayoutModel",
            "_view_count": null,
            "_view_module": "@jupyter-widgets/base",
            "_view_module_version": "1.2.0",
            "_view_name": "LayoutView",
            "align_content": null,
            "align_items": null,
            "align_self": null,
            "border": null,
            "bottom": null,
            "display": null,
            "flex": null,
            "flex_flow": null,
            "grid_area": null,
            "grid_auto_columns": null,
            "grid_auto_flow": null,
            "grid_auto_rows": null,
            "grid_column": null,
            "grid_gap": null,
            "grid_row": null,
            "grid_template_areas": null,
            "grid_template_columns": null,
            "grid_template_rows": null,
            "height": null,
            "justify_content": null,
            "justify_items": null,
            "left": null,
            "margin": null,
            "max_height": null,
            "max_width": null,
            "min_height": null,
            "min_width": null,
            "object_fit": null,
            "object_position": null,
            "order": null,
            "overflow": null,
            "overflow_x": null,
            "overflow_y": null,
            "padding": null,
            "right": null,
            "top": null,
            "visibility": null,
            "width": null
          }
        },
        "928003508c2c45bb8f04dc8fd571a1ef": {
          "model_module": "@jupyter-widgets/controls",
          "model_name": "DescriptionStyleModel",
          "model_module_version": "1.5.0",
          "state": {
            "_model_module": "@jupyter-widgets/controls",
            "_model_module_version": "1.5.0",
            "_model_name": "DescriptionStyleModel",
            "_view_count": null,
            "_view_module": "@jupyter-widgets/base",
            "_view_module_version": "1.2.0",
            "_view_name": "StyleView",
            "description_width": ""
          }
        },
        "77f6fceac40b4b2b84774f1beee83e2d": {
          "model_module": "@jupyter-widgets/base",
          "model_name": "LayoutModel",
          "model_module_version": "1.2.0",
          "state": {
            "_model_module": "@jupyter-widgets/base",
            "_model_module_version": "1.2.0",
            "_model_name": "LayoutModel",
            "_view_count": null,
            "_view_module": "@jupyter-widgets/base",
            "_view_module_version": "1.2.0",
            "_view_name": "LayoutView",
            "align_content": null,
            "align_items": null,
            "align_self": null,
            "border": null,
            "bottom": null,
            "display": null,
            "flex": null,
            "flex_flow": null,
            "grid_area": null,
            "grid_auto_columns": null,
            "grid_auto_flow": null,
            "grid_auto_rows": null,
            "grid_column": null,
            "grid_gap": null,
            "grid_row": null,
            "grid_template_areas": null,
            "grid_template_columns": null,
            "grid_template_rows": null,
            "height": null,
            "justify_content": null,
            "justify_items": null,
            "left": null,
            "margin": null,
            "max_height": null,
            "max_width": null,
            "min_height": null,
            "min_width": null,
            "object_fit": null,
            "object_position": null,
            "order": null,
            "overflow": null,
            "overflow_x": null,
            "overflow_y": null,
            "padding": null,
            "right": null,
            "top": null,
            "visibility": null,
            "width": null
          }
        },
        "1b240123823e441da47998fd93c9aae6": {
          "model_module": "@jupyter-widgets/controls",
          "model_name": "ProgressStyleModel",
          "model_module_version": "1.5.0",
          "state": {
            "_model_module": "@jupyter-widgets/controls",
            "_model_module_version": "1.5.0",
            "_model_name": "ProgressStyleModel",
            "_view_count": null,
            "_view_module": "@jupyter-widgets/base",
            "_view_module_version": "1.2.0",
            "_view_name": "StyleView",
            "bar_color": null,
            "description_width": ""
          }
        },
        "7222ed05bf504777a4ba8a5be62df90e": {
          "model_module": "@jupyter-widgets/base",
          "model_name": "LayoutModel",
          "model_module_version": "1.2.0",
          "state": {
            "_model_module": "@jupyter-widgets/base",
            "_model_module_version": "1.2.0",
            "_model_name": "LayoutModel",
            "_view_count": null,
            "_view_module": "@jupyter-widgets/base",
            "_view_module_version": "1.2.0",
            "_view_name": "LayoutView",
            "align_content": null,
            "align_items": null,
            "align_self": null,
            "border": null,
            "bottom": null,
            "display": null,
            "flex": null,
            "flex_flow": null,
            "grid_area": null,
            "grid_auto_columns": null,
            "grid_auto_flow": null,
            "grid_auto_rows": null,
            "grid_column": null,
            "grid_gap": null,
            "grid_row": null,
            "grid_template_areas": null,
            "grid_template_columns": null,
            "grid_template_rows": null,
            "height": null,
            "justify_content": null,
            "justify_items": null,
            "left": null,
            "margin": null,
            "max_height": null,
            "max_width": null,
            "min_height": null,
            "min_width": null,
            "object_fit": null,
            "object_position": null,
            "order": null,
            "overflow": null,
            "overflow_x": null,
            "overflow_y": null,
            "padding": null,
            "right": null,
            "top": null,
            "visibility": null,
            "width": null
          }
        },
        "43b6b33d64d94d53ac8a787b17b1f412": {
          "model_module": "@jupyter-widgets/controls",
          "model_name": "DescriptionStyleModel",
          "model_module_version": "1.5.0",
          "state": {
            "_model_module": "@jupyter-widgets/controls",
            "_model_module_version": "1.5.0",
            "_model_name": "DescriptionStyleModel",
            "_view_count": null,
            "_view_module": "@jupyter-widgets/base",
            "_view_module_version": "1.2.0",
            "_view_name": "StyleView",
            "description_width": ""
          }
        }
      }
    }
  },
  "cells": [
    {
      "cell_type": "markdown",
      "metadata": {
        "id": "nDkE0N2TpAUr"
      },
      "source": [
        "# Lab 4-2. MLP MNIST classification\n",
        "\n",
        "### 이번 실습은 Multi-layer perceptron 모델을 만들고 이를 이용해 MNIST dataset으로 classification을 진행해 봅니다.\n",
        "\n",
        "### MNIST는 가장 유명한 머신러닝과 딥러닝 데이터 중 하나로 0~9 까지의 숫자 손글씨 데이터입니다.\n",
        "\n",
        "### 10개의 class, 총 60000개의 data sample이 있으며 28 * 28 size의 이미지 데이터로, 우리는 MLP에 사용하기 위해 784 size의 벡터로 사용합니다.\n",
        "\n",
        "### Pytorch tutorial 실습에서 보신 FashionMNIST는 MNIST와 같은 형태를 가진 옷  dataset이며 마찬가지로 torchvision에서 다운받아 사용이 가능합니다.\n",
        "\n",
        "### torchvision에서 dataset을 얻어 dataloader를 만들고, 학습을 위한 반복문을 만들어 MLP를 사용해 보겠습니다.\n",
        "\n",
        "### 또한 이론 수업에서는 아직 진행하지 않았지만 간단한 알고리즘을 이용해 모델을 학습까지 시켜보겠습니다.\n",
        "\n",
        "### 이번 실습에서 사용할 패키지들은 다음과 같습니다.\n",
        "\n",
        "- os\n",
        "- numpy\n",
        "- pytorch\n",
        "- torchvision\n",
        "- matplotlib\n"
      ]
    },
    {
      "cell_type": "markdown",
      "metadata": {
        "id": "PkLvy-hKG-VA"
      },
      "source": [
        "### Drive mount and package import"
      ]
    },
    {
      "cell_type": "code",
      "metadata": {
        "id": "cvn9npi_INSi",
        "colab": {
          "base_uri": "https://localhost:8080/"
        },
        "outputId": "a5a37b03-c9d4-4b5a-c7de-d4ad227f27b9"
      },
      "source": [
        "from google.colab import drive\n",
        "drive.mount('/content/drive')"
      ],
      "execution_count": null,
      "outputs": [
        {
          "output_type": "stream",
          "name": "stdout",
          "text": [
            "Mounted at /content/drive\n"
          ]
        }
      ]
    },
    {
      "cell_type": "code",
      "metadata": {
        "id": "hADtuqTop7Wz"
      },
      "source": [
        "import os\n",
        "\n",
        "import torch\n",
        "from torch import nn\n",
        "from torch.utils.data import DataLoader\n",
        "\n",
        "from torchvision import datasets, transforms\n",
        "\n",
        "import matplotlib.pyplot as plt"
      ],
      "execution_count": null,
      "outputs": []
    },
    {
      "cell_type": "code",
      "metadata": {
        "id": "YWWDD1QdMJzJ",
        "colab": {
          "base_uri": "https://localhost:8080/",
          "height": 35
        },
        "outputId": "cc61a2f2-584e-4508-e518-97719cb9a33d"
      },
      "source": [
        "device = \"cuda\" if torch.cuda.is_available() else \"cpu\"\n",
        "device"
      ],
      "execution_count": null,
      "outputs": [
        {
          "output_type": "execute_result",
          "data": {
            "text/plain": [
              "'cpu'"
            ],
            "application/vnd.google.colaboratory.intrinsic+json": {
              "type": "string"
            }
          },
          "metadata": {},
          "execution_count": 3
        }
      ]
    },
    {
      "cell_type": "markdown",
      "metadata": {
        "id": "EonayabqHhol"
      },
      "source": [
        "## 4-2-1. Data Prepare"
      ]
    },
    {
      "cell_type": "code",
      "metadata": {
        "id": "Zk4BB-m_p7Kq",
        "colab": {
          "base_uri": "https://localhost:8080/",
          "height": 35
        },
        "outputId": "7b4e0b72-f92c-460f-fcb9-151a0f27094d"
      },
      "source": [
        "root = os.path.join(os.getcwd(), \"drive\", \"MyDrive\", \"Colab Notebooks\", \"data\")\n",
        "root"
      ],
      "execution_count": null,
      "outputs": [
        {
          "output_type": "execute_result",
          "data": {
            "text/plain": [
              "'/content/drive/MyDrive/Colab Notebooks/data'"
            ],
            "application/vnd.google.colaboratory.intrinsic+json": {
              "type": "string"
            }
          },
          "metadata": {},
          "execution_count": 4
        }
      ]
    },
    {
      "cell_type": "code",
      "metadata": {
        "id": "XJtAyBYNp6i9",
        "colab": {
          "base_uri": "https://localhost:8080/",
          "height": 455,
          "referenced_widgets": [
            "fc09846148d3497f9024818bf02a0202",
            "af72cf67fc79425b9b472f45ba67fe68",
            "87795be3e0fd440dad5bfd470eb265e7",
            "3561acb8b470484690d41695e57f2a67",
            "f53e9908685147949e37c2a5fe69e59b",
            "564050997e6144b3b8ac499559702600",
            "8cbc43fbe3e9490c9a6cb21bde1de1f2",
            "7c19addcbd43483d9fca69faafc5d331",
            "0a0759770d774081914bca2be1a253ed",
            "4fd5feee8a89456baa3b5f0c794cafc7",
            "41efb5b2f0e9481cafd98b2e4fa4679a",
            "e05ab6aa52ae4a56b7dc9305c0fc9024",
            "a080aecb88934db5ae305d996c0e1bbb",
            "40f302cbd767443f85d7ff95ecd85024",
            "4e8d6a054c90434d884c4659a518e333",
            "e28c5da5b9ea4647a7cf9d5292004be0",
            "41bae2e69388464d808a9798c5437a9d",
            "4f92ef305d5d4de2ae910b363a99411e",
            "daefab12fd18411397d70ef03d0a1e09",
            "3959bc7cefdc403091f65cc6334e67a5",
            "788d2db5eac4411ea7003610946903d5",
            "6bb60301849945feaecfc52eaf28ff9d",
            "9537106823fb4b14913420f1949ea87a",
            "c8f48fe3987646b5a2d449a890adfa4f",
            "7d1d1bb8dca74cd984726a1d9aa289a9",
            "1f5b43f100c443f3b5d2322190e67451",
            "e53283bc316945919257b5f1138cce16",
            "ab0806cfe4f24c7b89e80fdafac887fc",
            "1b91dac56c0c435e8ec41c688fcd66a1",
            "ba034d52a73d4f55b78e2ceab7bcaed7",
            "603b62b457c940189b2feec9fa9cbad7",
            "a9e05b7e537e4438b9e3bdbf209a9f26",
            "21bc1c0cc1814f0ca946dc0f5a104d31",
            "eb5b430cbd734d3ca27af5ad039a4eeb",
            "e45496cc8d83434b94323f70a0f242f3",
            "f2230f80685d407f87200723bf20e859",
            "4cad76b9fafa4565a335767948ba6a5b",
            "b268b4d9f1804c4ea7c8196a0339d1d5",
            "def23eebf7044f19a0b812a9866db433",
            "928003508c2c45bb8f04dc8fd571a1ef",
            "77f6fceac40b4b2b84774f1beee83e2d",
            "1b240123823e441da47998fd93c9aae6",
            "7222ed05bf504777a4ba8a5be62df90e",
            "43b6b33d64d94d53ac8a787b17b1f412"
          ]
        },
        "outputId": "e06f5705-941d-4cc0-bafd-e5631a48856a"
      },
      "source": [
        "mnist_train = datasets.MNIST(\n",
        "    root=root, \n",
        "    train=True, \n",
        "    download=True, \n",
        "    transform=transforms.ToTensor()\n",
        "    # 원핫 인코딩을 통해서 1과 8사이의 의미적 차이가 없어짐\n",
        "    # 만약 하지 않는다면 1과 8은 7이라는 차이가 생겨버릴것임\n",
        ") #, target_transform=transforms.Lambda(lambda y: torch.zeros(10, dtype=torch.float).scatter_(0, torch.tensor(y), value=1)))\n",
        "mnist_test = datasets.MNIST(\n",
        "    root=root, \n",
        "    train=False, \n",
        "    download=True, \n",
        "    transform=transforms.ToTensor()\n",
        ") #, target_transform=transforms.Lambda(lambda y: torch.zeros(10, dtype=torch.float).scatter_(0, torch.tensor(y), value=1)))"
      ],
      "execution_count": null,
      "outputs": [
        {
          "output_type": "stream",
          "name": "stdout",
          "text": [
            "Downloading http://yann.lecun.com/exdb/mnist/train-images-idx3-ubyte.gz\n",
            "Downloading http://yann.lecun.com/exdb/mnist/train-images-idx3-ubyte.gz to /content/drive/MyDrive/Colab Notebooks/data/MNIST/raw/train-images-idx3-ubyte.gz\n"
          ]
        },
        {
          "output_type": "display_data",
          "data": {
            "text/plain": [
              "  0%|          | 0/9912422 [00:00<?, ?it/s]"
            ],
            "application/vnd.jupyter.widget-view+json": {
              "version_major": 2,
              "version_minor": 0,
              "model_id": "fc09846148d3497f9024818bf02a0202"
            }
          },
          "metadata": {}
        },
        {
          "output_type": "stream",
          "name": "stdout",
          "text": [
            "Extracting /content/drive/MyDrive/Colab Notebooks/data/MNIST/raw/train-images-idx3-ubyte.gz to /content/drive/MyDrive/Colab Notebooks/data/MNIST/raw\n",
            "\n",
            "Downloading http://yann.lecun.com/exdb/mnist/train-labels-idx1-ubyte.gz\n",
            "Downloading http://yann.lecun.com/exdb/mnist/train-labels-idx1-ubyte.gz to /content/drive/MyDrive/Colab Notebooks/data/MNIST/raw/train-labels-idx1-ubyte.gz\n"
          ]
        },
        {
          "output_type": "display_data",
          "data": {
            "text/plain": [
              "  0%|          | 0/28881 [00:00<?, ?it/s]"
            ],
            "application/vnd.jupyter.widget-view+json": {
              "version_major": 2,
              "version_minor": 0,
              "model_id": "e05ab6aa52ae4a56b7dc9305c0fc9024"
            }
          },
          "metadata": {}
        },
        {
          "output_type": "stream",
          "name": "stdout",
          "text": [
            "Extracting /content/drive/MyDrive/Colab Notebooks/data/MNIST/raw/train-labels-idx1-ubyte.gz to /content/drive/MyDrive/Colab Notebooks/data/MNIST/raw\n",
            "\n",
            "Downloading http://yann.lecun.com/exdb/mnist/t10k-images-idx3-ubyte.gz\n",
            "Downloading http://yann.lecun.com/exdb/mnist/t10k-images-idx3-ubyte.gz to /content/drive/MyDrive/Colab Notebooks/data/MNIST/raw/t10k-images-idx3-ubyte.gz\n"
          ]
        },
        {
          "output_type": "display_data",
          "data": {
            "text/plain": [
              "  0%|          | 0/1648877 [00:00<?, ?it/s]"
            ],
            "application/vnd.jupyter.widget-view+json": {
              "version_major": 2,
              "version_minor": 0,
              "model_id": "9537106823fb4b14913420f1949ea87a"
            }
          },
          "metadata": {}
        },
        {
          "output_type": "stream",
          "name": "stdout",
          "text": [
            "Extracting /content/drive/MyDrive/Colab Notebooks/data/MNIST/raw/t10k-images-idx3-ubyte.gz to /content/drive/MyDrive/Colab Notebooks/data/MNIST/raw\n",
            "\n",
            "Downloading http://yann.lecun.com/exdb/mnist/t10k-labels-idx1-ubyte.gz\n",
            "Downloading http://yann.lecun.com/exdb/mnist/t10k-labels-idx1-ubyte.gz to /content/drive/MyDrive/Colab Notebooks/data/MNIST/raw/t10k-labels-idx1-ubyte.gz\n"
          ]
        },
        {
          "output_type": "display_data",
          "data": {
            "text/plain": [
              "  0%|          | 0/4542 [00:00<?, ?it/s]"
            ],
            "application/vnd.jupyter.widget-view+json": {
              "version_major": 2,
              "version_minor": 0,
              "model_id": "eb5b430cbd734d3ca27af5ad039a4eeb"
            }
          },
          "metadata": {}
        },
        {
          "output_type": "stream",
          "name": "stdout",
          "text": [
            "Extracting /content/drive/MyDrive/Colab Notebooks/data/MNIST/raw/t10k-labels-idx1-ubyte.gz to /content/drive/MyDrive/Colab Notebooks/data/MNIST/raw\n",
            "\n"
          ]
        }
      ]
    },
    {
      "cell_type": "code",
      "metadata": {
        "id": "jCSF0v35p6Wl",
        "colab": {
          "base_uri": "https://localhost:8080/"
        },
        "outputId": "941884b1-4d3a-499e-edd3-3488cad79920"
      },
      "source": [
        "mnist_train"
      ],
      "execution_count": null,
      "outputs": [
        {
          "output_type": "execute_result",
          "data": {
            "text/plain": [
              "Dataset MNIST\n",
              "    Number of datapoints: 60000\n",
              "    Root location: /content/drive/MyDrive/Colab Notebooks/data\n",
              "    Split: Train\n",
              "    StandardTransform\n",
              "Transform: ToTensor()"
            ]
          },
          "metadata": {},
          "execution_count": 6
        }
      ]
    },
    {
      "cell_type": "code",
      "metadata": {
        "id": "mmOYoD2fc0MS",
        "colab": {
          "base_uri": "https://localhost:8080/"
        },
        "outputId": "058d997d-10df-4adc-8d62-1daf2c9a2f43"
      },
      "source": [
        "sample_x, sample_y = mnist_train[0]\n",
        "print(sample_x.shape)\n",
        "print(sample_y)"
      ],
      "execution_count": null,
      "outputs": [
        {
          "output_type": "stream",
          "name": "stdout",
          "text": [
            "torch.Size([1, 28, 28])\n",
            "5\n"
          ]
        }
      ]
    },
    {
      "cell_type": "code",
      "metadata": {
        "id": "MsiOzufVJ6_y",
        "colab": {
          "base_uri": "https://localhost:8080/",
          "height": 593
        },
        "outputId": "dd5d664b-b573-4ccd-af4c-57c4e0d23cf2"
      },
      "source": [
        "fig = plt.figure(figsize=(10, 10))\n",
        "for i in range(9):\n",
        "  img = mnist_train[i][0]\n",
        "  ax = fig.add_subplot(3, 3, i+1)\n",
        "  ax.imshow(img.reshape(28, 28), cmap=\"gray\")\n",
        "fig.show()"
      ],
      "execution_count": null,
      "outputs": [
        {
          "output_type": "display_data",
          "data": {
            "text/plain": [
              "<Figure size 720x720 with 9 Axes>"
            ],
            "image/png": "[encoded data removed]"
          },
          "metadata": {
            "needs_background": "light"
          }
        }
      ]
    },
    {
      "cell_type": "code",
      "metadata": {
        "id": "czspxicTp6IA"
      },
      "source": [
        "# 여러개의 batch중 몇개의 batch가 남을텐데 남은 batch로 오류가 날수 있기에 drop_last를 해줌\n",
        "train_loader = DataLoader(dataset=mnist_train, batch_size=64, shuffle=True, drop_last=True)\n",
        "test_loader = DataLoader(dataset=mnist_test, batch_size=64, shuffle=False, drop_last=True)"
      ],
      "execution_count": null,
      "outputs": []
    },
    {
      "cell_type": "markdown",
      "metadata": {
        "id": "A4qMC50XLLaH"
      },
      "source": [
        "## 4-2-2. Model Build\n"
      ]
    },
    {
      "cell_type": "code",
      "metadata": {
        "id": "JI7blZHLp52P"
      },
      "source": [
        "class LionMNISTClassifier(nn.Module):\n",
        "  def __init__(self):\n",
        "    super().__init__()\n",
        "\n",
        "    self.model = nn.Sequential(\n",
        "        nn.Flatten(),\n",
        "        nn.Linear(28 * 28, 512),\n",
        "        nn.ReLU(),\n",
        "        nn.Linear(512, 512),\n",
        "        nn.ReLU(),\n",
        "        nn.Linear(512, 10),\n",
        "    )\n",
        "\n",
        "  def forward(self, x):\n",
        "    return self.model(x)"
      ],
      "execution_count": null,
      "outputs": []
    },
    {
      "cell_type": "code",
      "metadata": {
        "id": "90jMNeHDp5WH",
        "colab": {
          "base_uri": "https://localhost:8080/"
        },
        "outputId": "e1ba2b9e-a598-4d6d-c500-3fa01868eaea"
      },
      "source": [
        "mlp = LionMNISTClassifier().to(device)\n",
        "mlp"
      ],
      "execution_count": null,
      "outputs": [
        {
          "output_type": "execute_result",
          "data": {
            "text/plain": [
              "LionMNISTClassifier(\n",
              "  (model): Sequential(\n",
              "    (0): Flatten(start_dim=1, end_dim=-1)\n",
              "    (1): Linear(in_features=784, out_features=512, bias=True)\n",
              "    (2): ReLU()\n",
              "    (3): Linear(in_features=512, out_features=512, bias=True)\n",
              "    (4): ReLU()\n",
              "    (5): Linear(in_features=512, out_features=10, bias=True)\n",
              "  )\n",
              ")"
            ]
          },
          "metadata": {},
          "execution_count": 13
        }
      ]
    },
    {
      "cell_type": "code",
      "metadata": {
        "id": "1NUc8KHlMedZ"
      },
      "source": [
        "#nn.CrossEntropyLoss() 에 소프트 맥스 포함\n",
        "loss_fn = nn.CrossEntropyLoss()"
      ],
      "execution_count": null,
      "outputs": []
    },
    {
      "cell_type": "code",
      "metadata": {
        "id": "zMxNJh4VpKaY",
        "colab": {
          "base_uri": "https://localhost:8080/"
        },
        "outputId": "2098e930-26b9-4131-8bbb-2014eec109d1"
      },
      "source": [
        "mlp.parameters()"
      ],
      "execution_count": null,
      "outputs": [
        {
          "output_type": "execute_result",
          "data": {
            "text/plain": [
              "<generator object Module.parameters at 0x7f7f7d611d50>"
            ]
          },
          "metadata": {},
          "execution_count": 18
        }
      ]
    },
    {
      "cell_type": "code",
      "metadata": {
        "id": "AfaFKp6vl91S"
      },
      "source": [
        "optim = torch.optim.SGD(mlp.parameters(), lr=0.001)"
      ],
      "execution_count": null,
      "outputs": []
    },
    {
      "cell_type": "markdown",
      "metadata": {
        "id": "8gFEN26KNHM3"
      },
      "source": [
        "## 4-2-3. Train"
      ]
    },
    {
      "cell_type": "code",
      "metadata": {
        "id": "N6UVUOyeNGR4"
      },
      "source": [
        "num_epochs = 20"
      ],
      "execution_count": null,
      "outputs": []
    },
    {
      "cell_type": "code",
      "metadata": {
        "id": "UXWZOXVGNanv",
        "colab": {
          "base_uri": "https://localhost:8080/"
        },
        "outputId": "98304a90-ac98-4b47-eaf1-e594cb63103e"
      },
      "source": [
        "train_history = {\"loss\": [], \"acc\": []}\n",
        "for e in range(num_epochs):\n",
        "  print(f\"Epoch: {e} start.\")\n",
        "  epoch_loss, epoch_acc = 0, 0\n",
        "  size = len(train_loader.dataset)\n",
        "  for b, (x, y) in enumerate(train_loader):\n",
        "    x.to(device)\n",
        "    y.to(device)\n",
        "\n",
        "    pred = mlp(x)\n",
        "    loss = loss_fn(pred, y)\n",
        "    # 이전 batch의 그래디언트 값 날리기!\n",
        "    optim.zero_grad()\n",
        "    loss.backward()\n",
        "    optim.step()\n",
        "\n",
        "    loss = loss.to(\"cpu\").item()\n",
        "    acc = (pred.argmax(1) == y).type(torch.float).to(\"cpu\").mean().item()\n",
        "\n",
        "    if b % 200 == 0:\n",
        "      print(f\"loss: {loss:>7f}, acc: {acc:>4f} [{b * len(x)}/{size}]\")\n",
        "\n",
        "    epoch_loss += loss\n",
        "    epoch_acc += acc\n",
        "\n",
        "  train_history[\"loss\"].append(epoch_loss / len(train_loader))\n",
        "  train_history[\"acc\"].append(epoch_acc / len(train_loader))\n"
      ],
      "execution_count": null,
      "outputs": [
        {
          "output_type": "stream",
          "name": "stdout",
          "text": [
            "Epoch: 0 start.\n",
            "loss: 2.302416, acc: 0.125000 [0/60000]\n",
            "loss: 2.291595, acc: 0.140625 [12800/60000]\n",
            "loss: 2.283737, acc: 0.156250 [25600/60000]\n",
            "loss: 2.279562, acc: 0.125000 [38400/60000]\n",
            "loss: 2.267592, acc: 0.312500 [51200/60000]\n",
            "Epoch: 1 start.\n",
            "loss: 2.252550, acc: 0.546875 [0/60000]\n",
            "loss: 2.245447, acc: 0.500000 [12800/60000]\n",
            "loss: 2.244198, acc: 0.500000 [25600/60000]\n",
            "loss: 2.221585, acc: 0.640625 [38400/60000]\n",
            "loss: 2.206742, acc: 0.625000 [51200/60000]\n",
            "Epoch: 2 start.\n",
            "loss: 2.190384, acc: 0.625000 [0/60000]\n",
            "loss: 2.180185, acc: 0.718750 [12800/60000]\n",
            "loss: 2.180788, acc: 0.625000 [25600/60000]\n",
            "loss: 2.135890, acc: 0.656250 [38400/60000]\n",
            "loss: 2.076876, acc: 0.750000 [51200/60000]\n",
            "Epoch: 3 start.\n",
            "loss: 2.047582, acc: 0.703125 [0/60000]\n",
            "loss: 2.082144, acc: 0.671875 [12800/60000]\n",
            "loss: 2.029853, acc: 0.687500 [25600/60000]\n",
            "loss: 1.893045, acc: 0.750000 [38400/60000]\n",
            "loss: 1.942748, acc: 0.640625 [51200/60000]\n",
            "Epoch: 4 start.\n",
            "loss: 1.798686, acc: 0.750000 [0/60000]\n",
            "loss: 1.918615, acc: 0.656250 [12800/60000]\n",
            "loss: 1.784468, acc: 0.734375 [25600/60000]\n",
            "loss: 1.675851, acc: 0.671875 [38400/60000]\n",
            "loss: 1.695523, acc: 0.671875 [51200/60000]\n",
            "Epoch: 5 start.\n",
            "loss: 1.635226, acc: 0.703125 [0/60000]\n",
            "loss: 1.532397, acc: 0.796875 [12800/60000]\n",
            "loss: 1.596640, acc: 0.671875 [25600/60000]\n",
            "loss: 1.318466, acc: 0.750000 [38400/60000]\n",
            "loss: 1.349954, acc: 0.734375 [51200/60000]\n",
            "Epoch: 6 start.\n",
            "loss: 1.316864, acc: 0.734375 [0/60000]\n",
            "loss: 1.204976, acc: 0.843750 [12800/60000]\n",
            "loss: 1.222289, acc: 0.703125 [25600/60000]\n",
            "loss: 1.012764, acc: 0.875000 [38400/60000]\n",
            "loss: 1.213760, acc: 0.687500 [51200/60000]\n",
            "Epoch: 7 start.\n",
            "loss: 1.029108, acc: 0.843750 [0/60000]\n",
            "loss: 0.961640, acc: 0.765625 [12800/60000]\n",
            "loss: 0.931621, acc: 0.828125 [25600/60000]\n",
            "loss: 0.974382, acc: 0.812500 [38400/60000]\n",
            "loss: 0.887311, acc: 0.828125 [51200/60000]\n",
            "Epoch: 8 start.\n",
            "loss: 0.808146, acc: 0.843750 [0/60000]\n",
            "loss: 0.922722, acc: 0.781250 [12800/60000]\n",
            "loss: 0.744641, acc: 0.812500 [25600/60000]\n",
            "loss: 0.736865, acc: 0.875000 [38400/60000]\n",
            "loss: 0.645912, acc: 0.921875 [51200/60000]\n",
            "Epoch: 9 start.\n",
            "loss: 0.886467, acc: 0.703125 [0/60000]\n",
            "loss: 0.648187, acc: 0.843750 [12800/60000]\n",
            "loss: 0.696283, acc: 0.843750 [25600/60000]\n",
            "loss: 0.661121, acc: 0.859375 [38400/60000]\n",
            "loss: 0.652100, acc: 0.875000 [51200/60000]\n",
            "Epoch: 10 start.\n",
            "loss: 0.672639, acc: 0.843750 [0/60000]\n",
            "loss: 0.811539, acc: 0.765625 [12800/60000]\n",
            "loss: 0.800163, acc: 0.750000 [25600/60000]\n",
            "loss: 0.640467, acc: 0.781250 [38400/60000]\n",
            "loss: 0.554269, acc: 0.875000 [51200/60000]\n",
            "Epoch: 11 start.\n",
            "loss: 0.651241, acc: 0.812500 [0/60000]\n",
            "loss: 0.881199, acc: 0.734375 [12800/60000]\n",
            "loss: 0.570230, acc: 0.937500 [25600/60000]\n",
            "loss: 0.474131, acc: 0.875000 [38400/60000]\n",
            "loss: 0.544045, acc: 0.859375 [51200/60000]\n",
            "Epoch: 12 start.\n",
            "loss: 0.564243, acc: 0.843750 [0/60000]\n",
            "loss: 0.453440, acc: 0.921875 [12800/60000]\n",
            "loss: 0.514206, acc: 0.859375 [25600/60000]\n",
            "loss: 0.669838, acc: 0.765625 [38400/60000]\n",
            "loss: 0.578267, acc: 0.781250 [51200/60000]\n",
            "Epoch: 13 start.\n",
            "loss: 0.564353, acc: 0.875000 [0/60000]\n",
            "loss: 0.571101, acc: 0.843750 [12800/60000]\n",
            "loss: 0.417859, acc: 0.890625 [25600/60000]\n",
            "loss: 0.638141, acc: 0.875000 [38400/60000]\n",
            "loss: 0.414319, acc: 0.890625 [51200/60000]\n",
            "Epoch: 14 start.\n",
            "loss: 0.481597, acc: 0.890625 [0/60000]\n",
            "loss: 0.562228, acc: 0.843750 [12800/60000]\n",
            "loss: 0.615763, acc: 0.859375 [25600/60000]\n",
            "loss: 0.331233, acc: 0.921875 [38400/60000]\n",
            "loss: 0.466496, acc: 0.859375 [51200/60000]\n",
            "Epoch: 15 start.\n",
            "loss: 0.351413, acc: 0.953125 [0/60000]\n",
            "loss: 0.563043, acc: 0.812500 [12800/60000]\n",
            "loss: 0.336168, acc: 0.937500 [25600/60000]\n",
            "loss: 0.542651, acc: 0.890625 [38400/60000]\n",
            "loss: 0.562895, acc: 0.828125 [51200/60000]\n",
            "Epoch: 16 start.\n",
            "loss: 0.476108, acc: 0.875000 [0/60000]\n",
            "loss: 0.519238, acc: 0.875000 [12800/60000]\n",
            "loss: 0.445634, acc: 0.875000 [25600/60000]\n",
            "loss: 0.360148, acc: 0.921875 [38400/60000]\n",
            "loss: 0.395349, acc: 0.890625 [51200/60000]\n",
            "Epoch: 17 start.\n",
            "loss: 0.310568, acc: 0.953125 [0/60000]\n",
            "loss: 0.384825, acc: 0.906250 [12800/60000]\n",
            "loss: 0.336510, acc: 0.937500 [25600/60000]\n",
            "loss: 0.432594, acc: 0.859375 [38400/60000]\n",
            "loss: 0.512296, acc: 0.875000 [51200/60000]\n",
            "Epoch: 18 start.\n",
            "loss: 0.462091, acc: 0.875000 [0/60000]\n",
            "loss: 0.438459, acc: 0.875000 [12800/60000]\n",
            "loss: 0.335323, acc: 0.906250 [25600/60000]\n",
            "loss: 0.393256, acc: 0.890625 [38400/60000]\n",
            "loss: 0.621044, acc: 0.765625 [51200/60000]\n",
            "Epoch: 19 start.\n",
            "loss: 0.549106, acc: 0.828125 [0/60000]\n",
            "loss: 0.490423, acc: 0.890625 [12800/60000]\n",
            "loss: 0.540968, acc: 0.843750 [25600/60000]\n",
            "loss: 0.500349, acc: 0.859375 [38400/60000]\n",
            "loss: 0.413593, acc: 0.875000 [51200/60000]\n"
          ]
        }
      ]
    },
    {
      "cell_type": "code",
      "source": [
        ""
      ],
      "metadata": {
        "id": "QmmiLosKbF0G"
      },
      "execution_count": null,
      "outputs": []
    },
    {
      "cell_type": "code",
      "metadata": {
        "id": "QBpxd-ZFk7rg",
        "colab": {
          "base_uri": "https://localhost:8080/"
        },
        "outputId": "fc7f1947-f15e-49bb-aab0-bce34df6408d"
      },
      "source": [
        "print(f\"Loss history: {train_history['loss']}\")\n",
        "print(f\"Acc history: {train_history['acc']}\")"
      ],
      "execution_count": null,
      "outputs": [
        {
          "output_type": "stream",
          "name": "stdout",
          "text": [
            "Loss history: [2.2828226969870586, 2.2293715064782598, 2.1441094249391504, 1.9955982005456214, 1.7563672259115994, 1.4487040653554455, 1.1594934158798471, 0.9477400896134474, 0.8048332561296485, 0.7068034438466059, 0.6358990039171506, 0.5835917099690107, 0.5429606507974603, 0.51112054703457, 0.4853421945995557, 0.46409150574797625, 0.44647588366950713, 0.4315106520785084, 0.41857329092864165, 0.4073955834929691]\n",
            "Acc history: [0.19377001067235858, 0.5779582443970117, 0.690184765208111, 0.7079108858057631, 0.7280382870864461, 0.7436132604055496, 0.7710278815368197, 0.7995931163287087, 0.8188700640341515, 0.8332110458911419, 0.8449839914621131, 0.853721985058698, 0.8613260405549626, 0.8673959445037354, 0.8722818836712913, 0.8766842315901814, 0.880753068303095, 0.8834545090715048, 0.8860558964781217, 0.8888907417289221]\n"
          ]
        }
      ]
    },
    {
      "cell_type": "code",
      "metadata": {
        "id": "Zc70e8GOeir-",
        "colab": {
          "base_uri": "https://localhost:8080/",
          "height": 592
        },
        "outputId": "5bb67882-01a6-48fb-c50a-05ef18b386b8"
      },
      "source": [
        "fig = plt.figure(figsize=(10, 10))\n",
        "ax = fig.add_subplot(1, 1, 1)\n",
        "ax.plot(train_history[\"acc\"], color=\"red\", label=\"acc\")\n",
        "ax.plot(train_history[\"loss\"], color=\"blue\", label=\"loss\")\n",
        "fig.show()"
      ],
      "execution_count": null,
      "outputs": [
        {
          "output_type": "display_data",
          "data": {
            "text/plain": [
              "<Figure size 720x720 with 1 Axes>"
            ],
            "image/png": "[encoded data removed]"
          },
          "metadata": {
            "needs_background": "light"
          }
        }
      ]
    },
    {
      "cell_type": "markdown",
      "metadata": {
        "id": "GS70cJh_fNdd"
      },
      "source": [
        "## 4-2-4. Test"
      ]
    },
    {
      "cell_type": "code",
      "metadata": {
        "id": "-gtCfKQjfKlG",
        "colab": {
          "base_uri": "https://localhost:8080/"
        },
        "outputId": "fb2b6fc6-8ba4-4f88-afee-c2ce1c4aff4d"
      },
      "source": [
        "print(\"Test start.\")\n",
        "test_loss, test_acc = 0, 0\n",
        "size = len(test_loader.dataset)\n",
        "# 그래디언트 추적 x\n",
        "with torch.no_grad():\n",
        "  for b, (x, y) in enumerate(test_loader):\n",
        "    x.to(device)\n",
        "    y.to(device)\n",
        "\n",
        "    pred = mlp(x)\n",
        "    test_loss += loss_fn(pred, y).to(\"cpu\").item()\n",
        "    test_acc += (pred.argmax(1) == y).type(torch.float).to(\"cpu\").mean().item()\n",
        "\n",
        "  test_loss /= len(test_loader)\n",
        "  test_acc /= len(test_loader)\n",
        "\n",
        "print(f\"test loss: {test_loss:>7f}, test_acc: {test_acc:>4f}.\")"
      ],
      "execution_count": null,
      "outputs": [
        {
          "output_type": "stream",
          "name": "stdout",
          "text": [
            "Test start.\n",
            "test loss: 0.386942, test_acc: 0.894131.\n"
          ]
        }
      ]
    },
    {
      "cell_type": "code",
      "metadata": {
        "id": "i_t0H6yCgkVA"
      },
      "source": [
        ""
      ],
      "execution_count": null,
      "outputs": []
    }
  ]
}