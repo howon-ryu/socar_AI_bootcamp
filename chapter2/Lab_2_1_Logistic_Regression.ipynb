{
  "nbformat": 4,
  "nbformat_minor": 0,
  "metadata": {
    "celltoolbar": "Raw Cell Format",
    "kernelspec": {
      "display_name": "Python 3",
      "language": "python",
      "name": "python3"
    },
    "language_info": {
      "codemirror_mode": {
        "name": "ipython",
        "version": 3
      },
      "file_extension": ".py",
      "mimetype": "text/x-python",
      "name": "python",
      "nbconvert_exporter": "python",
      "pygments_lexer": "ipython3",
      "version": "3.6.8"
    },
    "colab": {
      "name": "Lab 2-1. Logistic Regression.ipynb",
      "provenance": [],
      "collapsed_sections": []
    }
  },
  "cells": [
    {
      "cell_type": "markdown",
      "metadata": {
        "id": "08Y0sxvtzmwJ"
      },
      "source": [
        "# Lab 2-1. Logistic Regression"
      ]
    },
    {
      "cell_type": "markdown",
      "metadata": {
        "id": "ToxF0Q2MyVkN"
      },
      "source": [
        "*   Regression: input data $x$를 output data $y$로 매핑하는 모델 $f$를 찾는것.\n",
        "\n",
        "*   Logistic Regression: 모델 $f$가 linear model의 output을 logistc function을 이용해서 0~1사이의 확률값을 예측함, 즉 $$f(\\textbf{x})=\\sigma(\\textbf{w}^T\\textbf{x}+b)=\\dfrac{1}{1+e^{-(\\textbf{w}^T\\textbf{x}+b)}}$$\n",
        "\n",
        "*   Loss function\n",
        "$$\\text{Loss}(\\textbf{w})=-\\dfrac{1}{N}\\sum y\\text{log}(f(\\textbf{x}))+(1-y)\\text{log}(1-f(\\textbf{x})) $$   \n",
        "\n",
        "*    Gradient Descent\n",
        "$$\\textbf{w}=\\textbf{w}-\\alpha \\dfrac{\\partial}{\\partial\\textbf{w}}\\text{Loss}(\\textbf{w})$$"
      ]
    },
    {
      "cell_type": "markdown",
      "metadata": {
        "id": "WvYZyVhs98ES"
      },
      "source": [
        "#### Import torch"
      ]
    },
    {
      "cell_type": "code",
      "metadata": {
        "id": "YBp9D4gr90CB"
      },
      "source": [
        "import torch\n",
        "import torch.nn as nn\n",
        "import torch.nn.functional as F\n",
        "import torch.optim as optim"
      ],
      "execution_count": null,
      "outputs": []
    },
    {
      "cell_type": "markdown",
      "metadata": {
        "id": "ni6o1ZL1-DZ4"
      },
      "source": [
        "### Logistic Regression with Toy Training Data"
      ]
    },
    {
      "cell_type": "code",
      "metadata": {
        "id": "0IZoKVr3-D24"
      },
      "source": [
        "x_data = [[1, 2], [2, 3], [3, 1], [4, 3], [5, 3], [6, 2]]\n",
        "y_data = [[0], [0], [0], [1], [1], [1]]"
      ],
      "execution_count": null,
      "outputs": []
    },
    {
      "cell_type": "code",
      "metadata": {
        "id": "qeLgb82n-JAQ"
      },
      "source": [
        "x_train = torch.FloatTensor(x_data)\n",
        "y_train = torch.FloatTensor(y_data)"
      ],
      "execution_count": null,
      "outputs": []
    },
    {
      "cell_type": "code",
      "metadata": {
        "id": "XeopVNkB-IzA",
        "colab": {
          "base_uri": "https://localhost:8080/"
        },
        "outputId": "de408087-64d1-4c22-cf26-d8e84faeae69"
      },
      "source": [
        "print(x_train.shape)\n",
        "print(y_train.shape)"
      ],
      "execution_count": null,
      "outputs": [
        {
          "output_type": "stream",
          "name": "stdout",
          "text": [
            "torch.Size([6, 2])\n",
            "torch.Size([6, 1])\n"
          ]
        }
      ]
    },
    {
      "cell_type": "markdown",
      "metadata": {
        "id": "Gd0KM7lV-YyL"
      },
      "source": [
        "#### Compute the Hypothesis\n",
        "$$f(\\textbf{x})=\\sigma(\\textbf{w}^T\\textbf{x}+b)=\\dfrac{1}{1+e^{-(\\textbf{w}^T\\textbf{x}+b)}}$$\n"
      ]
    },
    {
      "cell_type": "code",
      "metadata": {
        "id": "ifdpuDHp-2V2",
        "colab": {
          "base_uri": "https://localhost:8080/"
        },
        "outputId": "9eb13126-ede3-407b-beef-9d75fc2cce10"
      },
      "source": [
        "print('e^1 equals: ', torch.exp(torch.FloatTensor([1])))\n",
        "#e^1 정의"
      ],
      "execution_count": null,
      "outputs": [
        {
          "output_type": "stream",
          "name": "stdout",
          "text": [
            "e^1 equals:  tensor([2.7183])\n"
          ]
        }
      ]
    },
    {
      "cell_type": "code",
      "metadata": {
        "id": "ToO9Lga2-6Td"
      },
      "source": [
        "# requires_grad=True => 경사하감을 해야 하기에 true로 설정\n",
        "W = torch.zeros((2, 1), requires_grad=True)\n",
        "b = torch.zeros(1, requires_grad=True)"
      ],
      "execution_count": null,
      "outputs": []
    },
    {
      "cell_type": "code",
      "metadata": {
        "id": "MBYR28sX_JC5"
      },
      "source": [
        "# f(x) 구현\n",
        "hypothesis = 1 / (1 + torch.exp(-(x_train.matmul(W) + b)))"
      ],
      "execution_count": null,
      "outputs": []
    },
    {
      "cell_type": "code",
      "metadata": {
        "id": "CRg6qm9Q_JC5",
        "colab": {
          "base_uri": "https://localhost:8080/"
        },
        "outputId": "dfbeb377-17aa-4fd7-d6f9-01124aa73239"
      },
      "source": [
        "print(hypothesis)\n",
        "print(hypothesis.shape)"
      ],
      "execution_count": null,
      "outputs": [
        {
          "output_type": "stream",
          "name": "stdout",
          "text": [
            "tensor([[0.5000],\n",
            "        [0.5000],\n",
            "        [0.5000],\n",
            "        [0.5000],\n",
            "        [0.5000],\n",
            "        [0.5000]], grad_fn=<MulBackward0>)\n",
            "torch.Size([6, 1])\n"
          ]
        }
      ]
    },
    {
      "cell_type": "markdown",
      "metadata": {
        "id": "tXK0Hh6o_JC7"
      },
      "source": [
        "`torch.sigmoid()` 함수를 쓸 수도 있음\n"
      ]
    },
    {
      "cell_type": "code",
      "metadata": {
        "id": "LoIUrE3i_JC8",
        "colab": {
          "base_uri": "https://localhost:8080/"
        },
        "outputId": "c45980bd-7a5c-492c-bdba-d0175accd633"
      },
      "source": [
        "print('1/(1+e^{-1}) equals: ', torch.sigmoid(torch.FloatTensor([1])))"
      ],
      "execution_count": null,
      "outputs": [
        {
          "output_type": "stream",
          "name": "stdout",
          "text": [
            "1/(1+e^{-1}) equals:  tensor([0.7311])\n"
          ]
        }
      ]
    },
    {
      "cell_type": "code",
      "metadata": {
        "id": "DoAVAEWQ_JC8"
      },
      "source": [
        "# sigmoid 함수를 이용하여 x_train.matmul(W) + b 를 제외한 나머지는 함수가 계산!\n",
        "hypothesis = torch.sigmoid(x_train.matmul(W) + b)"
      ],
      "execution_count": null,
      "outputs": []
    },
    {
      "cell_type": "code",
      "metadata": {
        "id": "BTrUC-kM_JC8",
        "colab": {
          "base_uri": "https://localhost:8080/"
        },
        "outputId": "5d9954b5-56fa-4f38-946f-fd9975b8141c"
      },
      "source": [
        "print(hypothesis)\n",
        "print(hypothesis.shape)"
      ],
      "execution_count": null,
      "outputs": [
        {
          "output_type": "stream",
          "name": "stdout",
          "text": [
            "tensor([[0.5000],\n",
            "        [0.5000],\n",
            "        [0.5000],\n",
            "        [0.5000],\n",
            "        [0.5000],\n",
            "        [0.5000]], grad_fn=<SigmoidBackward0>)\n",
            "torch.Size([6, 1])\n"
          ]
        }
      ]
    },
    {
      "cell_type": "markdown",
      "metadata": {
        "id": "uBhMIs11_JC9"
      },
      "source": [
        "#### Computing the Loss Function (Low-level)"
      ]
    },
    {
      "cell_type": "markdown",
      "metadata": {
        "id": "hKtKKh3n_JC9"
      },
      "source": [
        "$$\\text{Loss}(\\textbf{w})=-\\dfrac{1}{N}\\sum y\\text{log}(f(\\textbf{x}))+(1-y)\\text{log}(1-f(\\textbf{x})) $$   "
      ]
    },
    {
      "cell_type": "markdown",
      "metadata": {
        "id": "0FvP_PXg_JC9"
      },
      "source": [
        " `hypothesis` and `y_train` 사이의 차이를 측정하고 싶음."
      ]
    },
    {
      "cell_type": "code",
      "metadata": {
        "id": "daXF82d1_JC9",
        "colab": {
          "base_uri": "https://localhost:8080/"
        },
        "outputId": "be5e9716-8f54-4314-ef52-51d4523e28dd"
      },
      "source": [
        "print(hypothesis)\n",
        "print(y_train)"
      ],
      "execution_count": null,
      "outputs": [
        {
          "output_type": "stream",
          "name": "stdout",
          "text": [
            "tensor([[0.5000],\n",
            "        [0.5000],\n",
            "        [0.5000],\n",
            "        [0.5000],\n",
            "        [0.5000],\n",
            "        [0.5000]], grad_fn=<SigmoidBackward0>)\n",
            "tensor([[0.],\n",
            "        [0.],\n",
            "        [0.],\n",
            "        [1.],\n",
            "        [1.],\n",
            "        [1.]])\n"
          ]
        }
      ]
    },
    {
      "cell_type": "markdown",
      "metadata": {
        "id": "7r_BO9ZM_JC-"
      },
      "source": [
        "하나의 데이터에 대해서 다음과 같이 계산 가능"
      ]
    },
    {
      "cell_type": "code",
      "metadata": {
        "id": "xNwzPcpI_JC-",
        "colab": {
          "base_uri": "https://localhost:8080/"
        },
        "outputId": "9836f812-13af-4b63-e2dc-23e5385ff03f"
      },
      "source": [
        "# train의 첫번째 데이터 만 해보는 거기에 인덱스는 [0]!\n",
        "-(y_train[0] * torch.log(hypothesis[0]) + \n",
        "  (1 - y_train[0]) * torch.log(1 - hypothesis[0]))"
      ],
      "execution_count": null,
      "outputs": [
        {
          "output_type": "execute_result",
          "data": {
            "text/plain": [
              "tensor([0.6931], grad_fn=<NegBackward0>)"
            ]
          },
          "metadata": {},
          "execution_count": 18
        }
      ]
    },
    {
      "cell_type": "markdown",
      "metadata": {
        "id": "HVijn88b_JC_"
      },
      "source": [
        "전체 데이터에 대해서는 다음과 같이 간단하게 계산 가능"
      ]
    },
    {
      "cell_type": "code",
      "metadata": {
        "id": "fUMktKKh_JC_",
        "colab": {
          "base_uri": "https://localhost:8080/"
        },
        "outputId": "57822354-261c-4ba2-8262-4dbbc2a8e6d9"
      },
      "source": [
        "losses = -(y_train * torch.log(hypothesis) + \n",
        "           (1 - y_train) * torch.log(1 - hypothesis))\n",
        "print(losses)"
      ],
      "execution_count": null,
      "outputs": [
        {
          "output_type": "stream",
          "name": "stdout",
          "text": [
            "tensor([[0.6931],\n",
            "        [0.6931],\n",
            "        [0.6931],\n",
            "        [0.6931],\n",
            "        [0.6931],\n",
            "        [0.6931]], grad_fn=<NegBackward0>)\n"
          ]
        }
      ]
    },
    {
      "cell_type": "markdown",
      "metadata": {
        "id": "p6ddLPwB_JC_"
      },
      "source": [
        "`.mean()` 을 사용하여 평균을 취함"
      ]
    },
    {
      "cell_type": "code",
      "metadata": {
        "id": "VpbOMfR-_JC_",
        "colab": {
          "base_uri": "https://localhost:8080/"
        },
        "outputId": "d149fa23-cac5-4c13-dc5d-52459b7b6a96"
      },
      "source": [
        "# loss의 평균\n",
        "cost = losses.mean()\n",
        "print(cost)"
      ],
      "execution_count": null,
      "outputs": [
        {
          "output_type": "stream",
          "name": "stdout",
          "text": [
            "tensor(0.6931, grad_fn=<MeanBackward0>)\n"
          ]
        }
      ]
    },
    {
      "cell_type": "markdown",
      "metadata": {
        "id": "DkMGAmgP_JDA"
      },
      "source": [
        "#### Computing the Cost Function with `F.binary_cross_entropy`"
      ]
    },
    {
      "cell_type": "markdown",
      "metadata": {
        "id": "FM5AVk6D_JDA"
      },
      "source": [
        "실제로는 binary classification은 자주 쓰이기 때문에 pytorch에 `F.binary_cross_entropy` 라는 함수가 구현돼있음\n",
        "\n",
        "(지난번 실습의 `torch.nn.MSELoss`처럼)"
      ]
    },
    {
      "cell_type": "code",
      "metadata": {
        "id": "km1tKeBS_JDA",
        "colab": {
          "base_uri": "https://localhost:8080/"
        },
        "outputId": "7c8dc967-0281-4c5f-9fa7-aa5c3829f8aa"
      },
      "source": [
        "#F.binary_cross_entropy 함수로 바로 구현!\n",
        "F.binary_cross_entropy(hypothesis, y_train)"
      ],
      "execution_count": null,
      "outputs": [
        {
          "output_type": "execute_result",
          "data": {
            "text/plain": [
              "tensor(0.6931, grad_fn=<BinaryCrossEntropyBackward0>)"
            ]
          },
          "metadata": {},
          "execution_count": 23
        }
      ]
    },
    {
      "cell_type": "markdown",
      "metadata": {
        "id": "6lkEwRky_JDA"
      },
      "source": [
        "#### Training with Low-level Binary Cross Entropy Loss"
      ]
    },
    {
      "cell_type": "code",
      "metadata": {
        "id": "SmGpKdon_JDA"
      },
      "source": [
        "x_data = [[1, 2], [2, 3], [3, 1], [4, 3], [5, 3], [6, 2]]\n",
        "y_data = [[0], [0], [0], [1], [1], [1]]\n",
        "x_train = torch.FloatTensor(x_data)\n",
        "y_train = torch.FloatTensor(y_data)"
      ],
      "execution_count": null,
      "outputs": []
    },
    {
      "cell_type": "code",
      "metadata": {
        "id": "Nq-9JTuw_JDB",
        "colab": {
          "base_uri": "https://localhost:8080/"
        },
        "outputId": "224c3c76-d924-4062-a9c7-39a75192a7c2"
      },
      "source": [
        "# 모델 초기화\n",
        "W = torch.zeros((2, 1), requires_grad=True)\n",
        "b = torch.zeros(1, requires_grad=True)\n",
        "# optimizer 설정\n",
        "#gradient descent로 할거기에 sgd사용, 일단 러닝 레이트는 1!\n",
        "optimizer = optim.SGD([W, b], lr=1)\n",
        "\n",
        "nb_epochs = 1000\n",
        "for epoch in range(nb_epochs + 1):\n",
        "\n",
        "    # Cost 계산(원래 계산하던 방식!)\n",
        "    hypothesis = torch.sigmoid(x_train.matmul(W) + b) # or .mm or @\n",
        "    cost = -(y_train * torch.log(hypothesis) + \n",
        "             (1 - y_train) * torch.log(1 - hypothesis)).mean()\n",
        "\n",
        "    # cost로 H(x) 개선\n",
        "    optimizer.zero_grad()\n",
        "    cost.backward()\n",
        "    optimizer.step()\n",
        "\n",
        "    # 100번마다 로그 출력\n",
        "    if epoch % 100 == 0:\n",
        "        print('Epoch {:4d}/{} Cost: {:.6f}'.format(\n",
        "            epoch, nb_epochs, cost.item()\n",
        "        ))"
      ],
      "execution_count": null,
      "outputs": [
        {
          "output_type": "stream",
          "name": "stdout",
          "text": [
            "Epoch    0/1000 Cost: 0.693147\n",
            "Epoch  100/1000 Cost: 0.134722\n",
            "Epoch  200/1000 Cost: 0.080643\n",
            "Epoch  300/1000 Cost: 0.057900\n",
            "Epoch  400/1000 Cost: 0.045300\n",
            "Epoch  500/1000 Cost: 0.037261\n",
            "Epoch  600/1000 Cost: 0.031673\n",
            "Epoch  700/1000 Cost: 0.027556\n",
            "Epoch  800/1000 Cost: 0.024394\n",
            "Epoch  900/1000 Cost: 0.021888\n",
            "Epoch 1000/1000 Cost: 0.019852\n"
          ]
        }
      ]
    },
    {
      "cell_type": "markdown",
      "metadata": {
        "id": "IdgFkWxY_JDB"
      },
      "source": [
        "#### Training with `F.binary_cross_entropy`"
      ]
    },
    {
      "cell_type": "code",
      "metadata": {
        "id": "tGDpj5xS_JDB",
        "colab": {
          "base_uri": "https://localhost:8080/"
        },
        "outputId": "7e5f5a11-f6ef-4bef-f437-e6e2bbbe4370"
      },
      "source": [
        "# 모델 초기화\n",
        "W = torch.zeros((2, 1), requires_grad=True)\n",
        "b = torch.zeros(1, requires_grad=True)\n",
        "# optimizer 설정\n",
        "optimizer = optim.SGD([W, b], lr=1)\n",
        "\n",
        "nb_epochs = 1000\n",
        "for epoch in range(nb_epochs + 1):\n",
        "\n",
        "    # Cost 계산(F.binary_cross_entropy함수를 써서 계산!)\n",
        "    hypothesis = torch.sigmoid(x_train.matmul(W) + b) # or .mm or @\n",
        "    cost = F.binary_cross_entropy(hypothesis, y_train)\n",
        "\n",
        "    # cost로 H(x) 개선\n",
        "    optimizer.zero_grad()\n",
        "    cost.backward()\n",
        "    optimizer.step()\n",
        "\n",
        "    # 100번마다 로그 출력\n",
        "    if epoch % 100 == 0:\n",
        "        print('Epoch {:4d}/{} Cost: {:.6f}'.format(\n",
        "            epoch, nb_epochs, cost.item()\n",
        "        ))"
      ],
      "execution_count": null,
      "outputs": [
        {
          "output_type": "stream",
          "name": "stdout",
          "text": [
            "Epoch    0/1000 Cost: 0.693147\n",
            "Epoch  100/1000 Cost: 0.134722\n",
            "Epoch  200/1000 Cost: 0.080643\n",
            "Epoch  300/1000 Cost: 0.057900\n",
            "Epoch  400/1000 Cost: 0.045300\n",
            "Epoch  500/1000 Cost: 0.037261\n",
            "Epoch  600/1000 Cost: 0.031672\n",
            "Epoch  700/1000 Cost: 0.027556\n",
            "Epoch  800/1000 Cost: 0.024394\n",
            "Epoch  900/1000 Cost: 0.021888\n",
            "Epoch 1000/1000 Cost: 0.019852\n"
          ]
        }
      ]
    },
    {
      "cell_type": "markdown",
      "metadata": {
        "id": "ptwVT_adBwcD"
      },
      "source": [
        "## Logistic Regression with Real Data"
      ]
    },
    {
      "cell_type": "markdown",
      "metadata": {
        "id": "xGn6i4npzmwP"
      },
      "source": [
        "### Load File from Google Drive"
      ]
    },
    {
      "cell_type": "code",
      "metadata": {
        "id": "9HF3DXVMP66k",
        "colab": {
          "base_uri": "https://localhost:8080/"
        },
        "outputId": "665a73e3-3ee0-4ce5-fb61-43d54d7c207a"
      },
      "source": [
        "from google.colab import drive\n",
        "drive.mount('/content/drive')\n"
      ],
      "execution_count": null,
      "outputs": [
        {
          "output_type": "stream",
          "name": "stdout",
          "text": [
            "Mounted at /content/drive\n"
          ]
        }
      ]
    },
    {
      "cell_type": "code",
      "metadata": {
        "id": "KoZswxPe2qFw"
      },
      "source": [
        "import pandas as pd\n",
        "import numpy as np\n",
        "import matplotlib.pyplot as plt\n",
        "%matplotlib inline"
      ],
      "execution_count": null,
      "outputs": []
    },
    {
      "cell_type": "code",
      "metadata": {
        "id": "THzp4Jbj2_WJ",
        "colab": {
          "base_uri": "https://localhost:8080/",
          "height": 324
        },
        "outputId": "8c619e46-0e18-4d99-f79a-b238c9381433"
      },
      "source": [
        "diabetes = pd.read_csv('/content/drive/MyDrive/Colab Notebooks/data/diabetes.csv')\n",
        "print(diabetes.columns)\n",
        "diabetes.head()"
      ],
      "execution_count": null,
      "outputs": [
        {
          "output_type": "stream",
          "name": "stdout",
          "text": [
            "Index(['Pregnancies', 'Glucose', 'BloodPressure', 'SkinThickness', 'Insulin',\n",
            "       'BMI', 'DiabetesPedigreeFunction', 'Age', 'Outcome'],\n",
            "      dtype='object')\n"
          ]
        },
        {
          "output_type": "execute_result",
          "data": {
            "text/plain": [
              "   Pregnancies  Glucose  BloodPressure  SkinThickness  Insulin   BMI  \\\n",
              "0            6      148             72             35        0  33.6   \n",
              "1            1       85             66             29        0  26.6   \n",
              "2            8      183             64              0        0  23.3   \n",
              "3            1       89             66             23       94  28.1   \n",
              "4            0      137             40             35      168  43.1   \n",
              "\n",
              "   DiabetesPedigreeFunction  Age  Outcome  \n",
              "0                     0.627   50        1  \n",
              "1                     0.351   31        0  \n",
              "2                     0.672   32        1  \n",
              "3                     0.167   21        0  \n",
              "4                     2.288   33        1  "
            ],
            "text/html": [
              "\n",
              "  <div id=\"df-5d01f587-6817-40c1-873f-669de0c16a71\">\n",
              "    <div class=\"colab-df-container\">\n",
              "      <div>\n",
              "<style scoped>\n",
              "    .dataframe tbody tr th:only-of-type {\n",
              "        vertical-align: middle;\n",
              "    }\n",
              "\n",
              "    .dataframe tbody tr th {\n",
              "        vertical-align: top;\n",
              "    }\n",
              "\n",
              "    .dataframe thead th {\n",
              "        text-align: right;\n",
              "    }\n",
              "</style>\n",
              "<table border=\"1\" class=\"dataframe\">\n",
              "  <thead>\n",
              "    <tr style=\"text-align: right;\">\n",
              "      <th></th>\n",
              "      <th>Pregnancies</th>\n",
              "      <th>Glucose</th>\n",
              "      <th>BloodPressure</th>\n",
              "      <th>SkinThickness</th>\n",
              "      <th>Insulin</th>\n",
              "      <th>BMI</th>\n",
              "      <th>DiabetesPedigreeFunction</th>\n",
              "      <th>Age</th>\n",
              "      <th>Outcome</th>\n",
              "    </tr>\n",
              "  </thead>\n",
              "  <tbody>\n",
              "    <tr>\n",
              "      <th>0</th>\n",
              "      <td>6</td>\n",
              "      <td>148</td>\n",
              "      <td>72</td>\n",
              "      <td>35</td>\n",
              "      <td>0</td>\n",
              "      <td>33.6</td>\n",
              "      <td>0.627</td>\n",
              "      <td>50</td>\n",
              "      <td>1</td>\n",
              "    </tr>\n",
              "    <tr>\n",
              "      <th>1</th>\n",
              "      <td>1</td>\n",
              "      <td>85</td>\n",
              "      <td>66</td>\n",
              "      <td>29</td>\n",
              "      <td>0</td>\n",
              "      <td>26.6</td>\n",
              "      <td>0.351</td>\n",
              "      <td>31</td>\n",
              "      <td>0</td>\n",
              "    </tr>\n",
              "    <tr>\n",
              "      <th>2</th>\n",
              "      <td>8</td>\n",
              "      <td>183</td>\n",
              "      <td>64</td>\n",
              "      <td>0</td>\n",
              "      <td>0</td>\n",
              "      <td>23.3</td>\n",
              "      <td>0.672</td>\n",
              "      <td>32</td>\n",
              "      <td>1</td>\n",
              "    </tr>\n",
              "    <tr>\n",
              "      <th>3</th>\n",
              "      <td>1</td>\n",
              "      <td>89</td>\n",
              "      <td>66</td>\n",
              "      <td>23</td>\n",
              "      <td>94</td>\n",
              "      <td>28.1</td>\n",
              "      <td>0.167</td>\n",
              "      <td>21</td>\n",
              "      <td>0</td>\n",
              "    </tr>\n",
              "    <tr>\n",
              "      <th>4</th>\n",
              "      <td>0</td>\n",
              "      <td>137</td>\n",
              "      <td>40</td>\n",
              "      <td>35</td>\n",
              "      <td>168</td>\n",
              "      <td>43.1</td>\n",
              "      <td>2.288</td>\n",
              "      <td>33</td>\n",
              "      <td>1</td>\n",
              "    </tr>\n",
              "  </tbody>\n",
              "</table>\n",
              "</div>\n",
              "      <button class=\"colab-df-convert\" onclick=\"convertToInteractive('df-5d01f587-6817-40c1-873f-669de0c16a71')\"\n",
              "              title=\"Convert this dataframe to an interactive table.\"\n",
              "              style=\"display:none;\">\n",
              "        \n",
              "  <svg xmlns=\"http://www.w3.org/2000/svg\" height=\"24px\"viewBox=\"0 0 24 24\"\n",
              "       width=\"24px\">\n",
              "    <path d=\"M0 0h24v24H0V0z\" fill=\"none\"/>\n",
              "    <path d=\"M18.56 5.44l.94 2.06.94-2.06 2.06-.94-2.06-.94-.94-2.06-.94 2.06-2.06.94zm-11 1L8.5 8.5l.94-2.06 2.06-.94-2.06-.94L8.5 2.5l-.94 2.06-2.06.94zm10 10l.94 2.06.94-2.06 2.06-.94-2.06-.94-.94-2.06-.94 2.06-2.06.94z\"/><path d=\"M17.41 7.96l-1.37-1.37c-.4-.4-.92-.59-1.43-.59-.52 0-1.04.2-1.43.59L10.3 9.45l-7.72 7.72c-.78.78-.78 2.05 0 2.83L4 21.41c.39.39.9.59 1.41.59.51 0 1.02-.2 1.41-.59l7.78-7.78 2.81-2.81c.8-.78.8-2.07 0-2.86zM5.41 20L4 18.59l7.72-7.72 1.47 1.35L5.41 20z\"/>\n",
              "  </svg>\n",
              "      </button>\n",
              "      \n",
              "  <style>\n",
              "    .colab-df-container {\n",
              "      display:flex;\n",
              "      flex-wrap:wrap;\n",
              "      gap: 12px;\n",
              "    }\n",
              "\n",
              "    .colab-df-convert {\n",
              "      background-color: #E8F0FE;\n",
              "      border: none;\n",
              "      border-radius: 50%;\n",
              "      cursor: pointer;\n",
              "      display: none;\n",
              "      fill: #1967D2;\n",
              "      height: 32px;\n",
              "      padding: 0 0 0 0;\n",
              "      width: 32px;\n",
              "    }\n",
              "\n",
              "    .colab-df-convert:hover {\n",
              "      background-color: #E2EBFA;\n",
              "      box-shadow: 0px 1px 2px rgba(60, 64, 67, 0.3), 0px 1px 3px 1px rgba(60, 64, 67, 0.15);\n",
              "      fill: #174EA6;\n",
              "    }\n",
              "\n",
              "    [theme=dark] .colab-df-convert {\n",
              "      background-color: #3B4455;\n",
              "      fill: #D2E3FC;\n",
              "    }\n",
              "\n",
              "    [theme=dark] .colab-df-convert:hover {\n",
              "      background-color: #434B5C;\n",
              "      box-shadow: 0px 1px 3px 1px rgba(0, 0, 0, 0.15);\n",
              "      filter: drop-shadow(0px 1px 2px rgba(0, 0, 0, 0.3));\n",
              "      fill: #FFFFFF;\n",
              "    }\n",
              "  </style>\n",
              "\n",
              "      <script>\n",
              "        const buttonEl =\n",
              "          document.querySelector('#df-5d01f587-6817-40c1-873f-669de0c16a71 button.colab-df-convert');\n",
              "        buttonEl.style.display =\n",
              "          google.colab.kernel.accessAllowed ? 'block' : 'none';\n",
              "\n",
              "        async function convertToInteractive(key) {\n",
              "          const element = document.querySelector('#df-5d01f587-6817-40c1-873f-669de0c16a71');\n",
              "          const dataTable =\n",
              "            await google.colab.kernel.invokeFunction('convertToInteractive',\n",
              "                                                     [key], {});\n",
              "          if (!dataTable) return;\n",
              "\n",
              "          const docLinkHtml = 'Like what you see? Visit the ' +\n",
              "            '<a target=\"_blank\" href=https://colab.research.google.com/notebooks/data_table.ipynb>data table notebook</a>'\n",
              "            + ' to learn more about interactive tables.';\n",
              "          element.innerHTML = '';\n",
              "          dataTable['output_type'] = 'display_data';\n",
              "          await google.colab.output.renderOutput(dataTable, element);\n",
              "          const docLink = document.createElement('div');\n",
              "          docLink.innerHTML = docLinkHtml;\n",
              "          element.appendChild(docLink);\n",
              "        }\n",
              "      </script>\n",
              "    </div>\n",
              "  </div>\n",
              "  "
            ]
          },
          "metadata": {},
          "execution_count": 47
        }
      ]
    },
    {
      "cell_type": "code",
      "metadata": {
        "id": "mWuXP-WfSlWn",
        "colab": {
          "base_uri": "https://localhost:8080/"
        },
        "outputId": "78e39cae-4bb8-4438-c060-f5df6357b5fe"
      },
      "source": [
        "type(diabetes)"
      ],
      "execution_count": null,
      "outputs": [
        {
          "output_type": "execute_result",
          "data": {
            "text/plain": [
              "pandas.core.frame.DataFrame"
            ]
          },
          "metadata": {},
          "execution_count": 48
        }
      ]
    },
    {
      "cell_type": "code",
      "metadata": {
        "id": "4kBQn8iS3ILG",
        "colab": {
          "base_uri": "https://localhost:8080/"
        },
        "outputId": "42eec1bf-87a3-4264-9273-e64290b7230a"
      },
      "source": [
        "print(\"dimension of diabetes data: {}\".format(diabetes.shape))"
      ],
      "execution_count": null,
      "outputs": [
        {
          "output_type": "stream",
          "name": "stdout",
          "text": [
            "dimension of diabetes data: (768, 9)\n"
          ]
        }
      ]
    },
    {
      "cell_type": "markdown",
      "metadata": {
        "id": "mhbQXxdWDvAf"
      },
      "source": [
        "### Split and prepare the dataset"
      ]
    },
    {
      "cell_type": "code",
      "metadata": {
        "id": "7R_psvxgCMmw"
      },
      "source": [
        "train = diabetes[:650]\n",
        "test = diabetes[650:]"
      ],
      "execution_count": null,
      "outputs": []
    },
    {
      "cell_type": "code",
      "metadata": {
        "id": "yC5Y6XJ4Cy1r",
        "colab": {
          "base_uri": "https://localhost:8080/"
        },
        "outputId": "e8aed27a-5250-45c7-a4a8-499e92394f14"
      },
      "source": [
        "#1=> 당뇨병 0=> 아닌것\n",
        "print(train.groupby('Outcome').size())"
      ],
      "execution_count": null,
      "outputs": [
        {
          "output_type": "stream",
          "name": "stdout",
          "text": [
            "Outcome\n",
            "0    427\n",
            "1    223\n",
            "dtype: int64\n"
          ]
        }
      ]
    },
    {
      "cell_type": "markdown",
      "metadata": {
        "id": "sxxOmGS5C9WJ"
      },
      "source": [
        "imbalanced dataset임을 확인 가능"
      ]
    },
    {
      "cell_type": "code",
      "metadata": {
        "id": "-dI4nxZjCXDn",
        "colab": {
          "base_uri": "https://localhost:8080/"
        },
        "outputId": "79667e39-d6e7-43cb-d2c4-f8b63b3f7b22"
      },
      "source": [
        "x_train = np.asarray(train.drop('Outcome',1))#train 레이블에서 outcome 1개열 제외! \n",
        "y_train = np.asarray(train['Outcome'])\n",
        "# print(train.drop('Outcome',1))\n",
        "# print(y_train)\n",
        "x_test = np.asarray(test.drop('Outcome',1))\n",
        "y_test = np.asarray(test['Outcome'])"
      ],
      "execution_count": null,
      "outputs": [
        {
          "output_type": "stream",
          "name": "stderr",
          "text": [
            "/usr/local/lib/python3.7/dist-packages/ipykernel_launcher.py:1: FutureWarning: In a future version of pandas all arguments of DataFrame.drop except for the argument 'labels' will be keyword-only\n",
            "  \"\"\"Entry point for launching an IPython kernel.\n",
            "/usr/local/lib/python3.7/dist-packages/ipykernel_launcher.py:5: FutureWarning: In a future version of pandas all arguments of DataFrame.drop except for the argument 'labels' will be keyword-only\n",
            "  \"\"\"\n"
          ]
        }
      ]
    },
    {
      "cell_type": "markdown",
      "metadata": {
        "id": "rKsVsvj-CuIt"
      },
      "source": [
        "input을 normalize 해준다."
      ]
    },
    {
      "cell_type": "code",
      "metadata": {
        "id": "to0XDQVsDBsR"
      },
      "source": [
        "means = np.mean(x_train, axis=0)# axis=0 ==>  행에 따라서 계산==>열들의 평균!\n",
        "stds = np.std(x_train, axis=0)\n",
        "x_train = (x_train - means)/stds\n",
        "x_test = (x_test - means)/stds"
      ],
      "execution_count": null,
      "outputs": []
    },
    {
      "cell_type": "code",
      "metadata": {
        "id": "KCnmDIO2Ew1g",
        "colab": {
          "base_uri": "https://localhost:8080/"
        },
        "outputId": "f7aac135-40ee-4474-c7db-8204902125a6"
      },
      "source": [
        "\n",
        "x_train = torch.FloatTensor(x_train)\n",
        "print(x_train.shape)\n",
        "print(y_train.shape)\n",
        "y_train = torch.FloatTensor(y_train).unsqueeze(-1) #차원을 늘려서 맟춰줌!\n",
        "print(y_train.shape)\n",
        "x_test = torch.FloatTensor(x_test)\n",
        "y_test = torch.FloatTensor(y_test).unsqueeze(-1)"
      ],
      "execution_count": null,
      "outputs": [
        {
          "output_type": "stream",
          "name": "stdout",
          "text": [
            "torch.Size([650, 8])\n",
            "(650,)\n",
            "torch.Size([650, 1])\n"
          ]
        }
      ]
    },
    {
      "cell_type": "markdown",
      "metadata": {
        "id": "Ozuh4Z3VEUAI"
      },
      "source": [
        "### Training with F.binary_cross_entropy"
      ]
    },
    {
      "cell_type": "code",
      "metadata": {
        "id": "MYkE08usDNRL",
        "colab": {
          "base_uri": "https://localhost:8080/"
        },
        "outputId": "80e05e76-c756-4bc4-f74d-bc21db305d20"
      },
      "source": [
        "# 모델 초기화\n",
        "W = torch.zeros((8, 1), requires_grad=True)\n",
        "b = torch.zeros(1, requires_grad=True)\n",
        "# optimizer 설정\n",
        "optimizer = optim.SGD([W, b], lr=1)\n",
        "\n",
        "nb_epochs = 100\n",
        "for epoch in range(nb_epochs + 1):\n",
        "\n",
        "    # Cost 계산\n",
        "    hypothesis = torch.sigmoid(x_train.matmul(W) + b) # or .mm or @\n",
        "    cost = F.binary_cross_entropy(hypothesis, y_train)\n",
        "\n",
        "    # cost로 f(x) 개선\n",
        "    optimizer.zero_grad()\n",
        "    cost.backward()\n",
        "    optimizer.step()\n",
        "\n",
        "    # 10번마다 로그 출력\n",
        "    if epoch % 10 == 0:\n",
        "        print('Epoch {:4d}/{} Cost: {:.6f}'.format(\n",
        "            epoch, nb_epochs, cost.item()\n",
        "        ))"
      ],
      "execution_count": null,
      "outputs": [
        {
          "output_type": "stream",
          "name": "stdout",
          "text": [
            "Epoch    0/100 Cost: 0.693147\n",
            "Epoch   10/100 Cost: 0.477473\n",
            "Epoch   20/100 Cost: 0.468751\n",
            "Epoch   30/100 Cost: 0.467308\n",
            "Epoch   40/100 Cost: 0.467003\n",
            "Epoch   50/100 Cost: 0.466932\n",
            "Epoch   60/100 Cost: 0.466914\n",
            "Epoch   70/100 Cost: 0.466910\n",
            "Epoch   80/100 Cost: 0.466909\n",
            "Epoch   90/100 Cost: 0.466908\n",
            "Epoch  100/100 Cost: 0.466908\n"
          ]
        }
      ]
    },
    {
      "cell_type": "markdown",
      "metadata": {
        "id": "R3Ji-PfWGWgY"
      },
      "source": [
        "### Test Accuracy"
      ]
    },
    {
      "cell_type": "code",
      "metadata": {
        "id": "l4qojW57U_DT",
        "colab": {
          "base_uri": "https://localhost:8080/"
        },
        "outputId": "366761b4-9503-426f-804b-e369f35d5c55"
      },
      "source": [
        "W, b"
      ],
      "execution_count": null,
      "outputs": [
        {
          "output_type": "execute_result",
          "data": {
            "text/plain": [
              "(tensor([[ 0.4520],\n",
              "         [ 1.0729],\n",
              "         [-0.2492],\n",
              "         [-0.0065],\n",
              "         [-0.1097],\n",
              "         [ 0.7790],\n",
              "         [ 0.3553],\n",
              "         [ 0.1201]], requires_grad=True),\n",
              " tensor([-0.9190], requires_grad=True))"
            ]
          },
          "metadata": {},
          "execution_count": 91
        }
      ]
    },
    {
      "cell_type": "code",
      "metadata": {
        "id": "zCMVKeM2GhXB",
        "colab": {
          "base_uri": "https://localhost:8080/"
        },
        "outputId": "d0efe4cb-b9b3-4b0c-89c0-1da9a4357736"
      },
      "source": [
        "hypothesis = torch.sigmoid(x_test.matmul(W) + b)\n",
        "prediction = hypothesis >= torch.FloatTensor([0.5]) #0.5 보다 크면 true 작으면 false\n",
        "correct_prediction = prediction.float() == y_test\n",
        "accuracy = correct_prediction.sum().item() / len(correct_prediction)\n",
        "print('The model has an accuracy of {:2.2f}% for the test set.'.format(accuracy * 100))"
      ],
      "execution_count": null,
      "outputs": [
        {
          "output_type": "stream",
          "name": "stdout",
          "text": [
            "The model has an accuracy of 78.81% for the test set.\n"
          ]
        }
      ]
    },
    {
      "cell_type": "markdown",
      "metadata": {
        "id": "il5iL00VGanK"
      },
      "source": [
        "## (Optional) Balancing the training set"
      ]
    },
    {
      "cell_type": "code",
      "metadata": {
        "id": "t_AcaEkeEb2V",
        "colab": {
          "base_uri": "https://localhost:8080/"
        },
        "outputId": "ecc23d29-38ce-4466-b78b-7e64988db3ca"
      },
      "source": [
        "#전에는 inbalance(1이 더 많음)이었으나 이번에는 balancing!\n",
        "x_train = np.asarray(train.drop('Outcome',1))\n",
        "y_train = np.asarray(train['Outcome'])\n",
        "x_test = np.asarray(test.drop('Outcome',1))\n",
        "y_test = np.asarray(test['Outcome'])\n",
        "means = np.mean(x_train, axis=0)\n",
        "stds = np.std(x_train, axis=0)\n",
        "x_train = (x_train - means)/stds\n",
        "x_test = (x_test - means)/stds"
      ],
      "execution_count": null,
      "outputs": [
        {
          "output_type": "stream",
          "name": "stderr",
          "text": [
            "/usr/local/lib/python3.7/dist-packages/ipykernel_launcher.py:2: FutureWarning: In a future version of pandas all arguments of DataFrame.drop except for the argument 'labels' will be keyword-only\n",
            "  \n",
            "/usr/local/lib/python3.7/dist-packages/ipykernel_launcher.py:4: FutureWarning: In a future version of pandas all arguments of DataFrame.drop except for the argument 'labels' will be keyword-only\n",
            "  after removing the cwd from sys.path.\n"
          ]
        }
      ]
    },
    {
      "cell_type": "code",
      "metadata": {
        "id": "FZy3OEY0HN6y"
      },
      "source": [
        "#레이블이 0 인 데이터, 1인 데이터를 각각 쪼갬\n",
        "x_train_pos = x_train[y_train == 0]\n",
        "x_train_neg = x_train[y_train == 1]\n",
        "y_train_pos = y_train[y_train == 0]\n",
        "y_train_neg = y_train[y_train == 1]"
      ],
      "execution_count": null,
      "outputs": []
    },
    {
      "cell_type": "code",
      "metadata": {
        "id": "X1eZ9tJCIDzW",
        "colab": {
          "base_uri": "https://localhost:8080/"
        },
        "outputId": "feac20ed-7f2e-47ed-df8f-7c6363ed1722"
      },
      "source": [
        "x_train_pos.shape, x_train_neg.shape"
      ],
      "execution_count": null,
      "outputs": [
        {
          "output_type": "execute_result",
          "data": {
            "text/plain": [
              "((427, 8), (427, 8))"
            ]
          },
          "metadata": {},
          "execution_count": 75
        }
      ]
    },
    {
      "cell_type": "code",
      "metadata": {
        "id": "hhGla92yIXfX"
      },
      "source": [
        "ids = np.arange(len(x_train_neg))#0~222 개\n",
        "choices = np.random.choice(ids, len(x_train_pos)) # 0~222의 인덱스중 427개를 뽑음\n",
        "x_train_neg = x_train_neg[choices]\n",
        "y_train_neg = y_train_neg[choices]"
      ],
      "execution_count": null,
      "outputs": []
    },
    {
      "cell_type": "code",
      "metadata": {
        "id": "GtFyJOWZJQlL",
        "colab": {
          "base_uri": "https://localhost:8080/"
        },
        "outputId": "37f2733c-35f9-4edf-81c6-60457483efb7"
      },
      "source": [
        "x_train = np.concatenate([x_train_pos, x_train_neg], axis=0) #첫번째 축에 대하여 pos와 neg를 합침!\n",
        "y_train = np.concatenate([y_train_pos, y_train_neg], axis=0)\n",
        "\n",
        "order = np.arange(len(x_train))\n",
        "np.random.shuffle(order)# 순서를 섞음\n",
        "print(x_train.shape)\n",
        "x_train = x_train[order]\n",
        "y_train = y_train[order]"
      ],
      "execution_count": null,
      "outputs": [
        {
          "output_type": "stream",
          "name": "stdout",
          "text": [
            "(854, 8)\n"
          ]
        }
      ]
    },
    {
      "cell_type": "code",
      "metadata": {
        "id": "7trLOiUfKCKv"
      },
      "source": [
        "x_train = torch.FloatTensor(x_train)\n",
        "y_train = torch.FloatTensor(y_train).unsqueeze(-1)\n",
        "x_test = torch.FloatTensor(x_test)\n",
        "y_test = torch.FloatTensor(y_test).unsqueeze(-1)"
      ],
      "execution_count": null,
      "outputs": []
    },
    {
      "cell_type": "markdown",
      "metadata": {
        "id": "vS80UNMPKCKx"
      },
      "source": [
        "### Training with F.binary_cross_entropy"
      ]
    },
    {
      "cell_type": "code",
      "metadata": {
        "id": "1P5miFc0KCKx",
        "colab": {
          "base_uri": "https://localhost:8080/"
        },
        "outputId": "9477869e-03d5-46f4-aade-116f4160264f"
      },
      "source": [
        "# 모델 초기화\n",
        "W = torch.zeros((8, 1), requires_grad=True)\n",
        "b = torch.zeros(1, requires_grad=True)\n",
        "# optimizer 설정\n",
        "optimizer = optim.SGD([W, b], lr=1)\n",
        "\n",
        "nb_epochs = 100\n",
        "for epoch in range(nb_epochs + 1):\n",
        "\n",
        "    # Cost 계산\n",
        "    hypothesis = torch.sigmoid(x_train.matmul(W) + b) # or .mm or @\n",
        "    cost = F.binary_cross_entropy(hypothesis, y_train)\n",
        "\n",
        "    # cost로 f(x) 개선\n",
        "    optimizer.zero_grad()\n",
        "    cost.backward()\n",
        "    optimizer.step()\n",
        "\n",
        "    # 10번마다 로그 출력\n",
        "    if epoch % 10 == 0:\n",
        "        print('Epoch {:4d}/{} Cost: {:.6f}'.format(\n",
        "            epoch, nb_epochs, cost.item()\n",
        "        ))"
      ],
      "execution_count": null,
      "outputs": [
        {
          "output_type": "stream",
          "name": "stdout",
          "text": [
            "Epoch    0/100 Cost: 0.693147\n",
            "Epoch   10/100 Cost: 0.492706\n",
            "Epoch   20/100 Cost: 0.486290\n",
            "Epoch   30/100 Cost: 0.485155\n",
            "Epoch   40/100 Cost: 0.484899\n",
            "Epoch   50/100 Cost: 0.484835\n",
            "Epoch   60/100 Cost: 0.484818\n",
            "Epoch   70/100 Cost: 0.484813\n",
            "Epoch   80/100 Cost: 0.484812\n",
            "Epoch   90/100 Cost: 0.484811\n",
            "Epoch  100/100 Cost: 0.484811\n"
          ]
        }
      ]
    },
    {
      "cell_type": "markdown",
      "metadata": {
        "id": "iTComXX4KCKy"
      },
      "source": [
        "### Test Accuracy"
      ]
    },
    {
      "cell_type": "code",
      "metadata": {
        "id": "qHADwpx3KCKy",
        "colab": {
          "base_uri": "https://localhost:8080/"
        },
        "outputId": "6706f99a-1075-4865-9268-2343e21b8265"
      },
      "source": [
        "hypothesis = torch.sigmoid(x_test.matmul(W) + b)\n",
        "prediction = hypothesis >= torch.FloatTensor([0.5])\n",
        "correct_prediction = prediction.float() == y_test\n",
        "accuracy = correct_prediction.sum().item() / len(correct_prediction)\n",
        "print('The model has an accuracy of {:2.2f}% for the training set.'.format(accuracy * 100))"
      ],
      "execution_count": null,
      "outputs": [
        {
          "output_type": "stream",
          "name": "stdout",
          "text": [
            "The model has an accuracy of 73.73% for the training set.\n"
          ]
        }
      ]
    },
    {
      "cell_type": "code",
      "metadata": {
        "id": "aECJDSnAWys5"
      },
      "source": [
        ""
      ],
      "execution_count": null,
      "outputs": []
    }
  ]
}